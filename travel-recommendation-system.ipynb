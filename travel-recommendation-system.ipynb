{
 "cells": [
  {
   "cell_type": "markdown",
   "id": "ff714f03",
   "metadata": {
    "papermill": {
     "duration": 0.015918,
     "end_time": "2023-03-06T14:16:38.496648",
     "exception": false,
     "start_time": "2023-03-06T14:16:38.480730",
     "status": "completed"
    },
    "tags": []
   },
   "source": [
    "# Data Understanding"
   ]
  },
  {
   "cell_type": "code",
   "execution_count": 27,
   "id": "b55cad1b",
   "metadata": {
    "execution": {
     "iopub.execute_input": "2023-03-06T14:16:38.530476Z",
     "iopub.status.busy": "2023-03-06T14:16:38.529876Z",
     "iopub.status.idle": "2023-03-06T14:16:39.468557Z",
     "shell.execute_reply": "2023-03-06T14:16:39.467595Z"
    },
    "papermill": {
     "duration": 0.956485,
     "end_time": "2023-03-06T14:16:39.471238",
     "exception": false,
     "start_time": "2023-03-06T14:16:38.514753",
     "status": "completed"
    },
    "tags": []
   },
   "outputs": [],
   "source": [
    "import pandas as pd\n",
    "import seaborn as sns\n",
    "import matplotlib.pyplot as plt\n",
    "\n",
    "DATA_PATH = \"dataset\"\n",
    "\n",
    "tourism = pd.read_csv(f\"{DATA_PATH}/tourism_with_id.csv\")\n",
    "tourism_rating = pd.read_csv(f\"{DATA_PATH}/tourism_rating.csv\")\n",
    "users = pd.read_csv(f\"{DATA_PATH}/user.csv\")"
   ]
  },
  {
   "cell_type": "code",
   "execution_count": 28,
   "id": "baf14339",
   "metadata": {
    "execution": {
     "iopub.execute_input": "2023-03-06T14:16:39.495908Z",
     "iopub.status.busy": "2023-03-06T14:16:39.495603Z",
     "iopub.status.idle": "2023-03-06T14:16:39.519654Z",
     "shell.execute_reply": "2023-03-06T14:16:39.518645Z"
    },
    "papermill": {
     "duration": 0.039744,
     "end_time": "2023-03-06T14:16:39.522781",
     "exception": false,
     "start_time": "2023-03-06T14:16:39.483037",
     "status": "completed"
    },
    "tags": []
   },
   "outputs": [
    {
     "data": {
      "text/html": [
       "<div>\n",
       "<style scoped>\n",
       "    .dataframe tbody tr th:only-of-type {\n",
       "        vertical-align: middle;\n",
       "    }\n",
       "\n",
       "    .dataframe tbody tr th {\n",
       "        vertical-align: top;\n",
       "    }\n",
       "\n",
       "    .dataframe thead th {\n",
       "        text-align: right;\n",
       "    }\n",
       "</style>\n",
       "<table border=\"1\" class=\"dataframe\">\n",
       "  <thead>\n",
       "    <tr style=\"text-align: right;\">\n",
       "      <th></th>\n",
       "      <th>Place_Id</th>\n",
       "      <th>Place_Name</th>\n",
       "      <th>Description</th>\n",
       "      <th>Category</th>\n",
       "      <th>City</th>\n",
       "      <th>Price</th>\n",
       "      <th>Rating</th>\n",
       "      <th>Time_Minutes</th>\n",
       "      <th>Coordinate</th>\n",
       "      <th>Lat</th>\n",
       "      <th>Long</th>\n",
       "      <th>Unnamed: 11</th>\n",
       "      <th>Unnamed: 12</th>\n",
       "    </tr>\n",
       "  </thead>\n",
       "  <tbody>\n",
       "    <tr>\n",
       "      <th>32</th>\n",
       "      <td>33</td>\n",
       "      <td>Taman Suropati</td>\n",
       "      <td>Taman Suropati (awalnya bernama Burgemeester B...</td>\n",
       "      <td>Taman Hiburan</td>\n",
       "      <td>Jakarta</td>\n",
       "      <td>0</td>\n",
       "      <td>4.6</td>\n",
       "      <td>NaN</td>\n",
       "      <td>{'lat': -6.1994034, 'lng': 106.8326228}</td>\n",
       "      <td>-6.199403</td>\n",
       "      <td>106.832623</td>\n",
       "      <td>NaN</td>\n",
       "      <td>33</td>\n",
       "    </tr>\n",
       "    <tr>\n",
       "      <th>429</th>\n",
       "      <td>430</td>\n",
       "      <td>Atlantis Land Surabaya</td>\n",
       "      <td>Sejak diresmikan pada bulan Desember 2017, Atl...</td>\n",
       "      <td>Taman Hiburan</td>\n",
       "      <td>Surabaya</td>\n",
       "      <td>125000</td>\n",
       "      <td>4.4</td>\n",
       "      <td>120.0</td>\n",
       "      <td>{'lat': -7.2516189, 'lng': 112.8009694}</td>\n",
       "      <td>-7.251619</td>\n",
       "      <td>112.800969</td>\n",
       "      <td>NaN</td>\n",
       "      <td>430</td>\n",
       "    </tr>\n",
       "    <tr>\n",
       "      <th>60</th>\n",
       "      <td>61</td>\n",
       "      <td>Tugu Proklamasi</td>\n",
       "      <td>Tugu Proklamasi adalah tugu peringatan proklam...</td>\n",
       "      <td>Budaya</td>\n",
       "      <td>Jakarta</td>\n",
       "      <td>0</td>\n",
       "      <td>4.6</td>\n",
       "      <td>NaN</td>\n",
       "      <td>{'lat': -6.2030468, 'lng': 106.8466623}</td>\n",
       "      <td>-6.203047</td>\n",
       "      <td>106.846662</td>\n",
       "      <td>NaN</td>\n",
       "      <td>61</td>\n",
       "    </tr>\n",
       "    <tr>\n",
       "      <th>2</th>\n",
       "      <td>3</td>\n",
       "      <td>Dunia Fantasi</td>\n",
       "      <td>Dunia Fantasi atau disebut juga Dufan adalah t...</td>\n",
       "      <td>Taman Hiburan</td>\n",
       "      <td>Jakarta</td>\n",
       "      <td>270000</td>\n",
       "      <td>4.6</td>\n",
       "      <td>360.0</td>\n",
       "      <td>{'lat': -6.125312399999999, 'lng': 106.8335377}</td>\n",
       "      <td>-6.125312</td>\n",
       "      <td>106.833538</td>\n",
       "      <td>NaN</td>\n",
       "      <td>3</td>\n",
       "    </tr>\n",
       "    <tr>\n",
       "      <th>389</th>\n",
       "      <td>390</td>\n",
       "      <td>Durian Gardens and Tourism Education Watu Simbar</td>\n",
       "      <td>Perlu diketahui, watu simbar ini merupakan lok...</td>\n",
       "      <td>Cagar Alam</td>\n",
       "      <td>Semarang</td>\n",
       "      <td>5000</td>\n",
       "      <td>4.1</td>\n",
       "      <td>45.0</td>\n",
       "      <td>{'lat': -7.096707899999999, 'lng': 110.3900517}</td>\n",
       "      <td>-7.096708</td>\n",
       "      <td>110.390052</td>\n",
       "      <td>NaN</td>\n",
       "      <td>390</td>\n",
       "    </tr>\n",
       "  </tbody>\n",
       "</table>\n",
       "</div>"
      ],
      "text/plain": [
       "     Place_Id                                        Place_Name  \\\n",
       "32         33                                    Taman Suropati   \n",
       "429       430                            Atlantis Land Surabaya   \n",
       "60         61                                   Tugu Proklamasi   \n",
       "2           3                                     Dunia Fantasi   \n",
       "389       390  Durian Gardens and Tourism Education Watu Simbar   \n",
       "\n",
       "                                           Description       Category  \\\n",
       "32   Taman Suropati (awalnya bernama Burgemeester B...  Taman Hiburan   \n",
       "429  Sejak diresmikan pada bulan Desember 2017, Atl...  Taman Hiburan   \n",
       "60   Tugu Proklamasi adalah tugu peringatan proklam...         Budaya   \n",
       "2    Dunia Fantasi atau disebut juga Dufan adalah t...  Taman Hiburan   \n",
       "389  Perlu diketahui, watu simbar ini merupakan lok...     Cagar Alam   \n",
       "\n",
       "         City   Price  Rating  Time_Minutes  \\\n",
       "32    Jakarta       0     4.6           NaN   \n",
       "429  Surabaya  125000     4.4         120.0   \n",
       "60    Jakarta       0     4.6           NaN   \n",
       "2     Jakarta  270000     4.6         360.0   \n",
       "389  Semarang    5000     4.1          45.0   \n",
       "\n",
       "                                          Coordinate       Lat        Long  \\\n",
       "32           {'lat': -6.1994034, 'lng': 106.8326228} -6.199403  106.832623   \n",
       "429          {'lat': -7.2516189, 'lng': 112.8009694} -7.251619  112.800969   \n",
       "60           {'lat': -6.2030468, 'lng': 106.8466623} -6.203047  106.846662   \n",
       "2    {'lat': -6.125312399999999, 'lng': 106.8335377} -6.125312  106.833538   \n",
       "389  {'lat': -7.096707899999999, 'lng': 110.3900517} -7.096708  110.390052   \n",
       "\n",
       "     Unnamed: 11  Unnamed: 12  \n",
       "32           NaN           33  \n",
       "429          NaN          430  \n",
       "60           NaN           61  \n",
       "2            NaN            3  \n",
       "389          NaN          390  "
      ]
     },
     "execution_count": 28,
     "metadata": {},
     "output_type": "execute_result"
    }
   ],
   "source": [
    "info_tourism.sample(5)"
   ]
  },
  {
   "cell_type": "code",
   "execution_count": 29,
   "id": "470cd461",
   "metadata": {
    "execution": {
     "iopub.execute_input": "2023-03-06T14:16:39.548717Z",
     "iopub.status.busy": "2023-03-06T14:16:39.548358Z",
     "iopub.status.idle": "2023-03-06T14:16:39.558947Z",
     "shell.execute_reply": "2023-03-06T14:16:39.558054Z"
    },
    "papermill": {
     "duration": 0.025899,
     "end_time": "2023-03-06T14:16:39.560988",
     "exception": false,
     "start_time": "2023-03-06T14:16:39.535089",
     "status": "completed"
    },
    "tags": []
   },
   "outputs": [
    {
     "data": {
      "text/html": [
       "<div>\n",
       "<style scoped>\n",
       "    .dataframe tbody tr th:only-of-type {\n",
       "        vertical-align: middle;\n",
       "    }\n",
       "\n",
       "    .dataframe tbody tr th {\n",
       "        vertical-align: top;\n",
       "    }\n",
       "\n",
       "    .dataframe thead th {\n",
       "        text-align: right;\n",
       "    }\n",
       "</style>\n",
       "<table border=\"1\" class=\"dataframe\">\n",
       "  <thead>\n",
       "    <tr style=\"text-align: right;\">\n",
       "      <th></th>\n",
       "      <th>User_Id</th>\n",
       "      <th>Place_Id</th>\n",
       "      <th>Place_Ratings</th>\n",
       "    </tr>\n",
       "  </thead>\n",
       "  <tbody>\n",
       "    <tr>\n",
       "      <th>6162</th>\n",
       "      <td>185</td>\n",
       "      <td>176</td>\n",
       "      <td>1</td>\n",
       "    </tr>\n",
       "    <tr>\n",
       "      <th>5593</th>\n",
       "      <td>169</td>\n",
       "      <td>362</td>\n",
       "      <td>5</td>\n",
       "    </tr>\n",
       "    <tr>\n",
       "      <th>5232</th>\n",
       "      <td>159</td>\n",
       "      <td>178</td>\n",
       "      <td>1</td>\n",
       "    </tr>\n",
       "    <tr>\n",
       "      <th>5791</th>\n",
       "      <td>174</td>\n",
       "      <td>152</td>\n",
       "      <td>5</td>\n",
       "    </tr>\n",
       "    <tr>\n",
       "      <th>1174</th>\n",
       "      <td>37</td>\n",
       "      <td>311</td>\n",
       "      <td>2</td>\n",
       "    </tr>\n",
       "  </tbody>\n",
       "</table>\n",
       "</div>"
      ],
      "text/plain": [
       "      User_Id  Place_Id  Place_Ratings\n",
       "6162      185       176              1\n",
       "5593      169       362              5\n",
       "5232      159       178              1\n",
       "5791      174       152              5\n",
       "1174       37       311              2"
      ]
     },
     "execution_count": 29,
     "metadata": {},
     "output_type": "execute_result"
    }
   ],
   "source": [
    "tourism_rating.sample(5)"
   ]
  },
  {
   "cell_type": "code",
   "execution_count": 30,
   "id": "dc8a5eb9",
   "metadata": {
    "execution": {
     "iopub.execute_input": "2023-03-06T14:16:39.585570Z",
     "iopub.status.busy": "2023-03-06T14:16:39.585297Z",
     "iopub.status.idle": "2023-03-06T14:16:39.594416Z",
     "shell.execute_reply": "2023-03-06T14:16:39.593426Z"
    },
    "papermill": {
     "duration": 0.023667,
     "end_time": "2023-03-06T14:16:39.596278",
     "exception": false,
     "start_time": "2023-03-06T14:16:39.572611",
     "status": "completed"
    },
    "tags": []
   },
   "outputs": [
    {
     "data": {
      "text/html": [
       "<div>\n",
       "<style scoped>\n",
       "    .dataframe tbody tr th:only-of-type {\n",
       "        vertical-align: middle;\n",
       "    }\n",
       "\n",
       "    .dataframe tbody tr th {\n",
       "        vertical-align: top;\n",
       "    }\n",
       "\n",
       "    .dataframe thead th {\n",
       "        text-align: right;\n",
       "    }\n",
       "</style>\n",
       "<table border=\"1\" class=\"dataframe\">\n",
       "  <thead>\n",
       "    <tr style=\"text-align: right;\">\n",
       "      <th></th>\n",
       "      <th>User_Id</th>\n",
       "      <th>Location</th>\n",
       "      <th>Age</th>\n",
       "    </tr>\n",
       "  </thead>\n",
       "  <tbody>\n",
       "    <tr>\n",
       "      <th>175</th>\n",
       "      <td>176</td>\n",
       "      <td>Depok, Jawa Barat</td>\n",
       "      <td>31</td>\n",
       "    </tr>\n",
       "    <tr>\n",
       "      <th>154</th>\n",
       "      <td>155</td>\n",
       "      <td>Surabaya, Jawa Timur</td>\n",
       "      <td>37</td>\n",
       "    </tr>\n",
       "    <tr>\n",
       "      <th>52</th>\n",
       "      <td>53</td>\n",
       "      <td>Subang, Jawa Barat</td>\n",
       "      <td>28</td>\n",
       "    </tr>\n",
       "    <tr>\n",
       "      <th>204</th>\n",
       "      <td>205</td>\n",
       "      <td>Bandung, Jawa Barat</td>\n",
       "      <td>24</td>\n",
       "    </tr>\n",
       "    <tr>\n",
       "      <th>156</th>\n",
       "      <td>157</td>\n",
       "      <td>Yogyakarta, DIY</td>\n",
       "      <td>28</td>\n",
       "    </tr>\n",
       "  </tbody>\n",
       "</table>\n",
       "</div>"
      ],
      "text/plain": [
       "     User_Id              Location  Age\n",
       "175      176     Depok, Jawa Barat   31\n",
       "154      155  Surabaya, Jawa Timur   37\n",
       "52        53    Subang, Jawa Barat   28\n",
       "204      205   Bandung, Jawa Barat   24\n",
       "156      157       Yogyakarta, DIY   28"
      ]
     },
     "execution_count": 30,
     "metadata": {},
     "output_type": "execute_result"
    }
   ],
   "source": [
    "users.sample(5)"
   ]
  },
  {
   "cell_type": "code",
   "execution_count": 31,
   "id": "703964a4",
   "metadata": {
    "execution": {
     "iopub.execute_input": "2023-03-06T14:16:39.622640Z",
     "iopub.status.busy": "2023-03-06T14:16:39.621230Z",
     "iopub.status.idle": "2023-03-06T14:16:39.633612Z",
     "shell.execute_reply": "2023-03-06T14:16:39.632186Z"
    },
    "papermill": {
     "duration": 0.028301,
     "end_time": "2023-03-06T14:16:39.636302",
     "exception": false,
     "start_time": "2023-03-06T14:16:39.608001",
     "status": "completed"
    },
    "tags": []
   },
   "outputs": [
    {
     "name": "stdout",
     "output_type": "stream",
     "text": [
      "Number of places in the datasets : 437\n",
      "Number of users : 300\n",
      "The number of ratings given by the user to the dataset : 10000\n"
     ]
    }
   ],
   "source": [
    "print(f\"Number of places in the datasets : {len(info_tourism.Place_Id.unique())}\")\n",
    "print(f\"Number of users : {len(users.User_Id.unique())}\")\n",
    "print(f\"The number of ratings given by the user to the dataset : {len(tourism_rating.User_Id)}\")"
   ]
  },
  {
   "cell_type": "markdown",
   "id": "8068d806",
   "metadata": {
    "papermill": {
     "duration": 0.012101,
     "end_time": "2023-03-06T14:16:39.660820",
     "exception": false,
     "start_time": "2023-03-06T14:16:39.648719",
     "status": "completed"
    },
    "tags": []
   },
   "source": [
    "# Exploratory Data Analysis"
   ]
  },
  {
   "cell_type": "code",
   "execution_count": 32,
   "id": "e4cab4dd",
   "metadata": {
    "execution": {
     "iopub.execute_input": "2023-03-06T14:16:39.687042Z",
     "iopub.status.busy": "2023-03-06T14:16:39.686409Z",
     "iopub.status.idle": "2023-03-06T14:16:39.703356Z",
     "shell.execute_reply": "2023-03-06T14:16:39.702357Z"
    },
    "papermill": {
     "duration": 0.033021,
     "end_time": "2023-03-06T14:16:39.706243",
     "exception": false,
     "start_time": "2023-03-06T14:16:39.673222",
     "status": "completed"
    },
    "tags": []
   },
   "outputs": [
    {
     "name": "stdout",
     "output_type": "stream",
     "text": [
      "<class 'pandas.core.frame.DataFrame'>\n",
      "RangeIndex: 437 entries, 0 to 436\n",
      "Data columns (total 13 columns):\n",
      " #   Column        Non-Null Count  Dtype  \n",
      "---  ------        --------------  -----  \n",
      " 0   Place_Id      437 non-null    int64  \n",
      " 1   Place_Name    437 non-null    object \n",
      " 2   Description   437 non-null    object \n",
      " 3   Category      437 non-null    object \n",
      " 4   City          437 non-null    object \n",
      " 5   Price         437 non-null    int64  \n",
      " 6   Rating        437 non-null    float64\n",
      " 7   Time_Minutes  205 non-null    float64\n",
      " 8   Coordinate    437 non-null    object \n",
      " 9   Lat           437 non-null    float64\n",
      " 10  Long          437 non-null    float64\n",
      " 11  Unnamed: 11   0 non-null      float64\n",
      " 12  Unnamed: 12   437 non-null    int64  \n",
      "dtypes: float64(5), int64(3), object(5)\n",
      "memory usage: 44.5+ KB\n"
     ]
    }
   ],
   "source": [
    "info_tourism.info()"
   ]
  },
  {
   "cell_type": "code",
   "execution_count": 33,
   "id": "4f074334",
   "metadata": {
    "execution": {
     "iopub.execute_input": "2023-03-06T14:16:39.732856Z",
     "iopub.status.busy": "2023-03-06T14:16:39.731450Z",
     "iopub.status.idle": "2023-03-06T14:16:39.740444Z",
     "shell.execute_reply": "2023-03-06T14:16:39.739478Z"
    },
    "papermill": {
     "duration": 0.02412,
     "end_time": "2023-03-06T14:16:39.742661",
     "exception": false,
     "start_time": "2023-03-06T14:16:39.718541",
     "status": "completed"
    },
    "tags": []
   },
   "outputs": [
    {
     "data": {
      "text/plain": [
       "Place_Id          0\n",
       "Place_Name        0\n",
       "Description       0\n",
       "Category          0\n",
       "City              0\n",
       "Price             0\n",
       "Rating            0\n",
       "Time_Minutes    232\n",
       "Coordinate        0\n",
       "Lat               0\n",
       "Long              0\n",
       "Unnamed: 11     437\n",
       "Unnamed: 12       0\n",
       "dtype: int64"
      ]
     },
     "execution_count": 33,
     "metadata": {},
     "output_type": "execute_result"
    }
   ],
   "source": [
    "info_tourism.isnull().sum()"
   ]
  },
  {
   "cell_type": "code",
   "execution_count": 34,
   "id": "c354fc51",
   "metadata": {
    "execution": {
     "iopub.execute_input": "2023-03-06T14:16:39.769102Z",
     "iopub.status.busy": "2023-03-06T14:16:39.768242Z",
     "iopub.status.idle": "2023-03-06T14:16:39.779054Z",
     "shell.execute_reply": "2023-03-06T14:16:39.777712Z"
    },
    "papermill": {
     "duration": 0.026681,
     "end_time": "2023-03-06T14:16:39.781837",
     "exception": false,
     "start_time": "2023-03-06T14:16:39.755156",
     "status": "completed"
    },
    "tags": []
   },
   "outputs": [
    {
     "name": "stdout",
     "output_type": "stream",
     "text": [
      "<class 'pandas.core.frame.DataFrame'>\n",
      "RangeIndex: 10000 entries, 0 to 9999\n",
      "Data columns (total 3 columns):\n",
      " #   Column         Non-Null Count  Dtype\n",
      "---  ------         --------------  -----\n",
      " 0   User_Id        10000 non-null  int64\n",
      " 1   Place_Id       10000 non-null  int64\n",
      " 2   Place_Ratings  10000 non-null  int64\n",
      "dtypes: int64(3)\n",
      "memory usage: 234.5 KB\n"
     ]
    }
   ],
   "source": [
    "tourism_rating.info()"
   ]
  },
  {
   "cell_type": "code",
   "execution_count": 35,
   "id": "71f02f9a",
   "metadata": {
    "execution": {
     "iopub.execute_input": "2023-03-06T14:16:39.809418Z",
     "iopub.status.busy": "2023-03-06T14:16:39.808711Z",
     "iopub.status.idle": "2023-03-06T14:16:39.816363Z",
     "shell.execute_reply": "2023-03-06T14:16:39.815470Z"
    },
    "papermill": {
     "duration": 0.022457,
     "end_time": "2023-03-06T14:16:39.818262",
     "exception": false,
     "start_time": "2023-03-06T14:16:39.795805",
     "status": "completed"
    },
    "tags": []
   },
   "outputs": [
    {
     "data": {
      "text/plain": [
       "User_Id          0\n",
       "Place_Id         0\n",
       "Place_Ratings    0\n",
       "dtype: int64"
      ]
     },
     "execution_count": 35,
     "metadata": {},
     "output_type": "execute_result"
    }
   ],
   "source": [
    "tourism_rating.isnull().sum()"
   ]
  },
  {
   "cell_type": "code",
   "execution_count": 36,
   "id": "fa876009",
   "metadata": {
    "execution": {
     "iopub.execute_input": "2023-03-06T14:16:39.844385Z",
     "iopub.status.busy": "2023-03-06T14:16:39.843567Z",
     "iopub.status.idle": "2023-03-06T14:16:39.854286Z",
     "shell.execute_reply": "2023-03-06T14:16:39.852676Z"
    },
    "papermill": {
     "duration": 0.025958,
     "end_time": "2023-03-06T14:16:39.856219",
     "exception": false,
     "start_time": "2023-03-06T14:16:39.830261",
     "status": "completed"
    },
    "tags": []
   },
   "outputs": [
    {
     "name": "stdout",
     "output_type": "stream",
     "text": [
      "<class 'pandas.core.frame.DataFrame'>\n",
      "RangeIndex: 300 entries, 0 to 299\n",
      "Data columns (total 3 columns):\n",
      " #   Column    Non-Null Count  Dtype \n",
      "---  ------    --------------  ----- \n",
      " 0   User_Id   300 non-null    int64 \n",
      " 1   Location  300 non-null    object\n",
      " 2   Age       300 non-null    int64 \n",
      "dtypes: int64(2), object(1)\n",
      "memory usage: 7.2+ KB\n"
     ]
    }
   ],
   "source": [
    "users.info()"
   ]
  },
  {
   "cell_type": "code",
   "execution_count": 37,
   "id": "a4356049",
   "metadata": {
    "execution": {
     "iopub.execute_input": "2023-03-06T14:16:39.883226Z",
     "iopub.status.busy": "2023-03-06T14:16:39.882432Z",
     "iopub.status.idle": "2023-03-06T14:16:39.890145Z",
     "shell.execute_reply": "2023-03-06T14:16:39.889191Z"
    },
    "papermill": {
     "duration": 0.023787,
     "end_time": "2023-03-06T14:16:39.892083",
     "exception": false,
     "start_time": "2023-03-06T14:16:39.868296",
     "status": "completed"
    },
    "tags": []
   },
   "outputs": [
    {
     "data": {
      "text/plain": [
       "User_Id     0\n",
       "Location    0\n",
       "Age         0\n",
       "dtype: int64"
      ]
     },
     "execution_count": 37,
     "metadata": {},
     "output_type": "execute_result"
    }
   ],
   "source": [
    "users.isnull().sum()"
   ]
  },
  {
   "cell_type": "code",
   "execution_count": 38,
   "id": "43102a04",
   "metadata": {
    "execution": {
     "iopub.execute_input": "2023-03-06T14:16:39.918424Z",
     "iopub.status.busy": "2023-03-06T14:16:39.918120Z",
     "iopub.status.idle": "2023-03-06T14:16:39.924455Z",
     "shell.execute_reply": "2023-03-06T14:16:39.923542Z"
    },
    "papermill": {
     "duration": 0.021784,
     "end_time": "2023-03-06T14:16:39.926426",
     "exception": false,
     "start_time": "2023-03-06T14:16:39.904642",
     "status": "completed"
    },
    "tags": []
   },
   "outputs": [
    {
     "data": {
      "text/plain": [
       "array(['Budaya', 'Taman Hiburan', 'Cagar Alam', 'Bahari',\n",
       "       'Pusat Perbelanjaan', 'Tempat Ibadah'], dtype=object)"
      ]
     },
     "execution_count": 38,
     "metadata": {},
     "output_type": "execute_result"
    }
   ],
   "source": [
    "info_tourism.Category.unique()"
   ]
  },
  {
   "cell_type": "markdown",
   "id": "65540c0e",
   "metadata": {
    "papermill": {
     "duration": 0.012064,
     "end_time": "2023-03-06T14:16:39.951144",
     "exception": false,
     "start_time": "2023-03-06T14:16:39.939080",
     "status": "completed"
    },
    "tags": []
   },
   "source": [
    "# Data Preprocessing"
   ]
  },
  {
   "cell_type": "code",
   "execution_count": 39,
   "id": "3c4bfbdc",
   "metadata": {
    "execution": {
     "iopub.execute_input": "2023-03-06T14:16:39.977452Z",
     "iopub.status.busy": "2023-03-06T14:16:39.977126Z",
     "iopub.status.idle": "2023-03-06T14:16:39.984535Z",
     "shell.execute_reply": "2023-03-06T14:16:39.983290Z"
    },
    "papermill": {
     "duration": 0.02364,
     "end_time": "2023-03-06T14:16:39.987281",
     "exception": false,
     "start_time": "2023-03-06T14:16:39.963641",
     "status": "completed"
    },
    "tags": []
   },
   "outputs": [
    {
     "name": "stdout",
     "output_type": "stream",
     "text": [
      "Total number of tourism: 437\n"
     ]
    }
   ],
   "source": [
    "import numpy as np\n",
    "\n",
    "tourism_all = np.concatenate((\n",
    "    info_tourism.Place_Id.unique(),\n",
    "    tourism_rating.Place_Id.unique()\n",
    "))\n",
    "\n",
    "tourism_all = np.sort(np.unique(tourism_all))\n",
    "\n",
    "print(f\"Total number of tourism: {len(tourism_all)}\")"
   ]
  },
  {
   "cell_type": "code",
   "execution_count": 40,
   "id": "c7bb4393",
   "metadata": {
    "execution": {
     "iopub.execute_input": "2023-03-06T14:16:40.023237Z",
     "iopub.status.busy": "2023-03-06T14:16:40.021610Z",
     "iopub.status.idle": "2023-03-06T14:16:40.033777Z",
     "shell.execute_reply": "2023-03-06T14:16:40.032436Z"
    },
    "papermill": {
     "duration": 0.034492,
     "end_time": "2023-03-06T14:16:40.036009",
     "exception": false,
     "start_time": "2023-03-06T14:16:40.001517",
     "status": "completed"
    },
    "tags": []
   },
   "outputs": [
    {
     "data": {
      "text/html": [
       "<div>\n",
       "<style scoped>\n",
       "    .dataframe tbody tr th:only-of-type {\n",
       "        vertical-align: middle;\n",
       "    }\n",
       "\n",
       "    .dataframe tbody tr th {\n",
       "        vertical-align: top;\n",
       "    }\n",
       "\n",
       "    .dataframe thead th {\n",
       "        text-align: right;\n",
       "    }\n",
       "</style>\n",
       "<table border=\"1\" class=\"dataframe\">\n",
       "  <thead>\n",
       "    <tr style=\"text-align: right;\">\n",
       "      <th></th>\n",
       "      <th>User_Id</th>\n",
       "      <th>Place_Id</th>\n",
       "      <th>Place_Ratings</th>\n",
       "    </tr>\n",
       "  </thead>\n",
       "  <tbody>\n",
       "    <tr>\n",
       "      <th>0</th>\n",
       "      <td>1</td>\n",
       "      <td>179</td>\n",
       "      <td>3</td>\n",
       "    </tr>\n",
       "    <tr>\n",
       "      <th>1</th>\n",
       "      <td>1</td>\n",
       "      <td>344</td>\n",
       "      <td>2</td>\n",
       "    </tr>\n",
       "    <tr>\n",
       "      <th>2</th>\n",
       "      <td>1</td>\n",
       "      <td>5</td>\n",
       "      <td>5</td>\n",
       "    </tr>\n",
       "    <tr>\n",
       "      <th>3</th>\n",
       "      <td>1</td>\n",
       "      <td>373</td>\n",
       "      <td>3</td>\n",
       "    </tr>\n",
       "    <tr>\n",
       "      <th>4</th>\n",
       "      <td>1</td>\n",
       "      <td>101</td>\n",
       "      <td>4</td>\n",
       "    </tr>\n",
       "    <tr>\n",
       "      <th>...</th>\n",
       "      <td>...</td>\n",
       "      <td>...</td>\n",
       "      <td>...</td>\n",
       "    </tr>\n",
       "    <tr>\n",
       "      <th>9995</th>\n",
       "      <td>300</td>\n",
       "      <td>425</td>\n",
       "      <td>2</td>\n",
       "    </tr>\n",
       "    <tr>\n",
       "      <th>9996</th>\n",
       "      <td>300</td>\n",
       "      <td>64</td>\n",
       "      <td>4</td>\n",
       "    </tr>\n",
       "    <tr>\n",
       "      <th>9997</th>\n",
       "      <td>300</td>\n",
       "      <td>311</td>\n",
       "      <td>3</td>\n",
       "    </tr>\n",
       "    <tr>\n",
       "      <th>9998</th>\n",
       "      <td>300</td>\n",
       "      <td>279</td>\n",
       "      <td>4</td>\n",
       "    </tr>\n",
       "    <tr>\n",
       "      <th>9999</th>\n",
       "      <td>300</td>\n",
       "      <td>163</td>\n",
       "      <td>2</td>\n",
       "    </tr>\n",
       "  </tbody>\n",
       "</table>\n",
       "<p>10000 rows × 3 columns</p>\n",
       "</div>"
      ],
      "text/plain": [
       "      User_Id  Place_Id  Place_Ratings\n",
       "0           1       179              3\n",
       "1           1       344              2\n",
       "2           1         5              5\n",
       "3           1       373              3\n",
       "4           1       101              4\n",
       "...       ...       ...            ...\n",
       "9995      300       425              2\n",
       "9996      300        64              4\n",
       "9997      300       311              3\n",
       "9998      300       279              4\n",
       "9999      300       163              2\n",
       "\n",
       "[10000 rows x 3 columns]"
      ]
     },
     "execution_count": 40,
     "metadata": {},
     "output_type": "execute_result"
    }
   ],
   "source": [
    "all_tourism_rate = tourism_rating\n",
    "all_tourism_rate"
   ]
  },
  {
   "cell_type": "code",
   "execution_count": 41,
   "id": "7ec75ff9",
   "metadata": {
    "execution": {
     "iopub.execute_input": "2023-03-06T14:16:40.063942Z",
     "iopub.status.busy": "2023-03-06T14:16:40.062529Z",
     "iopub.status.idle": "2023-03-06T14:16:40.086529Z",
     "shell.execute_reply": "2023-03-06T14:16:40.085593Z"
    },
    "papermill": {
     "duration": 0.039789,
     "end_time": "2023-03-06T14:16:40.088668",
     "exception": false,
     "start_time": "2023-03-06T14:16:40.048879",
     "status": "completed"
    },
    "tags": []
   },
   "outputs": [
    {
     "data": {
      "text/html": [
       "<div>\n",
       "<style scoped>\n",
       "    .dataframe tbody tr th:only-of-type {\n",
       "        vertical-align: middle;\n",
       "    }\n",
       "\n",
       "    .dataframe tbody tr th {\n",
       "        vertical-align: top;\n",
       "    }\n",
       "\n",
       "    .dataframe thead th {\n",
       "        text-align: right;\n",
       "    }\n",
       "</style>\n",
       "<table border=\"1\" class=\"dataframe\">\n",
       "  <thead>\n",
       "    <tr style=\"text-align: right;\">\n",
       "      <th></th>\n",
       "      <th>User_Id</th>\n",
       "      <th>Place_Id</th>\n",
       "      <th>Place_Ratings</th>\n",
       "      <th>Place_Name</th>\n",
       "      <th>Description</th>\n",
       "      <th>City</th>\n",
       "      <th>Category</th>\n",
       "    </tr>\n",
       "  </thead>\n",
       "  <tbody>\n",
       "    <tr>\n",
       "      <th>0</th>\n",
       "      <td>1</td>\n",
       "      <td>179</td>\n",
       "      <td>3</td>\n",
       "      <td>Candi Ratu Boko</td>\n",
       "      <td>Situs Ratu Baka atau Candi Boko (Hanacaraka:ꦕꦤ...</td>\n",
       "      <td>Yogyakarta</td>\n",
       "      <td>Budaya</td>\n",
       "    </tr>\n",
       "    <tr>\n",
       "      <th>1</th>\n",
       "      <td>1</td>\n",
       "      <td>344</td>\n",
       "      <td>2</td>\n",
       "      <td>Pantai Marina</td>\n",
       "      <td>Pantai Marina (bahasa Jawa: ꦥꦱꦶꦱꦶꦂ​ꦩꦫꦶꦤ, trans...</td>\n",
       "      <td>Semarang</td>\n",
       "      <td>Bahari</td>\n",
       "    </tr>\n",
       "    <tr>\n",
       "      <th>2</th>\n",
       "      <td>1</td>\n",
       "      <td>5</td>\n",
       "      <td>5</td>\n",
       "      <td>Atlantis Water Adventure</td>\n",
       "      <td>Atlantis Water Adventure atau dikenal dengan A...</td>\n",
       "      <td>Jakarta</td>\n",
       "      <td>Taman Hiburan</td>\n",
       "    </tr>\n",
       "    <tr>\n",
       "      <th>3</th>\n",
       "      <td>1</td>\n",
       "      <td>373</td>\n",
       "      <td>3</td>\n",
       "      <td>Museum Kereta Ambarawa</td>\n",
       "      <td>Museum Kereta Api Ambarawa (bahasa Inggris: In...</td>\n",
       "      <td>Semarang</td>\n",
       "      <td>Budaya</td>\n",
       "    </tr>\n",
       "    <tr>\n",
       "      <th>4</th>\n",
       "      <td>1</td>\n",
       "      <td>101</td>\n",
       "      <td>4</td>\n",
       "      <td>Kampung Wisata Sosro Menduran</td>\n",
       "      <td>Kampung wisata Sosromenduran merupakan kampung...</td>\n",
       "      <td>Yogyakarta</td>\n",
       "      <td>Budaya</td>\n",
       "    </tr>\n",
       "    <tr>\n",
       "      <th>...</th>\n",
       "      <td>...</td>\n",
       "      <td>...</td>\n",
       "      <td>...</td>\n",
       "      <td>...</td>\n",
       "      <td>...</td>\n",
       "      <td>...</td>\n",
       "      <td>...</td>\n",
       "    </tr>\n",
       "    <tr>\n",
       "      <th>9995</th>\n",
       "      <td>300</td>\n",
       "      <td>425</td>\n",
       "      <td>2</td>\n",
       "      <td>Waterpark Kenjeran Surabaya</td>\n",
       "      <td>Waterpark Kenjeran Surabaya merupakan wisata k...</td>\n",
       "      <td>Surabaya</td>\n",
       "      <td>Taman Hiburan</td>\n",
       "    </tr>\n",
       "    <tr>\n",
       "      <th>9996</th>\n",
       "      <td>300</td>\n",
       "      <td>64</td>\n",
       "      <td>4</td>\n",
       "      <td>Museum Sasmita Loka Ahmad Yani</td>\n",
       "      <td>Museum Sasmita Loka Ahmad Yani adalah salah sa...</td>\n",
       "      <td>Jakarta</td>\n",
       "      <td>Budaya</td>\n",
       "    </tr>\n",
       "    <tr>\n",
       "      <th>9997</th>\n",
       "      <td>300</td>\n",
       "      <td>311</td>\n",
       "      <td>3</td>\n",
       "      <td>The Lodge Maribaya</td>\n",
       "      <td>The Lodge Maribaya adalah salah satu tempat wi...</td>\n",
       "      <td>Bandung</td>\n",
       "      <td>Cagar Alam</td>\n",
       "    </tr>\n",
       "    <tr>\n",
       "      <th>9998</th>\n",
       "      <td>300</td>\n",
       "      <td>279</td>\n",
       "      <td>4</td>\n",
       "      <td>Masjid Agung Trans Studio Bandung</td>\n",
       "      <td>Masjid Agung Trans Studio Bandung (TSB) berdir...</td>\n",
       "      <td>Bandung</td>\n",
       "      <td>Tempat Ibadah</td>\n",
       "    </tr>\n",
       "    <tr>\n",
       "      <th>9999</th>\n",
       "      <td>300</td>\n",
       "      <td>163</td>\n",
       "      <td>2</td>\n",
       "      <td>Watu Mabur Mangunan</td>\n",
       "      <td>Kawasan Tebing Watu Mabur ini terbilang belum ...</td>\n",
       "      <td>Yogyakarta</td>\n",
       "      <td>Cagar Alam</td>\n",
       "    </tr>\n",
       "  </tbody>\n",
       "</table>\n",
       "<p>10000 rows × 7 columns</p>\n",
       "</div>"
      ],
      "text/plain": [
       "      User_Id  Place_Id  Place_Ratings                         Place_Name  \\\n",
       "0           1       179              3                    Candi Ratu Boko   \n",
       "1           1       344              2                      Pantai Marina   \n",
       "2           1         5              5           Atlantis Water Adventure   \n",
       "3           1       373              3             Museum Kereta Ambarawa   \n",
       "4           1       101              4      Kampung Wisata Sosro Menduran   \n",
       "...       ...       ...            ...                                ...   \n",
       "9995      300       425              2        Waterpark Kenjeran Surabaya   \n",
       "9996      300        64              4     Museum Sasmita Loka Ahmad Yani   \n",
       "9997      300       311              3                 The Lodge Maribaya   \n",
       "9998      300       279              4  Masjid Agung Trans Studio Bandung   \n",
       "9999      300       163              2                Watu Mabur Mangunan   \n",
       "\n",
       "                                            Description        City  \\\n",
       "0     Situs Ratu Baka atau Candi Boko (Hanacaraka:ꦕꦤ...  Yogyakarta   \n",
       "1     Pantai Marina (bahasa Jawa: ꦥꦱꦶꦱꦶꦂ​ꦩꦫꦶꦤ, trans...    Semarang   \n",
       "2     Atlantis Water Adventure atau dikenal dengan A...     Jakarta   \n",
       "3     Museum Kereta Api Ambarawa (bahasa Inggris: In...    Semarang   \n",
       "4     Kampung wisata Sosromenduran merupakan kampung...  Yogyakarta   \n",
       "...                                                 ...         ...   \n",
       "9995  Waterpark Kenjeran Surabaya merupakan wisata k...    Surabaya   \n",
       "9996  Museum Sasmita Loka Ahmad Yani adalah salah sa...     Jakarta   \n",
       "9997  The Lodge Maribaya adalah salah satu tempat wi...     Bandung   \n",
       "9998  Masjid Agung Trans Studio Bandung (TSB) berdir...     Bandung   \n",
       "9999  Kawasan Tebing Watu Mabur ini terbilang belum ...  Yogyakarta   \n",
       "\n",
       "           Category  \n",
       "0            Budaya  \n",
       "1            Bahari  \n",
       "2     Taman Hiburan  \n",
       "3            Budaya  \n",
       "4            Budaya  \n",
       "...             ...  \n",
       "9995  Taman Hiburan  \n",
       "9996         Budaya  \n",
       "9997     Cagar Alam  \n",
       "9998  Tempat Ibadah  \n",
       "9999     Cagar Alam  \n",
       "\n",
       "[10000 rows x 7 columns]"
      ]
     },
     "execution_count": 41,
     "metadata": {},
     "output_type": "execute_result"
    }
   ],
   "source": [
    "all_tourism = pd.merge(all_tourism_rate,info_tourism[[\"Place_Id\",\"Place_Name\",\"Description\",\"City\",\"Category\"]],on='Place_Id', how='left')\n",
    "all_tourism"
   ]
  },
  {
   "cell_type": "code",
   "execution_count": 42,
   "id": "0b61532a",
   "metadata": {
    "execution": {
     "iopub.execute_input": "2023-03-06T14:16:40.116675Z",
     "iopub.status.busy": "2023-03-06T14:16:40.116121Z",
     "iopub.status.idle": "2023-03-06T14:16:40.378302Z",
     "shell.execute_reply": "2023-03-06T14:16:40.377379Z"
    },
    "papermill": {
     "duration": 0.278744,
     "end_time": "2023-03-06T14:16:40.380801",
     "exception": false,
     "start_time": "2023-03-06T14:16:40.102057",
     "status": "completed"
    },
    "tags": []
   },
   "outputs": [],
   "source": [
    "all_tourism['city_category'] = all_tourism[['City','Category']].agg(' '.join,axis=1)"
   ]
  },
  {
   "cell_type": "code",
   "execution_count": 43,
   "id": "fcda2da5",
   "metadata": {
    "execution": {
     "iopub.execute_input": "2023-03-06T14:16:40.408849Z",
     "iopub.status.busy": "2023-03-06T14:16:40.408026Z",
     "iopub.status.idle": "2023-03-06T14:16:40.423003Z",
     "shell.execute_reply": "2023-03-06T14:16:40.422019Z"
    },
    "papermill": {
     "duration": 0.031259,
     "end_time": "2023-03-06T14:16:40.425365",
     "exception": false,
     "start_time": "2023-03-06T14:16:40.394106",
     "status": "completed"
    },
    "tags": []
   },
   "outputs": [
    {
     "data": {
      "text/html": [
       "<div>\n",
       "<style scoped>\n",
       "    .dataframe tbody tr th:only-of-type {\n",
       "        vertical-align: middle;\n",
       "    }\n",
       "\n",
       "    .dataframe tbody tr th {\n",
       "        vertical-align: top;\n",
       "    }\n",
       "\n",
       "    .dataframe thead th {\n",
       "        text-align: right;\n",
       "    }\n",
       "</style>\n",
       "<table border=\"1\" class=\"dataframe\">\n",
       "  <thead>\n",
       "    <tr style=\"text-align: right;\">\n",
       "      <th></th>\n",
       "      <th>User_Id</th>\n",
       "      <th>Place_Id</th>\n",
       "      <th>Place_Ratings</th>\n",
       "      <th>Place_Name</th>\n",
       "      <th>Description</th>\n",
       "      <th>City</th>\n",
       "      <th>Category</th>\n",
       "      <th>city_category</th>\n",
       "    </tr>\n",
       "  </thead>\n",
       "  <tbody>\n",
       "    <tr>\n",
       "      <th>0</th>\n",
       "      <td>1</td>\n",
       "      <td>179</td>\n",
       "      <td>3</td>\n",
       "      <td>Candi Ratu Boko</td>\n",
       "      <td>Situs Ratu Baka atau Candi Boko (Hanacaraka:ꦕꦤ...</td>\n",
       "      <td>Yogyakarta</td>\n",
       "      <td>Budaya</td>\n",
       "      <td>Yogyakarta Budaya</td>\n",
       "    </tr>\n",
       "    <tr>\n",
       "      <th>1</th>\n",
       "      <td>1</td>\n",
       "      <td>344</td>\n",
       "      <td>2</td>\n",
       "      <td>Pantai Marina</td>\n",
       "      <td>Pantai Marina (bahasa Jawa: ꦥꦱꦶꦱꦶꦂ​ꦩꦫꦶꦤ, trans...</td>\n",
       "      <td>Semarang</td>\n",
       "      <td>Bahari</td>\n",
       "      <td>Semarang Bahari</td>\n",
       "    </tr>\n",
       "    <tr>\n",
       "      <th>2</th>\n",
       "      <td>1</td>\n",
       "      <td>5</td>\n",
       "      <td>5</td>\n",
       "      <td>Atlantis Water Adventure</td>\n",
       "      <td>Atlantis Water Adventure atau dikenal dengan A...</td>\n",
       "      <td>Jakarta</td>\n",
       "      <td>Taman Hiburan</td>\n",
       "      <td>Jakarta Taman Hiburan</td>\n",
       "    </tr>\n",
       "    <tr>\n",
       "      <th>3</th>\n",
       "      <td>1</td>\n",
       "      <td>373</td>\n",
       "      <td>3</td>\n",
       "      <td>Museum Kereta Ambarawa</td>\n",
       "      <td>Museum Kereta Api Ambarawa (bahasa Inggris: In...</td>\n",
       "      <td>Semarang</td>\n",
       "      <td>Budaya</td>\n",
       "      <td>Semarang Budaya</td>\n",
       "    </tr>\n",
       "    <tr>\n",
       "      <th>4</th>\n",
       "      <td>1</td>\n",
       "      <td>101</td>\n",
       "      <td>4</td>\n",
       "      <td>Kampung Wisata Sosro Menduran</td>\n",
       "      <td>Kampung wisata Sosromenduran merupakan kampung...</td>\n",
       "      <td>Yogyakarta</td>\n",
       "      <td>Budaya</td>\n",
       "      <td>Yogyakarta Budaya</td>\n",
       "    </tr>\n",
       "    <tr>\n",
       "      <th>...</th>\n",
       "      <td>...</td>\n",
       "      <td>...</td>\n",
       "      <td>...</td>\n",
       "      <td>...</td>\n",
       "      <td>...</td>\n",
       "      <td>...</td>\n",
       "      <td>...</td>\n",
       "      <td>...</td>\n",
       "    </tr>\n",
       "    <tr>\n",
       "      <th>9995</th>\n",
       "      <td>300</td>\n",
       "      <td>425</td>\n",
       "      <td>2</td>\n",
       "      <td>Waterpark Kenjeran Surabaya</td>\n",
       "      <td>Waterpark Kenjeran Surabaya merupakan wisata k...</td>\n",
       "      <td>Surabaya</td>\n",
       "      <td>Taman Hiburan</td>\n",
       "      <td>Surabaya Taman Hiburan</td>\n",
       "    </tr>\n",
       "    <tr>\n",
       "      <th>9996</th>\n",
       "      <td>300</td>\n",
       "      <td>64</td>\n",
       "      <td>4</td>\n",
       "      <td>Museum Sasmita Loka Ahmad Yani</td>\n",
       "      <td>Museum Sasmita Loka Ahmad Yani adalah salah sa...</td>\n",
       "      <td>Jakarta</td>\n",
       "      <td>Budaya</td>\n",
       "      <td>Jakarta Budaya</td>\n",
       "    </tr>\n",
       "    <tr>\n",
       "      <th>9997</th>\n",
       "      <td>300</td>\n",
       "      <td>311</td>\n",
       "      <td>3</td>\n",
       "      <td>The Lodge Maribaya</td>\n",
       "      <td>The Lodge Maribaya adalah salah satu tempat wi...</td>\n",
       "      <td>Bandung</td>\n",
       "      <td>Cagar Alam</td>\n",
       "      <td>Bandung Cagar Alam</td>\n",
       "    </tr>\n",
       "    <tr>\n",
       "      <th>9998</th>\n",
       "      <td>300</td>\n",
       "      <td>279</td>\n",
       "      <td>4</td>\n",
       "      <td>Masjid Agung Trans Studio Bandung</td>\n",
       "      <td>Masjid Agung Trans Studio Bandung (TSB) berdir...</td>\n",
       "      <td>Bandung</td>\n",
       "      <td>Tempat Ibadah</td>\n",
       "      <td>Bandung Tempat Ibadah</td>\n",
       "    </tr>\n",
       "    <tr>\n",
       "      <th>9999</th>\n",
       "      <td>300</td>\n",
       "      <td>163</td>\n",
       "      <td>2</td>\n",
       "      <td>Watu Mabur Mangunan</td>\n",
       "      <td>Kawasan Tebing Watu Mabur ini terbilang belum ...</td>\n",
       "      <td>Yogyakarta</td>\n",
       "      <td>Cagar Alam</td>\n",
       "      <td>Yogyakarta Cagar Alam</td>\n",
       "    </tr>\n",
       "  </tbody>\n",
       "</table>\n",
       "<p>10000 rows × 8 columns</p>\n",
       "</div>"
      ],
      "text/plain": [
       "      User_Id  Place_Id  Place_Ratings                         Place_Name  \\\n",
       "0           1       179              3                    Candi Ratu Boko   \n",
       "1           1       344              2                      Pantai Marina   \n",
       "2           1         5              5           Atlantis Water Adventure   \n",
       "3           1       373              3             Museum Kereta Ambarawa   \n",
       "4           1       101              4      Kampung Wisata Sosro Menduran   \n",
       "...       ...       ...            ...                                ...   \n",
       "9995      300       425              2        Waterpark Kenjeran Surabaya   \n",
       "9996      300        64              4     Museum Sasmita Loka Ahmad Yani   \n",
       "9997      300       311              3                 The Lodge Maribaya   \n",
       "9998      300       279              4  Masjid Agung Trans Studio Bandung   \n",
       "9999      300       163              2                Watu Mabur Mangunan   \n",
       "\n",
       "                                            Description        City  \\\n",
       "0     Situs Ratu Baka atau Candi Boko (Hanacaraka:ꦕꦤ...  Yogyakarta   \n",
       "1     Pantai Marina (bahasa Jawa: ꦥꦱꦶꦱꦶꦂ​ꦩꦫꦶꦤ, trans...    Semarang   \n",
       "2     Atlantis Water Adventure atau dikenal dengan A...     Jakarta   \n",
       "3     Museum Kereta Api Ambarawa (bahasa Inggris: In...    Semarang   \n",
       "4     Kampung wisata Sosromenduran merupakan kampung...  Yogyakarta   \n",
       "...                                                 ...         ...   \n",
       "9995  Waterpark Kenjeran Surabaya merupakan wisata k...    Surabaya   \n",
       "9996  Museum Sasmita Loka Ahmad Yani adalah salah sa...     Jakarta   \n",
       "9997  The Lodge Maribaya adalah salah satu tempat wi...     Bandung   \n",
       "9998  Masjid Agung Trans Studio Bandung (TSB) berdir...     Bandung   \n",
       "9999  Kawasan Tebing Watu Mabur ini terbilang belum ...  Yogyakarta   \n",
       "\n",
       "           Category           city_category  \n",
       "0            Budaya       Yogyakarta Budaya  \n",
       "1            Bahari         Semarang Bahari  \n",
       "2     Taman Hiburan   Jakarta Taman Hiburan  \n",
       "3            Budaya         Semarang Budaya  \n",
       "4            Budaya       Yogyakarta Budaya  \n",
       "...             ...                     ...  \n",
       "9995  Taman Hiburan  Surabaya Taman Hiburan  \n",
       "9996         Budaya          Jakarta Budaya  \n",
       "9997     Cagar Alam      Bandung Cagar Alam  \n",
       "9998  Tempat Ibadah   Bandung Tempat Ibadah  \n",
       "9999     Cagar Alam   Yogyakarta Cagar Alam  \n",
       "\n",
       "[10000 rows x 8 columns]"
      ]
     },
     "execution_count": 43,
     "metadata": {},
     "output_type": "execute_result"
    }
   ],
   "source": [
    "all_tourism"
   ]
  },
  {
   "cell_type": "markdown",
   "id": "405f5deb",
   "metadata": {
    "papermill": {
     "duration": 0.026076,
     "end_time": "2023-03-06T14:16:40.467726",
     "exception": false,
     "start_time": "2023-03-06T14:16:40.441650",
     "status": "completed"
    },
    "tags": []
   },
   "source": [
    "# Data Preparation"
   ]
  },
  {
   "cell_type": "markdown",
   "id": "60dce7b7",
   "metadata": {
    "papermill": {
     "duration": 0.023939,
     "end_time": "2023-03-06T14:16:40.523459",
     "exception": false,
     "start_time": "2023-03-06T14:16:40.499520",
     "status": "completed"
    },
    "tags": []
   },
   "source": [
    "## Missing Values"
   ]
  },
  {
   "cell_type": "code",
   "execution_count": 44,
   "id": "2e32b5e3",
   "metadata": {
    "execution": {
     "iopub.execute_input": "2023-03-06T14:16:40.578887Z",
     "iopub.status.busy": "2023-03-06T14:16:40.578448Z",
     "iopub.status.idle": "2023-03-06T14:16:40.594641Z",
     "shell.execute_reply": "2023-03-06T14:16:40.593463Z"
    },
    "papermill": {
     "duration": 0.041177,
     "end_time": "2023-03-06T14:16:40.597922",
     "exception": false,
     "start_time": "2023-03-06T14:16:40.556745",
     "status": "completed"
    },
    "tags": []
   },
   "outputs": [
    {
     "data": {
      "text/plain": [
       "User_Id          0\n",
       "Place_Id         0\n",
       "Place_Ratings    0\n",
       "Place_Name       0\n",
       "Description      0\n",
       "City             0\n",
       "Category         0\n",
       "city_category    0\n",
       "dtype: int64"
      ]
     },
     "execution_count": 44,
     "metadata": {},
     "output_type": "execute_result"
    }
   ],
   "source": [
    "all_tourism.isnull().sum()"
   ]
  },
  {
   "cell_type": "code",
   "execution_count": 45,
   "id": "e0a3c0aa",
   "metadata": {
    "execution": {
     "iopub.execute_input": "2023-03-06T14:16:40.640480Z",
     "iopub.status.busy": "2023-03-06T14:16:40.640016Z",
     "iopub.status.idle": "2023-03-06T14:16:40.672694Z",
     "shell.execute_reply": "2023-03-06T14:16:40.671769Z"
    },
    "papermill": {
     "duration": 0.056626,
     "end_time": "2023-03-06T14:16:40.675237",
     "exception": false,
     "start_time": "2023-03-06T14:16:40.618611",
     "status": "completed"
    },
    "tags": []
   },
   "outputs": [
    {
     "data": {
      "text/html": [
       "<div>\n",
       "<style scoped>\n",
       "    .dataframe tbody tr th:only-of-type {\n",
       "        vertical-align: middle;\n",
       "    }\n",
       "\n",
       "    .dataframe tbody tr th {\n",
       "        vertical-align: top;\n",
       "    }\n",
       "\n",
       "    .dataframe thead th {\n",
       "        text-align: right;\n",
       "    }\n",
       "</style>\n",
       "<table border=\"1\" class=\"dataframe\">\n",
       "  <thead>\n",
       "    <tr style=\"text-align: right;\">\n",
       "      <th></th>\n",
       "      <th>User_Id</th>\n",
       "      <th>Place_Id</th>\n",
       "      <th>Place_Ratings</th>\n",
       "      <th>Place_Name</th>\n",
       "      <th>Description</th>\n",
       "      <th>City</th>\n",
       "      <th>Category</th>\n",
       "      <th>city_category</th>\n",
       "    </tr>\n",
       "  </thead>\n",
       "  <tbody>\n",
       "    <tr>\n",
       "      <th>0</th>\n",
       "      <td>1</td>\n",
       "      <td>179</td>\n",
       "      <td>3</td>\n",
       "      <td>Candi Ratu Boko</td>\n",
       "      <td>Situs Ratu Baka atau Candi Boko (Hanacaraka:ꦕꦤ...</td>\n",
       "      <td>Yogyakarta</td>\n",
       "      <td>Budaya</td>\n",
       "      <td>Yogyakarta Budaya</td>\n",
       "    </tr>\n",
       "    <tr>\n",
       "      <th>1</th>\n",
       "      <td>1</td>\n",
       "      <td>344</td>\n",
       "      <td>2</td>\n",
       "      <td>Pantai Marina</td>\n",
       "      <td>Pantai Marina (bahasa Jawa: ꦥꦱꦶꦱꦶꦂ​ꦩꦫꦶꦤ, trans...</td>\n",
       "      <td>Semarang</td>\n",
       "      <td>Bahari</td>\n",
       "      <td>Semarang Bahari</td>\n",
       "    </tr>\n",
       "    <tr>\n",
       "      <th>2</th>\n",
       "      <td>1</td>\n",
       "      <td>5</td>\n",
       "      <td>5</td>\n",
       "      <td>Atlantis Water Adventure</td>\n",
       "      <td>Atlantis Water Adventure atau dikenal dengan A...</td>\n",
       "      <td>Jakarta</td>\n",
       "      <td>Taman Hiburan</td>\n",
       "      <td>Jakarta Taman Hiburan</td>\n",
       "    </tr>\n",
       "    <tr>\n",
       "      <th>3</th>\n",
       "      <td>1</td>\n",
       "      <td>373</td>\n",
       "      <td>3</td>\n",
       "      <td>Museum Kereta Ambarawa</td>\n",
       "      <td>Museum Kereta Api Ambarawa (bahasa Inggris: In...</td>\n",
       "      <td>Semarang</td>\n",
       "      <td>Budaya</td>\n",
       "      <td>Semarang Budaya</td>\n",
       "    </tr>\n",
       "    <tr>\n",
       "      <th>4</th>\n",
       "      <td>1</td>\n",
       "      <td>101</td>\n",
       "      <td>4</td>\n",
       "      <td>Kampung Wisata Sosro Menduran</td>\n",
       "      <td>Kampung wisata Sosromenduran merupakan kampung...</td>\n",
       "      <td>Yogyakarta</td>\n",
       "      <td>Budaya</td>\n",
       "      <td>Yogyakarta Budaya</td>\n",
       "    </tr>\n",
       "    <tr>\n",
       "      <th>...</th>\n",
       "      <td>...</td>\n",
       "      <td>...</td>\n",
       "      <td>...</td>\n",
       "      <td>...</td>\n",
       "      <td>...</td>\n",
       "      <td>...</td>\n",
       "      <td>...</td>\n",
       "      <td>...</td>\n",
       "    </tr>\n",
       "    <tr>\n",
       "      <th>2008</th>\n",
       "      <td>62</td>\n",
       "      <td>370</td>\n",
       "      <td>1</td>\n",
       "      <td>Benteng Pendem</td>\n",
       "      <td>Benteng Pendem Cilacap (bahasa Belanda: Kustba...</td>\n",
       "      <td>Semarang</td>\n",
       "      <td>Budaya</td>\n",
       "      <td>Semarang Budaya</td>\n",
       "    </tr>\n",
       "    <tr>\n",
       "      <th>2399</th>\n",
       "      <td>74</td>\n",
       "      <td>350</td>\n",
       "      <td>4</td>\n",
       "      <td>Pantai Cipta</td>\n",
       "      <td>Pantai Cipta juga dikenal sebagai Pantai Petik...</td>\n",
       "      <td>Semarang</td>\n",
       "      <td>Bahari</td>\n",
       "      <td>Semarang Bahari</td>\n",
       "    </tr>\n",
       "    <tr>\n",
       "      <th>2448</th>\n",
       "      <td>75</td>\n",
       "      <td>10</td>\n",
       "      <td>2</td>\n",
       "      <td>Pulau Tidung</td>\n",
       "      <td>Pulau Tidung adalah salah satu kelurahan di ke...</td>\n",
       "      <td>Jakarta</td>\n",
       "      <td>Bahari</td>\n",
       "      <td>Jakarta Bahari</td>\n",
       "    </tr>\n",
       "    <tr>\n",
       "      <th>2534</th>\n",
       "      <td>78</td>\n",
       "      <td>7</td>\n",
       "      <td>4</td>\n",
       "      <td>Kebun Binatang Ragunan</td>\n",
       "      <td>Kebun Binatang Ragunan adalah sebuah kebun bin...</td>\n",
       "      <td>Jakarta</td>\n",
       "      <td>Cagar Alam</td>\n",
       "      <td>Jakarta Cagar Alam</td>\n",
       "    </tr>\n",
       "    <tr>\n",
       "      <th>2918</th>\n",
       "      <td>90</td>\n",
       "      <td>140</td>\n",
       "      <td>1</td>\n",
       "      <td>Bendung Lepen</td>\n",
       "      <td>Bendung Lepen sendiri dulunya merupakan salura...</td>\n",
       "      <td>Yogyakarta</td>\n",
       "      <td>Taman Hiburan</td>\n",
       "      <td>Yogyakarta Taman Hiburan</td>\n",
       "    </tr>\n",
       "  </tbody>\n",
       "</table>\n",
       "<p>437 rows × 8 columns</p>\n",
       "</div>"
      ],
      "text/plain": [
       "      User_Id  Place_Id  Place_Ratings                     Place_Name  \\\n",
       "0           1       179              3                Candi Ratu Boko   \n",
       "1           1       344              2                  Pantai Marina   \n",
       "2           1         5              5       Atlantis Water Adventure   \n",
       "3           1       373              3         Museum Kereta Ambarawa   \n",
       "4           1       101              4  Kampung Wisata Sosro Menduran   \n",
       "...       ...       ...            ...                            ...   \n",
       "2008       62       370              1                 Benteng Pendem   \n",
       "2399       74       350              4                   Pantai Cipta   \n",
       "2448       75        10              2                   Pulau Tidung   \n",
       "2534       78         7              4         Kebun Binatang Ragunan   \n",
       "2918       90       140              1                  Bendung Lepen   \n",
       "\n",
       "                                            Description        City  \\\n",
       "0     Situs Ratu Baka atau Candi Boko (Hanacaraka:ꦕꦤ...  Yogyakarta   \n",
       "1     Pantai Marina (bahasa Jawa: ꦥꦱꦶꦱꦶꦂ​ꦩꦫꦶꦤ, trans...    Semarang   \n",
       "2     Atlantis Water Adventure atau dikenal dengan A...     Jakarta   \n",
       "3     Museum Kereta Api Ambarawa (bahasa Inggris: In...    Semarang   \n",
       "4     Kampung wisata Sosromenduran merupakan kampung...  Yogyakarta   \n",
       "...                                                 ...         ...   \n",
       "2008  Benteng Pendem Cilacap (bahasa Belanda: Kustba...    Semarang   \n",
       "2399  Pantai Cipta juga dikenal sebagai Pantai Petik...    Semarang   \n",
       "2448  Pulau Tidung adalah salah satu kelurahan di ke...     Jakarta   \n",
       "2534  Kebun Binatang Ragunan adalah sebuah kebun bin...     Jakarta   \n",
       "2918  Bendung Lepen sendiri dulunya merupakan salura...  Yogyakarta   \n",
       "\n",
       "           Category             city_category  \n",
       "0            Budaya         Yogyakarta Budaya  \n",
       "1            Bahari           Semarang Bahari  \n",
       "2     Taman Hiburan     Jakarta Taman Hiburan  \n",
       "3            Budaya           Semarang Budaya  \n",
       "4            Budaya         Yogyakarta Budaya  \n",
       "...             ...                       ...  \n",
       "2008         Budaya           Semarang Budaya  \n",
       "2399         Bahari           Semarang Bahari  \n",
       "2448         Bahari            Jakarta Bahari  \n",
       "2534     Cagar Alam        Jakarta Cagar Alam  \n",
       "2918  Taman Hiburan  Yogyakarta Taman Hiburan  \n",
       "\n",
       "[437 rows x 8 columns]"
      ]
     },
     "execution_count": 45,
     "metadata": {},
     "output_type": "execute_result"
    }
   ],
   "source": [
    "preparation= all_tourism.drop_duplicates(\"Place_Id\")\n",
    "preparation"
   ]
  },
  {
   "cell_type": "code",
   "execution_count": 46,
   "id": "1830ff41",
   "metadata": {
    "execution": {
     "iopub.execute_input": "2023-03-06T14:16:40.717282Z",
     "iopub.status.busy": "2023-03-06T14:16:40.716917Z",
     "iopub.status.idle": "2023-03-06T14:16:40.725258Z",
     "shell.execute_reply": "2023-03-06T14:16:40.724423Z"
    },
    "papermill": {
     "duration": 0.031618,
     "end_time": "2023-03-06T14:16:40.727122",
     "exception": false,
     "start_time": "2023-03-06T14:16:40.695504",
     "status": "completed"
    },
    "tags": []
   },
   "outputs": [],
   "source": [
    "place_id = preparation.Place_Id.tolist()\n",
    "\n",
    "place_name = preparation.Place_Name.tolist()\n",
    "\n",
    "place_category = preparation.Category.tolist()\n",
    "\n",
    "place_desc = preparation.Description.tolist()\n",
    "\n",
    "place_city = preparation.City.tolist()\n",
    "\n",
    "city_category = preparation.city_category.tolist()"
   ]
  },
  {
   "cell_type": "code",
   "execution_count": 47,
   "id": "33498d4e",
   "metadata": {
    "execution": {
     "iopub.execute_input": "2023-03-06T14:16:40.768099Z",
     "iopub.status.busy": "2023-03-06T14:16:40.767750Z",
     "iopub.status.idle": "2023-03-06T14:16:40.788429Z",
     "shell.execute_reply": "2023-03-06T14:16:40.787527Z"
    },
    "papermill": {
     "duration": 0.045445,
     "end_time": "2023-03-06T14:16:40.790941",
     "exception": false,
     "start_time": "2023-03-06T14:16:40.745496",
     "status": "completed"
    },
    "tags": []
   },
   "outputs": [
    {
     "data": {
      "text/html": [
       "<div>\n",
       "<style scoped>\n",
       "    .dataframe tbody tr th:only-of-type {\n",
       "        vertical-align: middle;\n",
       "    }\n",
       "\n",
       "    .dataframe tbody tr th {\n",
       "        vertical-align: top;\n",
       "    }\n",
       "\n",
       "    .dataframe thead th {\n",
       "        text-align: right;\n",
       "    }\n",
       "</style>\n",
       "<table border=\"1\" class=\"dataframe\">\n",
       "  <thead>\n",
       "    <tr style=\"text-align: right;\">\n",
       "      <th></th>\n",
       "      <th>id</th>\n",
       "      <th>name</th>\n",
       "      <th>category</th>\n",
       "      <th>description</th>\n",
       "      <th>city</th>\n",
       "      <th>city_category</th>\n",
       "    </tr>\n",
       "  </thead>\n",
       "  <tbody>\n",
       "    <tr>\n",
       "      <th>0</th>\n",
       "      <td>179</td>\n",
       "      <td>Candi Ratu Boko</td>\n",
       "      <td>Budaya</td>\n",
       "      <td>Situs Ratu Baka atau Candi Boko (Hanacaraka:ꦕꦤ...</td>\n",
       "      <td>Yogyakarta</td>\n",
       "      <td>Yogyakarta Budaya</td>\n",
       "    </tr>\n",
       "    <tr>\n",
       "      <th>1</th>\n",
       "      <td>344</td>\n",
       "      <td>Pantai Marina</td>\n",
       "      <td>Bahari</td>\n",
       "      <td>Pantai Marina (bahasa Jawa: ꦥꦱꦶꦱꦶꦂ​ꦩꦫꦶꦤ, trans...</td>\n",
       "      <td>Semarang</td>\n",
       "      <td>Semarang Bahari</td>\n",
       "    </tr>\n",
       "    <tr>\n",
       "      <th>2</th>\n",
       "      <td>5</td>\n",
       "      <td>Atlantis Water Adventure</td>\n",
       "      <td>Taman Hiburan</td>\n",
       "      <td>Atlantis Water Adventure atau dikenal dengan A...</td>\n",
       "      <td>Jakarta</td>\n",
       "      <td>Jakarta Taman Hiburan</td>\n",
       "    </tr>\n",
       "    <tr>\n",
       "      <th>3</th>\n",
       "      <td>373</td>\n",
       "      <td>Museum Kereta Ambarawa</td>\n",
       "      <td>Budaya</td>\n",
       "      <td>Museum Kereta Api Ambarawa (bahasa Inggris: In...</td>\n",
       "      <td>Semarang</td>\n",
       "      <td>Semarang Budaya</td>\n",
       "    </tr>\n",
       "    <tr>\n",
       "      <th>4</th>\n",
       "      <td>101</td>\n",
       "      <td>Kampung Wisata Sosro Menduran</td>\n",
       "      <td>Budaya</td>\n",
       "      <td>Kampung wisata Sosromenduran merupakan kampung...</td>\n",
       "      <td>Yogyakarta</td>\n",
       "      <td>Yogyakarta Budaya</td>\n",
       "    </tr>\n",
       "    <tr>\n",
       "      <th>...</th>\n",
       "      <td>...</td>\n",
       "      <td>...</td>\n",
       "      <td>...</td>\n",
       "      <td>...</td>\n",
       "      <td>...</td>\n",
       "      <td>...</td>\n",
       "    </tr>\n",
       "    <tr>\n",
       "      <th>432</th>\n",
       "      <td>370</td>\n",
       "      <td>Benteng Pendem</td>\n",
       "      <td>Budaya</td>\n",
       "      <td>Benteng Pendem Cilacap (bahasa Belanda: Kustba...</td>\n",
       "      <td>Semarang</td>\n",
       "      <td>Semarang Budaya</td>\n",
       "    </tr>\n",
       "    <tr>\n",
       "      <th>433</th>\n",
       "      <td>350</td>\n",
       "      <td>Pantai Cipta</td>\n",
       "      <td>Bahari</td>\n",
       "      <td>Pantai Cipta juga dikenal sebagai Pantai Petik...</td>\n",
       "      <td>Semarang</td>\n",
       "      <td>Semarang Bahari</td>\n",
       "    </tr>\n",
       "    <tr>\n",
       "      <th>434</th>\n",
       "      <td>10</td>\n",
       "      <td>Pulau Tidung</td>\n",
       "      <td>Bahari</td>\n",
       "      <td>Pulau Tidung adalah salah satu kelurahan di ke...</td>\n",
       "      <td>Jakarta</td>\n",
       "      <td>Jakarta Bahari</td>\n",
       "    </tr>\n",
       "    <tr>\n",
       "      <th>435</th>\n",
       "      <td>7</td>\n",
       "      <td>Kebun Binatang Ragunan</td>\n",
       "      <td>Cagar Alam</td>\n",
       "      <td>Kebun Binatang Ragunan adalah sebuah kebun bin...</td>\n",
       "      <td>Jakarta</td>\n",
       "      <td>Jakarta Cagar Alam</td>\n",
       "    </tr>\n",
       "    <tr>\n",
       "      <th>436</th>\n",
       "      <td>140</td>\n",
       "      <td>Bendung Lepen</td>\n",
       "      <td>Taman Hiburan</td>\n",
       "      <td>Bendung Lepen sendiri dulunya merupakan salura...</td>\n",
       "      <td>Yogyakarta</td>\n",
       "      <td>Yogyakarta Taman Hiburan</td>\n",
       "    </tr>\n",
       "  </tbody>\n",
       "</table>\n",
       "<p>437 rows × 6 columns</p>\n",
       "</div>"
      ],
      "text/plain": [
       "      id                           name       category  \\\n",
       "0    179                Candi Ratu Boko         Budaya   \n",
       "1    344                  Pantai Marina         Bahari   \n",
       "2      5       Atlantis Water Adventure  Taman Hiburan   \n",
       "3    373         Museum Kereta Ambarawa         Budaya   \n",
       "4    101  Kampung Wisata Sosro Menduran         Budaya   \n",
       "..   ...                            ...            ...   \n",
       "432  370                 Benteng Pendem         Budaya   \n",
       "433  350                   Pantai Cipta         Bahari   \n",
       "434   10                   Pulau Tidung         Bahari   \n",
       "435    7         Kebun Binatang Ragunan     Cagar Alam   \n",
       "436  140                  Bendung Lepen  Taman Hiburan   \n",
       "\n",
       "                                           description        city  \\\n",
       "0    Situs Ratu Baka atau Candi Boko (Hanacaraka:ꦕꦤ...  Yogyakarta   \n",
       "1    Pantai Marina (bahasa Jawa: ꦥꦱꦶꦱꦶꦂ​ꦩꦫꦶꦤ, trans...    Semarang   \n",
       "2    Atlantis Water Adventure atau dikenal dengan A...     Jakarta   \n",
       "3    Museum Kereta Api Ambarawa (bahasa Inggris: In...    Semarang   \n",
       "4    Kampung wisata Sosromenduran merupakan kampung...  Yogyakarta   \n",
       "..                                                 ...         ...   \n",
       "432  Benteng Pendem Cilacap (bahasa Belanda: Kustba...    Semarang   \n",
       "433  Pantai Cipta juga dikenal sebagai Pantai Petik...    Semarang   \n",
       "434  Pulau Tidung adalah salah satu kelurahan di ke...     Jakarta   \n",
       "435  Kebun Binatang Ragunan adalah sebuah kebun bin...     Jakarta   \n",
       "436  Bendung Lepen sendiri dulunya merupakan salura...  Yogyakarta   \n",
       "\n",
       "                city_category  \n",
       "0           Yogyakarta Budaya  \n",
       "1             Semarang Bahari  \n",
       "2       Jakarta Taman Hiburan  \n",
       "3             Semarang Budaya  \n",
       "4           Yogyakarta Budaya  \n",
       "..                        ...  \n",
       "432           Semarang Budaya  \n",
       "433           Semarang Bahari  \n",
       "434            Jakarta Bahari  \n",
       "435        Jakarta Cagar Alam  \n",
       "436  Yogyakarta Taman Hiburan  \n",
       "\n",
       "[437 rows x 6 columns]"
      ]
     },
     "execution_count": 47,
     "metadata": {},
     "output_type": "execute_result"
    }
   ],
   "source": [
    "tourism_new = pd.DataFrame({\n",
    "    \"id\":place_id,\n",
    "    \"name\":place_name,\n",
    "    \"category\":place_category,\n",
    "    \"description\":place_desc,\n",
    "    \"city\":place_city,\n",
    "    \"city_category\":city_category\n",
    "})\n",
    "\n",
    "tourism_new"
   ]
  },
  {
   "cell_type": "code",
   "execution_count": 48,
   "id": "a8108756",
   "metadata": {
    "execution": {
     "iopub.execute_input": "2023-03-06T14:16:40.834413Z",
     "iopub.status.busy": "2023-03-06T14:16:40.833896Z",
     "iopub.status.idle": "2023-03-06T14:16:40.964272Z",
     "shell.execute_reply": "2023-03-06T14:16:40.961365Z"
    },
    "papermill": {
     "duration": 0.154334,
     "end_time": "2023-03-06T14:16:40.966432",
     "exception": true,
     "start_time": "2023-03-06T14:16:40.812098",
     "status": "failed"
    },
    "tags": []
   },
   "outputs": [
    {
     "ename": "KeyError",
     "evalue": "'index'",
     "output_type": "error",
     "traceback": [
      "\u001b[0;31m---------------------------------------------------------------------------\u001b[0m",
      "\u001b[0;31mKeyError\u001b[0m                                  Traceback (most recent call last)",
      "\u001b[0;32m/tmp/ipykernel_13718/3422523465.py\u001b[0m in \u001b[0;36m?\u001b[0;34m()\u001b[0m\n\u001b[1;32m      1\u001b[0m \u001b[0mtop_10\u001b[0m \u001b[0;34m=\u001b[0m \u001b[0mtourism_new\u001b[0m\u001b[0;34m[\u001b[0m\u001b[0;34m'id'\u001b[0m\u001b[0;34m]\u001b[0m\u001b[0;34m.\u001b[0m\u001b[0mvalue_counts\u001b[0m\u001b[0;34m(\u001b[0m\u001b[0;34m)\u001b[0m\u001b[0;34m.\u001b[0m\u001b[0mreset_index\u001b[0m\u001b[0;34m(\u001b[0m\u001b[0;34m)\u001b[0m\u001b[0;34m[\u001b[0m\u001b[0;36m0\u001b[0m\u001b[0;34m:\u001b[0m\u001b[0;36m10\u001b[0m\u001b[0;34m]\u001b[0m\u001b[0;34m\u001b[0m\u001b[0;34m\u001b[0m\u001b[0m\n\u001b[0;32m----> 2\u001b[0;31m \u001b[0mtop_10\u001b[0m \u001b[0;34m=\u001b[0m \u001b[0mpd\u001b[0m\u001b[0;34m.\u001b[0m\u001b[0mmerge\u001b[0m\u001b[0;34m(\u001b[0m\u001b[0mtop_10\u001b[0m\u001b[0;34m,\u001b[0m\u001b[0mpreparation\u001b[0m\u001b[0;34m[\u001b[0m\u001b[0;34m[\u001b[0m\u001b[0;34m'Place_Id'\u001b[0m\u001b[0;34m,\u001b[0m\u001b[0;34m'Place_Name'\u001b[0m\u001b[0;34m]\u001b[0m\u001b[0;34m]\u001b[0m\u001b[0;34m,\u001b[0m \u001b[0mhow\u001b[0m\u001b[0;34m=\u001b[0m\u001b[0;34m'left'\u001b[0m\u001b[0;34m,\u001b[0m \u001b[0mleft_on\u001b[0m\u001b[0;34m=\u001b[0m\u001b[0;34m'index'\u001b[0m\u001b[0;34m,\u001b[0m \u001b[0mright_on\u001b[0m\u001b[0;34m=\u001b[0m\u001b[0;34m'Place_Id'\u001b[0m\u001b[0;34m)\u001b[0m\u001b[0;34m\u001b[0m\u001b[0;34m\u001b[0m\u001b[0m\n\u001b[0m\u001b[1;32m      3\u001b[0m \u001b[0;34m\u001b[0m\u001b[0m\n\u001b[1;32m      4\u001b[0m \u001b[0;31m# Membuat visualisasi wisata dengan jumlah rating terbanyak\u001b[0m\u001b[0;34m\u001b[0m\u001b[0;34m\u001b[0m\u001b[0m\n\u001b[1;32m      5\u001b[0m \u001b[0mplt\u001b[0m\u001b[0;34m.\u001b[0m\u001b[0mfigure\u001b[0m\u001b[0;34m(\u001b[0m\u001b[0mfigsize\u001b[0m\u001b[0;34m=\u001b[0m\u001b[0;34m(\u001b[0m\u001b[0;36m8\u001b[0m\u001b[0;34m,\u001b[0m\u001b[0;36m5\u001b[0m\u001b[0;34m)\u001b[0m\u001b[0;34m)\u001b[0m\u001b[0;34m\u001b[0m\u001b[0;34m\u001b[0m\u001b[0m\n",
      "\u001b[0;32m~/anaconda3/lib/python3.11/site-packages/pandas/core/reshape/merge.py\u001b[0m in \u001b[0;36m?\u001b[0;34m(left, right, how, on, left_on, right_on, left_index, right_index, sort, suffixes, copy, indicator, validate)\u001b[0m\n\u001b[1;32m    144\u001b[0m     \u001b[0mcopy\u001b[0m\u001b[0;34m:\u001b[0m \u001b[0mbool\u001b[0m \u001b[0;34m|\u001b[0m \u001b[0;32mNone\u001b[0m \u001b[0;34m=\u001b[0m \u001b[0;32mNone\u001b[0m\u001b[0;34m,\u001b[0m\u001b[0;34m\u001b[0m\u001b[0;34m\u001b[0m\u001b[0m\n\u001b[1;32m    145\u001b[0m     \u001b[0mindicator\u001b[0m\u001b[0;34m:\u001b[0m \u001b[0mstr\u001b[0m \u001b[0;34m|\u001b[0m \u001b[0mbool\u001b[0m \u001b[0;34m=\u001b[0m \u001b[0;32mFalse\u001b[0m\u001b[0;34m,\u001b[0m\u001b[0;34m\u001b[0m\u001b[0;34m\u001b[0m\u001b[0m\n\u001b[1;32m    146\u001b[0m     \u001b[0mvalidate\u001b[0m\u001b[0;34m:\u001b[0m \u001b[0mstr\u001b[0m \u001b[0;34m|\u001b[0m \u001b[0;32mNone\u001b[0m \u001b[0;34m=\u001b[0m \u001b[0;32mNone\u001b[0m\u001b[0;34m,\u001b[0m\u001b[0;34m\u001b[0m\u001b[0;34m\u001b[0m\u001b[0m\n\u001b[1;32m    147\u001b[0m ) -> DataFrame:\n\u001b[0;32m--> 148\u001b[0;31m     op = _MergeOperation(\n\u001b[0m\u001b[1;32m    149\u001b[0m         \u001b[0mleft\u001b[0m\u001b[0;34m,\u001b[0m\u001b[0;34m\u001b[0m\u001b[0;34m\u001b[0m\u001b[0m\n\u001b[1;32m    150\u001b[0m         \u001b[0mright\u001b[0m\u001b[0;34m,\u001b[0m\u001b[0;34m\u001b[0m\u001b[0;34m\u001b[0m\u001b[0m\n\u001b[1;32m    151\u001b[0m         \u001b[0mhow\u001b[0m\u001b[0;34m=\u001b[0m\u001b[0mhow\u001b[0m\u001b[0;34m,\u001b[0m\u001b[0;34m\u001b[0m\u001b[0;34m\u001b[0m\u001b[0m\n",
      "\u001b[0;32m~/anaconda3/lib/python3.11/site-packages/pandas/core/reshape/merge.py\u001b[0m in \u001b[0;36m?\u001b[0;34m(self, left, right, how, on, left_on, right_on, axis, left_index, right_index, sort, suffixes, indicator, validate)\u001b[0m\n\u001b[1;32m    733\u001b[0m         (\n\u001b[1;32m    734\u001b[0m             \u001b[0mself\u001b[0m\u001b[0;34m.\u001b[0m\u001b[0mleft_join_keys\u001b[0m\u001b[0;34m,\u001b[0m\u001b[0;34m\u001b[0m\u001b[0;34m\u001b[0m\u001b[0m\n\u001b[1;32m    735\u001b[0m             \u001b[0mself\u001b[0m\u001b[0;34m.\u001b[0m\u001b[0mright_join_keys\u001b[0m\u001b[0;34m,\u001b[0m\u001b[0;34m\u001b[0m\u001b[0;34m\u001b[0m\u001b[0m\n\u001b[1;32m    736\u001b[0m             \u001b[0mself\u001b[0m\u001b[0;34m.\u001b[0m\u001b[0mjoin_names\u001b[0m\u001b[0;34m,\u001b[0m\u001b[0;34m\u001b[0m\u001b[0;34m\u001b[0m\u001b[0m\n\u001b[0;32m--> 737\u001b[0;31m         ) = self._get_merge_keys()\n\u001b[0m\u001b[1;32m    738\u001b[0m \u001b[0;34m\u001b[0m\u001b[0m\n\u001b[1;32m    739\u001b[0m         \u001b[0;31m# validate the merge keys dtypes. We may need to coerce\u001b[0m\u001b[0;34m\u001b[0m\u001b[0;34m\u001b[0m\u001b[0m\n\u001b[1;32m    740\u001b[0m         \u001b[0;31m# to avoid incompatible dtypes\u001b[0m\u001b[0;34m\u001b[0m\u001b[0;34m\u001b[0m\u001b[0m\n",
      "\u001b[0;32m~/anaconda3/lib/python3.11/site-packages/pandas/core/reshape/merge.py\u001b[0m in \u001b[0;36m?\u001b[0;34m(self)\u001b[0m\n\u001b[1;32m   1217\u001b[0m                     \u001b[0;32mif\u001b[0m \u001b[0mlk\u001b[0m \u001b[0;32mis\u001b[0m \u001b[0;32mnot\u001b[0m \u001b[0;32mNone\u001b[0m\u001b[0;34m:\u001b[0m\u001b[0;34m\u001b[0m\u001b[0;34m\u001b[0m\u001b[0m\n\u001b[1;32m   1218\u001b[0m                         \u001b[0;31m# Then we're either Hashable or a wrong-length arraylike,\u001b[0m\u001b[0;34m\u001b[0m\u001b[0;34m\u001b[0m\u001b[0m\n\u001b[1;32m   1219\u001b[0m                         \u001b[0;31m#  the latter of which will raise\u001b[0m\u001b[0;34m\u001b[0m\u001b[0;34m\u001b[0m\u001b[0m\n\u001b[1;32m   1220\u001b[0m                         \u001b[0mlk\u001b[0m \u001b[0;34m=\u001b[0m \u001b[0mcast\u001b[0m\u001b[0;34m(\u001b[0m\u001b[0mHashable\u001b[0m\u001b[0;34m,\u001b[0m \u001b[0mlk\u001b[0m\u001b[0;34m)\u001b[0m\u001b[0;34m\u001b[0m\u001b[0;34m\u001b[0m\u001b[0m\n\u001b[0;32m-> 1221\u001b[0;31m                         \u001b[0mleft_keys\u001b[0m\u001b[0;34m.\u001b[0m\u001b[0mappend\u001b[0m\u001b[0;34m(\u001b[0m\u001b[0mleft\u001b[0m\u001b[0;34m.\u001b[0m\u001b[0m_get_label_or_level_values\u001b[0m\u001b[0;34m(\u001b[0m\u001b[0mlk\u001b[0m\u001b[0;34m)\u001b[0m\u001b[0;34m)\u001b[0m\u001b[0;34m\u001b[0m\u001b[0;34m\u001b[0m\u001b[0m\n\u001b[0m\u001b[1;32m   1222\u001b[0m                         \u001b[0mjoin_names\u001b[0m\u001b[0;34m.\u001b[0m\u001b[0mappend\u001b[0m\u001b[0;34m(\u001b[0m\u001b[0mlk\u001b[0m\u001b[0;34m)\u001b[0m\u001b[0;34m\u001b[0m\u001b[0;34m\u001b[0m\u001b[0m\n\u001b[1;32m   1223\u001b[0m                     \u001b[0;32melse\u001b[0m\u001b[0;34m:\u001b[0m\u001b[0;34m\u001b[0m\u001b[0;34m\u001b[0m\u001b[0m\n\u001b[1;32m   1224\u001b[0m                         \u001b[0;31m# work-around for merge_asof(left_index=True)\u001b[0m\u001b[0;34m\u001b[0m\u001b[0;34m\u001b[0m\u001b[0m\n",
      "\u001b[0;32m~/anaconda3/lib/python3.11/site-packages/pandas/core/generic.py\u001b[0m in \u001b[0;36m?\u001b[0;34m(self, key, axis)\u001b[0m\n\u001b[1;32m   1774\u001b[0m             \u001b[0mvalues\u001b[0m \u001b[0;34m=\u001b[0m \u001b[0mself\u001b[0m\u001b[0;34m.\u001b[0m\u001b[0mxs\u001b[0m\u001b[0;34m(\u001b[0m\u001b[0mkey\u001b[0m\u001b[0;34m,\u001b[0m \u001b[0maxis\u001b[0m\u001b[0;34m=\u001b[0m\u001b[0mother_axes\u001b[0m\u001b[0;34m[\u001b[0m\u001b[0;36m0\u001b[0m\u001b[0;34m]\u001b[0m\u001b[0;34m)\u001b[0m\u001b[0;34m.\u001b[0m\u001b[0m_values\u001b[0m\u001b[0;34m\u001b[0m\u001b[0;34m\u001b[0m\u001b[0m\n\u001b[1;32m   1775\u001b[0m         \u001b[0;32melif\u001b[0m \u001b[0mself\u001b[0m\u001b[0;34m.\u001b[0m\u001b[0m_is_level_reference\u001b[0m\u001b[0;34m(\u001b[0m\u001b[0mkey\u001b[0m\u001b[0;34m,\u001b[0m \u001b[0maxis\u001b[0m\u001b[0;34m=\u001b[0m\u001b[0maxis\u001b[0m\u001b[0;34m)\u001b[0m\u001b[0;34m:\u001b[0m\u001b[0;34m\u001b[0m\u001b[0;34m\u001b[0m\u001b[0m\n\u001b[1;32m   1776\u001b[0m             \u001b[0mvalues\u001b[0m \u001b[0;34m=\u001b[0m \u001b[0mself\u001b[0m\u001b[0;34m.\u001b[0m\u001b[0maxes\u001b[0m\u001b[0;34m[\u001b[0m\u001b[0maxis\u001b[0m\u001b[0;34m]\u001b[0m\u001b[0;34m.\u001b[0m\u001b[0mget_level_values\u001b[0m\u001b[0;34m(\u001b[0m\u001b[0mkey\u001b[0m\u001b[0;34m)\u001b[0m\u001b[0;34m.\u001b[0m\u001b[0m_values\u001b[0m\u001b[0;34m\u001b[0m\u001b[0;34m\u001b[0m\u001b[0m\n\u001b[1;32m   1777\u001b[0m         \u001b[0;32melse\u001b[0m\u001b[0;34m:\u001b[0m\u001b[0;34m\u001b[0m\u001b[0;34m\u001b[0m\u001b[0m\n\u001b[0;32m-> 1778\u001b[0;31m             \u001b[0;32mraise\u001b[0m \u001b[0mKeyError\u001b[0m\u001b[0;34m(\u001b[0m\u001b[0mkey\u001b[0m\u001b[0;34m)\u001b[0m\u001b[0;34m\u001b[0m\u001b[0;34m\u001b[0m\u001b[0m\n\u001b[0m\u001b[1;32m   1779\u001b[0m \u001b[0;34m\u001b[0m\u001b[0m\n\u001b[1;32m   1780\u001b[0m         \u001b[0;31m# Check for duplicates\u001b[0m\u001b[0;34m\u001b[0m\u001b[0;34m\u001b[0m\u001b[0m\n\u001b[1;32m   1781\u001b[0m         \u001b[0;32mif\u001b[0m \u001b[0mvalues\u001b[0m\u001b[0;34m.\u001b[0m\u001b[0mndim\u001b[0m \u001b[0;34m>\u001b[0m \u001b[0;36m1\u001b[0m\u001b[0;34m:\u001b[0m\u001b[0;34m\u001b[0m\u001b[0;34m\u001b[0m\u001b[0m\n",
      "\u001b[0;31mKeyError\u001b[0m: 'index'"
     ]
    }
   ],
   "source": [
    "top_10 = tourism_new['id'].value_counts().reset_index()[0:10]\n",
    "top_10 = pd.merge(top_10,preparation[['Place_Id','Place_Name']], how='left', left_on='index', right_on='Place_Id')\n",
    "\n",
    "# Membuat visualisasi wisata dengan jumlah rating terbanyak\n",
    "plt.figure(figsize=(8,5))\n",
    "sns.barplot('Place_Id', 'Place_Name', data=top_10)\n",
    "plt.title('Jumlah Tempat Wisata dengan Rating Terbanyak', pad=20)\n",
    "plt.ylabel('Jumlah Rating')\n",
    "plt.xlabel('Nama Lokasi')\n",
    "plt.show()"
   ]
  },
  {
   "cell_type": "code",
   "execution_count": 49,
   "id": "e1eccf98",
   "metadata": {
    "execution": {
     "iopub.execute_input": "2023-03-06T14:05:06.750620Z",
     "iopub.status.busy": "2023-03-06T14:05:06.750248Z",
     "iopub.status.idle": "2023-03-06T14:05:06.956472Z",
     "shell.execute_reply": "2023-03-06T14:05:06.955487Z",
     "shell.execute_reply.started": "2023-03-06T14:05:06.750588Z"
    },
    "papermill": {
     "duration": null,
     "end_time": null,
     "exception": null,
     "start_time": null,
     "status": "pending"
    },
    "tags": []
   },
   "outputs": [
    {
     "data": {
      "image/png": "[encoded data removed]",
      "text/plain": [
       "<Figure size 640x480 with 1 Axes>"
      ]
     },
     "metadata": {},
     "output_type": "display_data"
    }
   ],
   "source": [
    "sns.countplot(y='Category', data=preparation)\n",
    "plt.title('Perbandingan Jumlah Kategori Wisata di Kota Bandung', pad=20)\n",
    "plt.show()"
   ]
  },
  {
   "cell_type": "code",
   "execution_count": 50,
   "id": "848d0ed7",
   "metadata": {
    "execution": {
     "iopub.execute_input": "2023-03-06T14:06:48.207180Z",
     "iopub.status.busy": "2023-03-06T14:06:48.206723Z",
     "iopub.status.idle": "2023-03-06T14:06:48.347528Z",
     "shell.execute_reply": "2023-03-06T14:06:48.346582Z",
     "shell.execute_reply.started": "2023-03-06T14:06:48.207143Z"
    },
    "papermill": {
     "duration": null,
     "end_time": null,
     "exception": null,
     "start_time": null,
     "status": "pending"
    },
    "tags": []
   },
   "outputs": [
    {
     "data": {
      "image/png": "[encoded data removed]",
      "text/plain": [
       "<Figure size 500x300 with 1 Axes>"
      ]
     },
     "metadata": {},
     "output_type": "display_data"
    }
   ],
   "source": [
    "plt.figure(figsize=(5,3))\n",
    "sns.boxplot(users['Age']);\n",
    "plt.title('Distribusi Usia User', pad=20)\n",
    "plt.show()"
   ]
  },
  {
   "cell_type": "code",
   "execution_count": 51,
   "id": "d22d8a5a",
   "metadata": {
    "execution": {
     "iopub.execute_input": "2023-03-06T14:08:14.572405Z",
     "iopub.status.busy": "2023-03-06T14:08:14.571479Z",
     "iopub.status.idle": "2023-03-06T14:08:14.750174Z",
     "shell.execute_reply": "2023-03-06T14:08:14.749088Z",
     "shell.execute_reply.started": "2023-03-06T14:08:14.572357Z"
    },
    "papermill": {
     "duration": null,
     "end_time": null,
     "exception": null,
     "start_time": null,
     "status": "pending"
    },
    "tags": []
   },
   "outputs": [
    {
     "data": {
      "image/png": "[encoded data removed]",
      "text/plain": [
       "<Figure size 700x300 with 1 Axes>"
      ]
     },
     "metadata": {},
     "output_type": "display_data"
    }
   ],
   "source": [
    "plt.figure(figsize=(7,3))\n",
    "sns.boxplot(info_tourism['Price'])\n",
    "plt.title('Distribusi Harga Masuk Wisata di Kota Bandung', pad=20)\n",
    "plt.show()"
   ]
  },
  {
   "cell_type": "code",
   "execution_count": 52,
   "id": "afa60f39",
   "metadata": {
    "execution": {
     "iopub.execute_input": "2023-03-06T14:09:02.757004Z",
     "iopub.status.busy": "2023-03-06T14:09:02.756066Z",
     "iopub.status.idle": "2023-03-06T14:09:03.163614Z",
     "shell.execute_reply": "2023-03-06T14:09:03.162602Z",
     "shell.execute_reply.started": "2023-03-06T14:09:02.756943Z"
    },
    "papermill": {
     "duration": null,
     "end_time": null,
     "exception": null,
     "start_time": null,
     "status": "pending"
    },
    "tags": []
   },
   "outputs": [
    {
     "data": {
      "image/png": "[encoded data removed]",
      "text/plain": [
       "<Figure size 800x600 with 1 Axes>"
      ]
     },
     "metadata": {},
     "output_type": "display_data"
    }
   ],
   "source": [
    "askot = users['Location'].apply(lambda x : x.split(',')[0])\n",
    "\n",
    "# Visualisasi asal kota dari user\n",
    "plt.figure(figsize=(8,6))\n",
    "sns.countplot(y=askot)\n",
    "plt.title('Jumlah Asal Kota dari User')\n",
    "plt.show()"
   ]
  },
  {
   "cell_type": "markdown",
   "id": "2c2df6a0",
   "metadata": {
    "jupyter": {
     "source_hidden": true
    },
    "papermill": {
     "duration": null,
     "end_time": null,
     "exception": null,
     "start_time": null,
     "status": "pending"
    },
    "tags": []
   },
   "source": [
    "#### "
   ]
  },
  {
   "cell_type": "markdown",
   "id": "928dee4a",
   "metadata": {
    "papermill": {
     "duration": null,
     "end_time": null,
     "exception": null,
     "start_time": null,
     "status": "pending"
    },
    "tags": []
   },
   "source": [
    "# Content Based Filtering"
   ]
  },
  {
   "cell_type": "code",
   "execution_count": 53,
   "id": "354106aa",
   "metadata": {
    "execution": {
     "iopub.status.busy": "2023-03-06T13:58:10.529652Z",
     "iopub.status.idle": "2023-03-06T13:58:10.530503Z",
     "shell.execute_reply": "2023-03-06T13:58:10.530266Z",
     "shell.execute_reply.started": "2023-03-06T13:58:10.530239Z"
    },
    "papermill": {
     "duration": null,
     "end_time": null,
     "exception": null,
     "start_time": null,
     "status": "pending"
    },
    "tags": []
   },
   "outputs": [
    {
     "data": {
      "text/html": [
       "<div>\n",
       "<style scoped>\n",
       "    .dataframe tbody tr th:only-of-type {\n",
       "        vertical-align: middle;\n",
       "    }\n",
       "\n",
       "    .dataframe tbody tr th {\n",
       "        vertical-align: top;\n",
       "    }\n",
       "\n",
       "    .dataframe thead th {\n",
       "        text-align: right;\n",
       "    }\n",
       "</style>\n",
       "<table border=\"1\" class=\"dataframe\">\n",
       "  <thead>\n",
       "    <tr style=\"text-align: right;\">\n",
       "      <th></th>\n",
       "      <th>id</th>\n",
       "      <th>name</th>\n",
       "      <th>category</th>\n",
       "      <th>description</th>\n",
       "      <th>city</th>\n",
       "      <th>city_category</th>\n",
       "    </tr>\n",
       "  </thead>\n",
       "  <tbody>\n",
       "    <tr>\n",
       "      <th>393</th>\n",
       "      <td>79</td>\n",
       "      <td>Taman Spathodea</td>\n",
       "      <td>Taman Hiburan</td>\n",
       "      <td>Objek Wisata Taman Spathodea di Jagakarsa DKI ...</td>\n",
       "      <td>Jakarta</td>\n",
       "      <td>Jakarta Taman Hiburan</td>\n",
       "    </tr>\n",
       "    <tr>\n",
       "      <th>94</th>\n",
       "      <td>14</td>\n",
       "      <td>Pulau Pelangi</td>\n",
       "      <td>Bahari</td>\n",
       "      <td>Pulau Pelangi adalah sebuah pulau yang terleta...</td>\n",
       "      <td>Jakarta</td>\n",
       "      <td>Jakarta Bahari</td>\n",
       "    </tr>\n",
       "    <tr>\n",
       "      <th>361</th>\n",
       "      <td>356</td>\n",
       "      <td>Saloka Theme Park</td>\n",
       "      <td>Taman Hiburan</td>\n",
       "      <td>SALOKA hadir sebagai taman rekreasi terbesar d...</td>\n",
       "      <td>Semarang</td>\n",
       "      <td>Semarang Taman Hiburan</td>\n",
       "    </tr>\n",
       "    <tr>\n",
       "      <th>182</th>\n",
       "      <td>264</td>\n",
       "      <td>Gereja Katedral Santo Petrus Bandung</td>\n",
       "      <td>Tempat Ibadah</td>\n",
       "      <td>Gereja Katedral Bandung, atau Katedral Santo P...</td>\n",
       "      <td>Bandung</td>\n",
       "      <td>Bandung Tempat Ibadah</td>\n",
       "    </tr>\n",
       "    <tr>\n",
       "      <th>341</th>\n",
       "      <td>60</td>\n",
       "      <td>Museum Tekstil</td>\n",
       "      <td>Budaya</td>\n",
       "      <td>Museum cinta Tekstil menempati gedung tua di J...</td>\n",
       "      <td>Jakarta</td>\n",
       "      <td>Jakarta Budaya</td>\n",
       "    </tr>\n",
       "  </tbody>\n",
       "</table>\n",
       "</div>"
      ],
      "text/plain": [
       "      id                                  name       category  \\\n",
       "393   79                       Taman Spathodea  Taman Hiburan   \n",
       "94    14                         Pulau Pelangi         Bahari   \n",
       "361  356                     Saloka Theme Park  Taman Hiburan   \n",
       "182  264  Gereja Katedral Santo Petrus Bandung  Tempat Ibadah   \n",
       "341   60                        Museum Tekstil         Budaya   \n",
       "\n",
       "                                           description      city  \\\n",
       "393  Objek Wisata Taman Spathodea di Jagakarsa DKI ...   Jakarta   \n",
       "94   Pulau Pelangi adalah sebuah pulau yang terleta...   Jakarta   \n",
       "361  SALOKA hadir sebagai taman rekreasi terbesar d...  Semarang   \n",
       "182  Gereja Katedral Bandung, atau Katedral Santo P...   Bandung   \n",
       "341  Museum cinta Tekstil menempati gedung tua di J...   Jakarta   \n",
       "\n",
       "              city_category  \n",
       "393   Jakarta Taman Hiburan  \n",
       "94           Jakarta Bahari  \n",
       "361  Semarang Taman Hiburan  \n",
       "182   Bandung Tempat Ibadah  \n",
       "341          Jakarta Budaya  "
      ]
     },
     "execution_count": 53,
     "metadata": {},
     "output_type": "execute_result"
    }
   ],
   "source": [
    "data = tourism_new\n",
    "data.sample(5)"
   ]
  },
  {
   "cell_type": "markdown",
   "id": "25a5be0a",
   "metadata": {
    "papermill": {
     "duration": null,
     "end_time": null,
     "exception": null,
     "start_time": null,
     "status": "pending"
    },
    "tags": []
   },
   "source": [
    "## TF-IDF Vectorizer"
   ]
  },
  {
   "cell_type": "code",
   "execution_count": 54,
   "id": "15e33ac5",
   "metadata": {
    "execution": {
     "iopub.status.busy": "2023-03-06T13:58:10.532342Z",
     "iopub.status.idle": "2023-03-06T13:58:10.532812Z",
     "shell.execute_reply": "2023-03-06T13:58:10.532606Z",
     "shell.execute_reply.started": "2023-03-06T13:58:10.532582Z"
    },
    "papermill": {
     "duration": null,
     "end_time": null,
     "exception": null,
     "start_time": null,
     "status": "pending"
    },
    "tags": []
   },
   "outputs": [
    {
     "name": "stdout",
     "output_type": "stream",
     "text": [
      "Features Name:  ['yogyakarta', 'budaya', 'semarang', 'bahari', 'jakarta', 'taman', 'hiburan', 'bandung', 'cagar', 'alam', 'surabaya', 'pusat', 'perbelanjaan', 'tempat', 'ibadah']\n"
     ]
    }
   ],
   "source": [
    "from sklearn.feature_extraction.text import CountVectorizer\n",
    "\n",
    "cv = CountVectorizer()\n",
    "\n",
    "cv.fit(data['city_category'])\n",
    "\n",
    "print(\"Features Name: \", list(cv.vocabulary_.keys()))"
   ]
  },
  {
   "cell_type": "code",
   "execution_count": 55,
   "id": "cb54b862",
   "metadata": {
    "execution": {
     "iopub.status.busy": "2023-03-06T13:58:10.534522Z",
     "iopub.status.idle": "2023-03-06T13:58:10.534995Z",
     "shell.execute_reply": "2023-03-06T13:58:10.534787Z",
     "shell.execute_reply.started": "2023-03-06T13:58:10.534765Z"
    },
    "papermill": {
     "duration": null,
     "end_time": null,
     "exception": null,
     "start_time": null,
     "status": "pending"
    },
    "tags": []
   },
   "outputs": [
    {
     "data": {
      "text/plain": [
       "(437, 15)"
      ]
     },
     "execution_count": 55,
     "metadata": {},
     "output_type": "execute_result"
    }
   ],
   "source": [
    "cv_matrix = cv.transform(data['city_category']) \n",
    " \n",
    "cv_matrix.shape "
   ]
  },
  {
   "cell_type": "code",
   "execution_count": 56,
   "id": "72411795",
   "metadata": {
    "execution": {
     "iopub.execute_input": "2023-03-06T13:58:10.589963Z",
     "iopub.status.busy": "2023-03-06T13:58:10.589713Z",
     "iopub.status.idle": "2023-03-06T13:58:10.600828Z",
     "shell.execute_reply": "2023-03-06T13:58:10.599383Z",
     "shell.execute_reply.started": "2023-03-06T13:58:10.589940Z"
    },
    "papermill": {
     "duration": null,
     "end_time": null,
     "exception": null,
     "start_time": null,
     "status": "pending"
    },
    "tags": []
   },
   "outputs": [
    {
     "data": {
      "text/plain": [
       "matrix([[0, 0, 0, ..., 0, 0, 1],\n",
       "        [0, 1, 0, ..., 0, 0, 0],\n",
       "        [0, 0, 0, ..., 1, 0, 0],\n",
       "        ...,\n",
       "        [0, 1, 0, ..., 0, 0, 0],\n",
       "        [1, 0, 0, ..., 0, 0, 0],\n",
       "        [0, 0, 0, ..., 1, 0, 1]])"
      ]
     },
     "execution_count": 56,
     "metadata": {},
     "output_type": "execute_result"
    }
   ],
   "source": [
    "cv_matrix.todense()"
   ]
  },
  {
   "cell_type": "code",
   "execution_count": 57,
   "id": "eb65b1ce",
   "metadata": {
    "execution": {
     "iopub.execute_input": "2023-03-06T13:58:10.635850Z",
     "iopub.status.busy": "2023-03-06T13:58:10.635223Z",
     "iopub.status.idle": "2023-03-06T13:58:10.649507Z",
     "shell.execute_reply": "2023-03-06T13:58:10.648033Z",
     "shell.execute_reply.started": "2023-03-06T13:58:10.635814Z"
    },
    "papermill": {
     "duration": null,
     "end_time": null,
     "exception": null,
     "start_time": null,
     "status": "pending"
    },
    "tags": []
   },
   "outputs": [
    {
     "data": {
      "text/html": [
       "<div>\n",
       "<style scoped>\n",
       "    .dataframe tbody tr th:only-of-type {\n",
       "        vertical-align: middle;\n",
       "    }\n",
       "\n",
       "    .dataframe tbody tr th {\n",
       "        vertical-align: top;\n",
       "    }\n",
       "\n",
       "    .dataframe thead th {\n",
       "        text-align: right;\n",
       "    }\n",
       "</style>\n",
       "<table border=\"1\" class=\"dataframe\">\n",
       "  <thead>\n",
       "    <tr style=\"text-align: right;\">\n",
       "      <th></th>\n",
       "      <th>yogyakarta</th>\n",
       "      <th>budaya</th>\n",
       "      <th>semarang</th>\n",
       "      <th>bahari</th>\n",
       "      <th>jakarta</th>\n",
       "      <th>taman</th>\n",
       "      <th>hiburan</th>\n",
       "      <th>bandung</th>\n",
       "      <th>cagar</th>\n",
       "      <th>alam</th>\n",
       "      <th>surabaya</th>\n",
       "      <th>pusat</th>\n",
       "      <th>perbelanjaan</th>\n",
       "      <th>tempat</th>\n",
       "      <th>ibadah</th>\n",
       "    </tr>\n",
       "    <tr>\n",
       "      <th>name</th>\n",
       "      <th></th>\n",
       "      <th></th>\n",
       "      <th></th>\n",
       "      <th></th>\n",
       "      <th></th>\n",
       "      <th></th>\n",
       "      <th></th>\n",
       "      <th></th>\n",
       "      <th></th>\n",
       "      <th></th>\n",
       "      <th></th>\n",
       "      <th></th>\n",
       "      <th></th>\n",
       "      <th></th>\n",
       "      <th></th>\n",
       "    </tr>\n",
       "  </thead>\n",
       "  <tbody>\n",
       "    <tr>\n",
       "      <th>Taman Badak</th>\n",
       "      <td>0</td>\n",
       "      <td>0</td>\n",
       "      <td>1</td>\n",
       "      <td>0</td>\n",
       "      <td>0</td>\n",
       "      <td>1</td>\n",
       "      <td>0</td>\n",
       "      <td>0</td>\n",
       "      <td>0</td>\n",
       "      <td>0</td>\n",
       "      <td>0</td>\n",
       "      <td>0</td>\n",
       "      <td>1</td>\n",
       "      <td>0</td>\n",
       "      <td>0</td>\n",
       "    </tr>\n",
       "    <tr>\n",
       "      <th>Bumi Perkemahan Batu Kuda</th>\n",
       "      <td>1</td>\n",
       "      <td>0</td>\n",
       "      <td>1</td>\n",
       "      <td>0</td>\n",
       "      <td>1</td>\n",
       "      <td>0</td>\n",
       "      <td>0</td>\n",
       "      <td>0</td>\n",
       "      <td>0</td>\n",
       "      <td>0</td>\n",
       "      <td>0</td>\n",
       "      <td>0</td>\n",
       "      <td>0</td>\n",
       "      <td>0</td>\n",
       "      <td>0</td>\n",
       "    </tr>\n",
       "    <tr>\n",
       "      <th>Pasar Kebon Empring Bintaran</th>\n",
       "      <td>0</td>\n",
       "      <td>0</td>\n",
       "      <td>0</td>\n",
       "      <td>0</td>\n",
       "      <td>0</td>\n",
       "      <td>0</td>\n",
       "      <td>0</td>\n",
       "      <td>0</td>\n",
       "      <td>1</td>\n",
       "      <td>1</td>\n",
       "      <td>0</td>\n",
       "      <td>0</td>\n",
       "      <td>0</td>\n",
       "      <td>0</td>\n",
       "      <td>1</td>\n",
       "    </tr>\n",
       "    <tr>\n",
       "      <th>Museum Benteng Vredeburg Yogyakarta</th>\n",
       "      <td>0</td>\n",
       "      <td>0</td>\n",
       "      <td>0</td>\n",
       "      <td>1</td>\n",
       "      <td>0</td>\n",
       "      <td>0</td>\n",
       "      <td>0</td>\n",
       "      <td>0</td>\n",
       "      <td>0</td>\n",
       "      <td>0</td>\n",
       "      <td>0</td>\n",
       "      <td>0</td>\n",
       "      <td>0</td>\n",
       "      <td>0</td>\n",
       "      <td>1</td>\n",
       "    </tr>\n",
       "    <tr>\n",
       "      <th>Jogja Bay Pirates Adventure Waterpark</th>\n",
       "      <td>0</td>\n",
       "      <td>0</td>\n",
       "      <td>0</td>\n",
       "      <td>0</td>\n",
       "      <td>0</td>\n",
       "      <td>1</td>\n",
       "      <td>0</td>\n",
       "      <td>0</td>\n",
       "      <td>0</td>\n",
       "      <td>0</td>\n",
       "      <td>0</td>\n",
       "      <td>0</td>\n",
       "      <td>1</td>\n",
       "      <td>0</td>\n",
       "      <td>1</td>\n",
       "    </tr>\n",
       "  </tbody>\n",
       "</table>\n",
       "</div>"
      ],
      "text/plain": [
       "                                       yogyakarta  budaya  semarang  bahari  \\\n",
       "name                                                                          \n",
       "Taman Badak                                     0       0         1       0   \n",
       "Bumi Perkemahan Batu Kuda                       1       0         1       0   \n",
       "Pasar Kebon Empring Bintaran                    0       0         0       0   \n",
       "Museum Benteng Vredeburg Yogyakarta             0       0         0       1   \n",
       "Jogja Bay Pirates Adventure Waterpark           0       0         0       0   \n",
       "\n",
       "                                       jakarta  taman  hiburan  bandung  \\\n",
       "name                                                                      \n",
       "Taman Badak                                  0      1        0        0   \n",
       "Bumi Perkemahan Batu Kuda                    1      0        0        0   \n",
       "Pasar Kebon Empring Bintaran                 0      0        0        0   \n",
       "Museum Benteng Vredeburg Yogyakarta          0      0        0        0   \n",
       "Jogja Bay Pirates Adventure Waterpark        0      1        0        0   \n",
       "\n",
       "                                       cagar  alam  surabaya  pusat  \\\n",
       "name                                                                  \n",
       "Taman Badak                                0     0         0      0   \n",
       "Bumi Perkemahan Batu Kuda                  0     0         0      0   \n",
       "Pasar Kebon Empring Bintaran               1     1         0      0   \n",
       "Museum Benteng Vredeburg Yogyakarta        0     0         0      0   \n",
       "Jogja Bay Pirates Adventure Waterpark      0     0         0      0   \n",
       "\n",
       "                                       perbelanjaan  tempat  ibadah  \n",
       "name                                                                 \n",
       "Taman Badak                                       1       0       0  \n",
       "Bumi Perkemahan Batu Kuda                         0       0       0  \n",
       "Pasar Kebon Empring Bintaran                      0       0       1  \n",
       "Museum Benteng Vredeburg Yogyakarta               0       0       1  \n",
       "Jogja Bay Pirates Adventure Waterpark             1       0       1  "
      ]
     },
     "execution_count": 57,
     "metadata": {},
     "output_type": "execute_result"
    }
   ],
   "source": [
    "pd.DataFrame(\n",
    "    cv_matrix.todense(),\n",
    "    columns=list(cv.vocabulary_.keys()),\n",
    "    index = data.name\n",
    ").sample(5)"
   ]
  },
  {
   "cell_type": "markdown",
   "id": "94842150",
   "metadata": {
    "papermill": {
     "duration": null,
     "end_time": null,
     "exception": null,
     "start_time": null,
     "status": "pending"
    },
    "tags": []
   },
   "source": [
    "## Cosine Similarity"
   ]
  },
  {
   "cell_type": "code",
   "execution_count": 58,
   "id": "17259e57",
   "metadata": {
    "execution": {
     "iopub.status.busy": "2023-03-06T13:58:10.650363Z",
     "iopub.status.idle": "2023-03-06T13:58:10.651211Z",
     "shell.execute_reply": "2023-03-06T13:58:10.650980Z",
     "shell.execute_reply.started": "2023-03-06T13:58:10.650940Z"
    },
    "papermill": {
     "duration": null,
     "end_time": null,
     "exception": null,
     "start_time": null,
     "status": "pending"
    },
    "tags": []
   },
   "outputs": [
    {
     "data": {
      "text/plain": [
       "array([[1.        , 0.        , 0.        , ..., 0.        , 0.        ,\n",
       "        0.40824829],\n",
       "       [0.        , 1.        , 0.        , ..., 0.5       , 0.        ,\n",
       "        0.        ],\n",
       "       [0.        , 0.        , 1.        , ..., 0.40824829, 0.33333333,\n",
       "        0.66666667],\n",
       "       ...,\n",
       "       [0.        , 0.5       , 0.40824829, ..., 1.        , 0.40824829,\n",
       "        0.        ],\n",
       "       [0.        , 0.        , 0.33333333, ..., 0.40824829, 1.        ,\n",
       "        0.        ],\n",
       "       [0.40824829, 0.        , 0.66666667, ..., 0.        , 0.        ,\n",
       "        1.        ]])"
      ]
     },
     "execution_count": 58,
     "metadata": {},
     "output_type": "execute_result"
    }
   ],
   "source": [
    "from sklearn.metrics.pairwise import cosine_similarity\n",
    "\n",
    "cosine_sim = cosine_similarity(cv_matrix)\n",
    "cosine_sim"
   ]
  },
  {
   "cell_type": "code",
   "execution_count": 59,
   "id": "2b9a7418",
   "metadata": {
    "execution": {
     "iopub.execute_input": "2023-03-06T13:58:10.729928Z",
     "iopub.status.busy": "2023-03-06T13:58:10.729679Z",
     "iopub.status.idle": "2023-03-06T13:58:10.743688Z",
     "shell.execute_reply": "2023-03-06T13:58:10.742466Z",
     "shell.execute_reply.started": "2023-03-06T13:58:10.729905Z"
    },
    "papermill": {
     "duration": null,
     "end_time": null,
     "exception": null,
     "start_time": null,
     "status": "pending"
    },
    "tags": []
   },
   "outputs": [
    {
     "data": {
      "text/html": [
       "<div>\n",
       "<style scoped>\n",
       "    .dataframe tbody tr th:only-of-type {\n",
       "        vertical-align: middle;\n",
       "    }\n",
       "\n",
       "    .dataframe tbody tr th {\n",
       "        vertical-align: top;\n",
       "    }\n",
       "\n",
       "    .dataframe thead th {\n",
       "        text-align: right;\n",
       "    }\n",
       "</style>\n",
       "<table border=\"1\" class=\"dataframe\">\n",
       "  <thead>\n",
       "    <tr style=\"text-align: right;\">\n",
       "      <th>name</th>\n",
       "      <th>Pasar Taman Puring</th>\n",
       "      <th>Curug Cimahi</th>\n",
       "      <th>Monumen Serangan Umum 1 Maret</th>\n",
       "      <th>Pasar Kebon Empring Bintaran</th>\n",
       "      <th>Jakarta Planetarium</th>\n",
       "    </tr>\n",
       "    <tr>\n",
       "      <th>name</th>\n",
       "      <th></th>\n",
       "      <th></th>\n",
       "      <th></th>\n",
       "      <th></th>\n",
       "      <th></th>\n",
       "    </tr>\n",
       "  </thead>\n",
       "  <tbody>\n",
       "    <tr>\n",
       "      <th>Taman Situ Lembang</th>\n",
       "      <td>0.333333</td>\n",
       "      <td>0.000000</td>\n",
       "      <td>0.666667</td>\n",
       "      <td>0.000000</td>\n",
       "      <td>1.000000</td>\n",
       "    </tr>\n",
       "    <tr>\n",
       "      <th>Gunung Papandayan</th>\n",
       "      <td>0.000000</td>\n",
       "      <td>1.000000</td>\n",
       "      <td>0.000000</td>\n",
       "      <td>0.000000</td>\n",
       "      <td>0.000000</td>\n",
       "    </tr>\n",
       "    <tr>\n",
       "      <th>Jembatan Pasupati</th>\n",
       "      <td>0.000000</td>\n",
       "      <td>0.333333</td>\n",
       "      <td>0.666667</td>\n",
       "      <td>0.000000</td>\n",
       "      <td>0.666667</td>\n",
       "    </tr>\n",
       "    <tr>\n",
       "      <th>Kampoeng Kopi Banaran</th>\n",
       "      <td>0.000000</td>\n",
       "      <td>0.000000</td>\n",
       "      <td>0.666667</td>\n",
       "      <td>0.000000</td>\n",
       "      <td>0.666667</td>\n",
       "    </tr>\n",
       "    <tr>\n",
       "      <th>Kota Lama Semarang</th>\n",
       "      <td>0.000000</td>\n",
       "      <td>0.000000</td>\n",
       "      <td>0.000000</td>\n",
       "      <td>0.000000</td>\n",
       "      <td>0.000000</td>\n",
       "    </tr>\n",
       "    <tr>\n",
       "      <th>Taman Lapangan Banteng</th>\n",
       "      <td>0.333333</td>\n",
       "      <td>0.000000</td>\n",
       "      <td>0.666667</td>\n",
       "      <td>0.000000</td>\n",
       "      <td>1.000000</td>\n",
       "    </tr>\n",
       "    <tr>\n",
       "      <th>Gereja Tiberias Indonesia Bandung</th>\n",
       "      <td>0.000000</td>\n",
       "      <td>0.333333</td>\n",
       "      <td>0.000000</td>\n",
       "      <td>0.000000</td>\n",
       "      <td>0.000000</td>\n",
       "    </tr>\n",
       "    <tr>\n",
       "      <th>Masjid Pusdai</th>\n",
       "      <td>0.000000</td>\n",
       "      <td>0.333333</td>\n",
       "      <td>0.000000</td>\n",
       "      <td>0.000000</td>\n",
       "      <td>0.000000</td>\n",
       "    </tr>\n",
       "    <tr>\n",
       "      <th>Pantai Sanglen</th>\n",
       "      <td>0.000000</td>\n",
       "      <td>0.000000</td>\n",
       "      <td>0.408248</td>\n",
       "      <td>0.408248</td>\n",
       "      <td>0.000000</td>\n",
       "    </tr>\n",
       "    <tr>\n",
       "      <th>Museum Seni Rupa dan Kramik</th>\n",
       "      <td>0.408248</td>\n",
       "      <td>0.000000</td>\n",
       "      <td>0.000000</td>\n",
       "      <td>0.000000</td>\n",
       "      <td>0.408248</td>\n",
       "    </tr>\n",
       "  </tbody>\n",
       "</table>\n",
       "</div>"
      ],
      "text/plain": [
       "name                               Pasar Taman Puring  Curug Cimahi  \\\n",
       "name                                                                  \n",
       "Taman Situ Lembang                           0.333333      0.000000   \n",
       "Gunung Papandayan                            0.000000      1.000000   \n",
       "Jembatan Pasupati                            0.000000      0.333333   \n",
       "Kampoeng Kopi Banaran                        0.000000      0.000000   \n",
       "Kota Lama Semarang                           0.000000      0.000000   \n",
       "Taman Lapangan Banteng                       0.333333      0.000000   \n",
       "Gereja Tiberias Indonesia Bandung            0.000000      0.333333   \n",
       "Masjid Pusdai                                0.000000      0.333333   \n",
       "Pantai Sanglen                               0.000000      0.000000   \n",
       "Museum Seni Rupa dan Kramik                  0.408248      0.000000   \n",
       "\n",
       "name                               Monumen Serangan Umum 1 Maret  \\\n",
       "name                                                               \n",
       "Taman Situ Lembang                                      0.666667   \n",
       "Gunung Papandayan                                       0.000000   \n",
       "Jembatan Pasupati                                       0.666667   \n",
       "Kampoeng Kopi Banaran                                   0.666667   \n",
       "Kota Lama Semarang                                      0.000000   \n",
       "Taman Lapangan Banteng                                  0.666667   \n",
       "Gereja Tiberias Indonesia Bandung                       0.000000   \n",
       "Masjid Pusdai                                           0.000000   \n",
       "Pantai Sanglen                                          0.408248   \n",
       "Museum Seni Rupa dan Kramik                             0.000000   \n",
       "\n",
       "name                               Pasar Kebon Empring Bintaran  \\\n",
       "name                                                              \n",
       "Taman Situ Lembang                                     0.000000   \n",
       "Gunung Papandayan                                      0.000000   \n",
       "Jembatan Pasupati                                      0.000000   \n",
       "Kampoeng Kopi Banaran                                  0.000000   \n",
       "Kota Lama Semarang                                     0.000000   \n",
       "Taman Lapangan Banteng                                 0.000000   \n",
       "Gereja Tiberias Indonesia Bandung                      0.000000   \n",
       "Masjid Pusdai                                          0.000000   \n",
       "Pantai Sanglen                                         0.408248   \n",
       "Museum Seni Rupa dan Kramik                            0.000000   \n",
       "\n",
       "name                               Jakarta Planetarium  \n",
       "name                                                    \n",
       "Taman Situ Lembang                            1.000000  \n",
       "Gunung Papandayan                             0.000000  \n",
       "Jembatan Pasupati                             0.666667  \n",
       "Kampoeng Kopi Banaran                         0.666667  \n",
       "Kota Lama Semarang                            0.000000  \n",
       "Taman Lapangan Banteng                        1.000000  \n",
       "Gereja Tiberias Indonesia Bandung             0.000000  \n",
       "Masjid Pusdai                                 0.000000  \n",
       "Pantai Sanglen                                0.000000  \n",
       "Museum Seni Rupa dan Kramik                   0.408248  "
      ]
     },
     "execution_count": 59,
     "metadata": {},
     "output_type": "execute_result"
    }
   ],
   "source": [
    "cosine_sim_df = pd.DataFrame(cosine_sim,index=data['name'],columns=data['name'])\n",
    "cosine_sim_df.sample(5,axis=1).sample(10,axis=0)"
   ]
  },
  {
   "cell_type": "markdown",
   "id": "8a8463b5",
   "metadata": {
    "papermill": {
     "duration": null,
     "end_time": null,
     "exception": null,
     "start_time": null,
     "status": "pending"
    },
    "tags": []
   },
   "source": [
    "## Recommendation"
   ]
  },
  {
   "cell_type": "code",
   "execution_count": 60,
   "id": "b3c0b041",
   "metadata": {
    "execution": {
     "iopub.execute_input": "2023-03-06T13:58:10.800749Z",
     "iopub.status.busy": "2023-03-06T13:58:10.800176Z",
     "iopub.status.idle": "2023-03-06T13:58:10.816434Z",
     "shell.execute_reply": "2023-03-06T13:58:10.814941Z",
     "shell.execute_reply.started": "2023-03-06T13:58:10.800712Z"
    },
    "papermill": {
     "duration": null,
     "end_time": null,
     "exception": null,
     "start_time": null,
     "status": "pending"
    },
    "tags": []
   },
   "outputs": [],
   "source": [
    "def tourism_recommendations(place_name,similarity_data=cosine_sim_df,items=data[['name','category','description','city']],k=5):\n",
    "    index = similarity_data.loc[:,place_name].to_numpy().argpartition(range(-1,-k,-1))\n",
    "    \n",
    "    closest = similarity_data.columns[index[-1:-(k+2):-1]]\n",
    "    \n",
    "    closest = closest.drop(place_name,errors='ignore')\n",
    "    \n",
    "    return pd.DataFrame(closest).merge(items).head(k)"
   ]
  },
  {
   "cell_type": "code",
   "execution_count": 61,
   "id": "bdd4706a",
   "metadata": {
    "execution": {
     "iopub.execute_input": "2023-03-06T13:58:10.895800Z",
     "iopub.status.busy": "2023-03-06T13:58:10.895037Z",
     "iopub.status.idle": "2023-03-06T13:58:10.909145Z",
     "shell.execute_reply": "2023-03-06T13:58:10.907485Z",
     "shell.execute_reply.started": "2023-03-06T13:58:10.895765Z"
    },
    "papermill": {
     "duration": null,
     "end_time": null,
     "exception": null,
     "start_time": null,
     "status": "pending"
    },
    "tags": []
   },
   "outputs": [
    {
     "data": {
      "text/html": [
       "<div>\n",
       "<style scoped>\n",
       "    .dataframe tbody tr th:only-of-type {\n",
       "        vertical-align: middle;\n",
       "    }\n",
       "\n",
       "    .dataframe tbody tr th {\n",
       "        vertical-align: top;\n",
       "    }\n",
       "\n",
       "    .dataframe thead th {\n",
       "        text-align: right;\n",
       "    }\n",
       "</style>\n",
       "<table border=\"1\" class=\"dataframe\">\n",
       "  <thead>\n",
       "    <tr style=\"text-align: right;\">\n",
       "      <th></th>\n",
       "      <th>name</th>\n",
       "      <th>category</th>\n",
       "      <th>description</th>\n",
       "      <th>city</th>\n",
       "    </tr>\n",
       "  </thead>\n",
       "  <tbody>\n",
       "    <tr>\n",
       "      <th>0</th>\n",
       "      <td>Taman Prestasi</td>\n",
       "      <td>Taman Hiburan</td>\n",
       "      <td>Taman Prestasi Surabaya merupakan salah satu t...</td>\n",
       "      <td>Surabaya</td>\n",
       "    </tr>\n",
       "    <tr>\n",
       "      <th>1</th>\n",
       "      <td>Taman Pelangi</td>\n",
       "      <td>Taman Hiburan</td>\n",
       "      <td>Kalau pelangi biasanya ada di siang hari pasca...</td>\n",
       "      <td>Surabaya</td>\n",
       "    </tr>\n",
       "    <tr>\n",
       "      <th>2</th>\n",
       "      <td>Atlantis Land Surabaya</td>\n",
       "      <td>Taman Hiburan</td>\n",
       "      <td>Sejak diresmikan pada bulan Desember 2017, Atl...</td>\n",
       "      <td>Surabaya</td>\n",
       "    </tr>\n",
       "    <tr>\n",
       "      <th>3</th>\n",
       "      <td>Taman Buah Surabaya</td>\n",
       "      <td>Taman Hiburan</td>\n",
       "      <td>Wisata Taman Buah Undaan di Surabaya adalah sa...</td>\n",
       "      <td>Surabaya</td>\n",
       "    </tr>\n",
       "    <tr>\n",
       "      <th>4</th>\n",
       "      <td>Taman Keputran</td>\n",
       "      <td>Taman Hiburan</td>\n",
       "      <td>Ntah, mengapa nama taman ini disebut dengan ta...</td>\n",
       "      <td>Surabaya</td>\n",
       "    </tr>\n",
       "  </tbody>\n",
       "</table>\n",
       "</div>"
      ],
      "text/plain": [
       "                     name       category  \\\n",
       "0          Taman Prestasi  Taman Hiburan   \n",
       "1           Taman Pelangi  Taman Hiburan   \n",
       "2  Atlantis Land Surabaya  Taman Hiburan   \n",
       "3     Taman Buah Surabaya  Taman Hiburan   \n",
       "4          Taman Keputran  Taman Hiburan   \n",
       "\n",
       "                                         description      city  \n",
       "0  Taman Prestasi Surabaya merupakan salah satu t...  Surabaya  \n",
       "1  Kalau pelangi biasanya ada di siang hari pasca...  Surabaya  \n",
       "2  Sejak diresmikan pada bulan Desember 2017, Atl...  Surabaya  \n",
       "3  Wisata Taman Buah Undaan di Surabaya adalah sa...  Surabaya  \n",
       "4  Ntah, mengapa nama taman ini disebut dengan ta...  Surabaya  "
      ]
     },
     "execution_count": 61,
     "metadata": {},
     "output_type": "execute_result"
    }
   ],
   "source": [
    "tourism_recommendations(\"Air Mancur Menari\")"
   ]
  },
  {
   "cell_type": "code",
   "execution_count": 62,
   "id": "8226bff6",
   "metadata": {
    "execution": {
     "iopub.status.busy": "2023-03-06T13:58:10.911640Z",
     "iopub.status.idle": "2023-03-06T13:58:10.912386Z",
     "shell.execute_reply": "2023-03-06T13:58:10.912163Z",
     "shell.execute_reply.started": "2023-03-06T13:58:10.912139Z"
    },
    "papermill": {
     "duration": null,
     "end_time": null,
     "exception": null,
     "start_time": null,
     "status": "pending"
    },
    "tags": []
   },
   "outputs": [
    {
     "data": {
      "text/html": [
       "<div>\n",
       "<style scoped>\n",
       "    .dataframe tbody tr th:only-of-type {\n",
       "        vertical-align: middle;\n",
       "    }\n",
       "\n",
       "    .dataframe tbody tr th {\n",
       "        vertical-align: top;\n",
       "    }\n",
       "\n",
       "    .dataframe thead th {\n",
       "        text-align: right;\n",
       "    }\n",
       "</style>\n",
       "<table border=\"1\" class=\"dataframe\">\n",
       "  <thead>\n",
       "    <tr style=\"text-align: right;\">\n",
       "      <th></th>\n",
       "      <th>name</th>\n",
       "      <th>category</th>\n",
       "      <th>description</th>\n",
       "      <th>city</th>\n",
       "    </tr>\n",
       "  </thead>\n",
       "  <tbody>\n",
       "    <tr>\n",
       "      <th>0</th>\n",
       "      <td>Puspa Iptek Sundial</td>\n",
       "      <td>Taman Hiburan</td>\n",
       "      <td>Puspa Iptek Sundial adalah wahana pendidikan y...</td>\n",
       "      <td>Bandung</td>\n",
       "    </tr>\n",
       "    <tr>\n",
       "      <th>1</th>\n",
       "      <td>Teras Cikapundung BBWS</td>\n",
       "      <td>Taman Hiburan</td>\n",
       "      <td>Teras Cikapundung Bandung sebelumnya merupakan...</td>\n",
       "      <td>Bandung</td>\n",
       "    </tr>\n",
       "    <tr>\n",
       "      <th>2</th>\n",
       "      <td>Chingu Cafe Little Seoul</td>\n",
       "      <td>Taman Hiburan</td>\n",
       "      <td>Selain populer karena memiliki pemandangan yan...</td>\n",
       "      <td>Bandung</td>\n",
       "    </tr>\n",
       "    <tr>\n",
       "      <th>3</th>\n",
       "      <td>Taman Badak</td>\n",
       "      <td>Taman Hiburan</td>\n",
       "      <td>Taman Badak ini baru saja diresmikan pada tang...</td>\n",
       "      <td>Bandung</td>\n",
       "    </tr>\n",
       "    <tr>\n",
       "      <th>4</th>\n",
       "      <td>NuArt Sculpture Park</td>\n",
       "      <td>Taman Hiburan</td>\n",
       "      <td>NuArt Sculpture Park ini merupakan sebuah gall...</td>\n",
       "      <td>Bandung</td>\n",
       "    </tr>\n",
       "  </tbody>\n",
       "</table>\n",
       "</div>"
      ],
      "text/plain": [
       "                       name       category  \\\n",
       "0       Puspa Iptek Sundial  Taman Hiburan   \n",
       "1    Teras Cikapundung BBWS  Taman Hiburan   \n",
       "2  Chingu Cafe Little Seoul  Taman Hiburan   \n",
       "3               Taman Badak  Taman Hiburan   \n",
       "4      NuArt Sculpture Park  Taman Hiburan   \n",
       "\n",
       "                                         description     city  \n",
       "0  Puspa Iptek Sundial adalah wahana pendidikan y...  Bandung  \n",
       "1  Teras Cikapundung Bandung sebelumnya merupakan...  Bandung  \n",
       "2  Selain populer karena memiliki pemandangan yan...  Bandung  \n",
       "3  Taman Badak ini baru saja diresmikan pada tang...  Bandung  \n",
       "4  NuArt Sculpture Park ini merupakan sebuah gall...  Bandung  "
      ]
     },
     "execution_count": 62,
     "metadata": {},
     "output_type": "execute_result"
    }
   ],
   "source": [
    "tourism_recommendations(\"Trans Studio Bandung\")"
   ]
  },
  {
   "cell_type": "markdown",
   "id": "b6e10418",
   "metadata": {
    "papermill": {
     "duration": null,
     "end_time": null,
     "exception": null,
     "start_time": null,
     "status": "pending"
    },
    "tags": []
   },
   "source": [
    "# Collaborative Filtering"
   ]
  },
  {
   "cell_type": "code",
   "execution_count": 63,
   "id": "c07b9689",
   "metadata": {
    "execution": {
     "iopub.execute_input": "2023-03-06T13:58:11.211092Z",
     "iopub.status.busy": "2023-03-06T13:58:11.210130Z",
     "iopub.status.idle": "2023-03-06T13:58:16.593460Z",
     "shell.execute_reply": "2023-03-06T13:58:16.592500Z",
     "shell.execute_reply.started": "2023-03-06T13:58:11.211048Z"
    },
    "papermill": {
     "duration": null,
     "end_time": null,
     "exception": null,
     "start_time": null,
     "status": "pending"
    },
    "tags": []
   },
   "outputs": [
    {
     "name": "stderr",
     "output_type": "stream",
     "text": [
      "2024-05-08 22:10:08.751568: I external/local_tsl/tsl/cuda/cudart_stub.cc:32] Could not find cuda drivers on your machine, GPU will not be used.\n",
      "2024-05-08 22:10:08.754312: I external/local_tsl/tsl/cuda/cudart_stub.cc:32] Could not find cuda drivers on your machine, GPU will not be used.\n",
      "2024-05-08 22:10:08.791202: I tensorflow/core/platform/cpu_feature_guard.cc:210] This TensorFlow binary is optimized to use available CPU instructions in performance-critical operations.\n",
      "To enable the following instructions: AVX2 FMA, in other operations, rebuild TensorFlow with the appropriate compiler flags.\n",
      "2024-05-08 22:10:09.457648: W tensorflow/compiler/tf2tensorrt/utils/py_utils.cc:38] TF-TRT Warning: Could not find TensorRT\n"
     ]
    }
   ],
   "source": [
    "import pandas as pd\n",
    "import numpy as np \n",
    "from zipfile import ZipFile\n",
    "import tensorflow as tf\n",
    "from tensorflow import keras\n",
    "from tensorflow.keras import layers\n",
    "from pathlib import Path\n",
    "import matplotlib.pyplot as plt"
   ]
  },
  {
   "cell_type": "code",
   "execution_count": 64,
   "id": "b0cfb72d",
   "metadata": {
    "execution": {
     "iopub.execute_input": "2023-03-06T13:58:19.261958Z",
     "iopub.status.busy": "2023-03-06T13:58:19.260478Z",
     "iopub.status.idle": "2023-03-06T13:58:19.280367Z",
     "shell.execute_reply": "2023-03-06T13:58:19.279347Z",
     "shell.execute_reply.started": "2023-03-06T13:58:19.261913Z"
    },
    "papermill": {
     "duration": null,
     "end_time": null,
     "exception": null,
     "start_time": null,
     "status": "pending"
    },
    "tags": []
   },
   "outputs": [
    {
     "data": {
      "text/html": [
       "<div>\n",
       "<style scoped>\n",
       "    .dataframe tbody tr th:only-of-type {\n",
       "        vertical-align: middle;\n",
       "    }\n",
       "\n",
       "    .dataframe tbody tr th {\n",
       "        vertical-align: top;\n",
       "    }\n",
       "\n",
       "    .dataframe thead th {\n",
       "        text-align: right;\n",
       "    }\n",
       "</style>\n",
       "<table border=\"1\" class=\"dataframe\">\n",
       "  <thead>\n",
       "    <tr style=\"text-align: right;\">\n",
       "      <th></th>\n",
       "      <th>User_Id</th>\n",
       "      <th>Place_Id</th>\n",
       "      <th>Place_Ratings</th>\n",
       "    </tr>\n",
       "  </thead>\n",
       "  <tbody>\n",
       "    <tr>\n",
       "      <th>0</th>\n",
       "      <td>1</td>\n",
       "      <td>179</td>\n",
       "      <td>3</td>\n",
       "    </tr>\n",
       "    <tr>\n",
       "      <th>1</th>\n",
       "      <td>1</td>\n",
       "      <td>344</td>\n",
       "      <td>2</td>\n",
       "    </tr>\n",
       "    <tr>\n",
       "      <th>2</th>\n",
       "      <td>1</td>\n",
       "      <td>5</td>\n",
       "      <td>5</td>\n",
       "    </tr>\n",
       "    <tr>\n",
       "      <th>3</th>\n",
       "      <td>1</td>\n",
       "      <td>373</td>\n",
       "      <td>3</td>\n",
       "    </tr>\n",
       "    <tr>\n",
       "      <th>4</th>\n",
       "      <td>1</td>\n",
       "      <td>101</td>\n",
       "      <td>4</td>\n",
       "    </tr>\n",
       "    <tr>\n",
       "      <th>...</th>\n",
       "      <td>...</td>\n",
       "      <td>...</td>\n",
       "      <td>...</td>\n",
       "    </tr>\n",
       "    <tr>\n",
       "      <th>9995</th>\n",
       "      <td>300</td>\n",
       "      <td>425</td>\n",
       "      <td>2</td>\n",
       "    </tr>\n",
       "    <tr>\n",
       "      <th>9996</th>\n",
       "      <td>300</td>\n",
       "      <td>64</td>\n",
       "      <td>4</td>\n",
       "    </tr>\n",
       "    <tr>\n",
       "      <th>9997</th>\n",
       "      <td>300</td>\n",
       "      <td>311</td>\n",
       "      <td>3</td>\n",
       "    </tr>\n",
       "    <tr>\n",
       "      <th>9998</th>\n",
       "      <td>300</td>\n",
       "      <td>279</td>\n",
       "      <td>4</td>\n",
       "    </tr>\n",
       "    <tr>\n",
       "      <th>9999</th>\n",
       "      <td>300</td>\n",
       "      <td>163</td>\n",
       "      <td>2</td>\n",
       "    </tr>\n",
       "  </tbody>\n",
       "</table>\n",
       "<p>10000 rows × 3 columns</p>\n",
       "</div>"
      ],
      "text/plain": [
       "      User_Id  Place_Id  Place_Ratings\n",
       "0           1       179              3\n",
       "1           1       344              2\n",
       "2           1         5              5\n",
       "3           1       373              3\n",
       "4           1       101              4\n",
       "...       ...       ...            ...\n",
       "9995      300       425              2\n",
       "9996      300        64              4\n",
       "9997      300       311              3\n",
       "9998      300       279              4\n",
       "9999      300       163              2\n",
       "\n",
       "[10000 rows x 3 columns]"
      ]
     },
     "execution_count": 64,
     "metadata": {},
     "output_type": "execute_result"
    }
   ],
   "source": [
    "df = tourism_rating\n",
    "df"
   ]
  },
  {
   "cell_type": "markdown",
   "id": "9d6d5557",
   "metadata": {
    "papermill": {
     "duration": null,
     "end_time": null,
     "exception": null,
     "start_time": null,
     "status": "pending"
    },
    "tags": []
   },
   "source": [
    "## Data Preparation"
   ]
  },
  {
   "cell_type": "markdown",
   "id": "4cf49129",
   "metadata": {
    "papermill": {
     "duration": null,
     "end_time": null,
     "exception": null,
     "start_time": null,
     "status": "pending"
    },
    "tags": []
   },
   "source": [
    "### Encode"
   ]
  },
  {
   "cell_type": "code",
   "execution_count": 65,
   "id": "9f1f1c46",
   "metadata": {
    "execution": {
     "iopub.execute_input": "2023-03-06T13:58:19.283414Z",
     "iopub.status.busy": "2023-03-06T13:58:19.282611Z",
     "iopub.status.idle": "2023-03-06T13:58:19.296505Z",
     "shell.execute_reply": "2023-03-06T13:58:19.295533Z",
     "shell.execute_reply.started": "2023-03-06T13:58:19.283376Z"
    },
    "papermill": {
     "duration": null,
     "end_time": null,
     "exception": null,
     "start_time": null,
     "status": "pending"
    },
    "tags": []
   },
   "outputs": [],
   "source": [
    "user_ids = df.User_Id.unique().tolist()\n",
    "\n",
    "user_to_user_encoded = {x:i for i, x in enumerate(user_ids)}\n",
    "\n",
    "user_encoded_to_user = {i: x for i, x in enumerate(user_ids)}"
   ]
  },
  {
   "cell_type": "code",
   "execution_count": 66,
   "id": "75d0077d",
   "metadata": {
    "execution": {
     "iopub.execute_input": "2023-03-06T13:58:20.120817Z",
     "iopub.status.busy": "2023-03-06T13:58:20.120443Z",
     "iopub.status.idle": "2023-03-06T13:58:20.126587Z",
     "shell.execute_reply": "2023-03-06T13:58:20.125614Z",
     "shell.execute_reply.started": "2023-03-06T13:58:20.120786Z"
    },
    "papermill": {
     "duration": null,
     "end_time": null,
     "exception": null,
     "start_time": null,
     "status": "pending"
    },
    "tags": []
   },
   "outputs": [],
   "source": [
    "place_ids = df.Place_Id.unique().tolist()\n",
    "\n",
    "place_to_place_encoded = {x: i for i, x in enumerate(place_ids)}\n",
    "\n",
    "place_encoded_to_place = {x: i for x, i in enumerate(place_ids)}"
   ]
  },
  {
   "cell_type": "code",
   "execution_count": 67,
   "id": "c2ef9214",
   "metadata": {
    "execution": {
     "iopub.execute_input": "2023-03-06T13:58:20.129409Z",
     "iopub.status.busy": "2023-03-06T13:58:20.128694Z",
     "iopub.status.idle": "2023-03-06T13:58:20.141860Z",
     "shell.execute_reply": "2023-03-06T13:58:20.141037Z",
     "shell.execute_reply.started": "2023-03-06T13:58:20.129375Z"
    },
    "papermill": {
     "duration": null,
     "end_time": null,
     "exception": null,
     "start_time": null,
     "status": "pending"
    },
    "tags": []
   },
   "outputs": [],
   "source": [
    "df['user'] = df.User_Id.map(user_to_user_encoded)\n",
    "\n",
    "df['place'] = df.Place_Id.map(place_to_place_encoded)"
   ]
  },
  {
   "cell_type": "code",
   "execution_count": 68,
   "id": "6cbf3847",
   "metadata": {
    "execution": {
     "iopub.execute_input": "2023-03-06T13:58:20.398005Z",
     "iopub.status.busy": "2023-03-06T13:58:20.397724Z",
     "iopub.status.idle": "2023-03-06T13:58:20.406494Z",
     "shell.execute_reply": "2023-03-06T13:58:20.405582Z",
     "shell.execute_reply.started": "2023-03-06T13:58:20.397979Z"
    },
    "papermill": {
     "duration": null,
     "end_time": null,
     "exception": null,
     "start_time": null,
     "status": "pending"
    },
    "tags": []
   },
   "outputs": [
    {
     "name": "stdout",
     "output_type": "stream",
     "text": [
      "Number of User: 300, Number of Place: 437, Min Rating: 1.0, Max Rating: 5.0\n"
     ]
    }
   ],
   "source": [
    "num_users = len(user_to_user_encoded)\n",
    "\n",
    "num_place = len(place_encoded_to_place)\n",
    "\n",
    "df['Place_Ratings'] = df['Place_Ratings'].values.astype(np.float32)\n",
    "\n",
    "min_rating = min(df['Place_Ratings'])\n",
    "\n",
    "max_rating= max(df['Place_Ratings'])\n",
    "\n",
    "print('Number of User: {}, Number of Place: {}, Min Rating: {}, Max Rating: {}'.format(\n",
    "    num_users, num_place, min_rating, max_rating\n",
    "))"
   ]
  },
  {
   "cell_type": "markdown",
   "id": "9849f7cc",
   "metadata": {
    "papermill": {
     "duration": null,
     "end_time": null,
     "exception": null,
     "start_time": null,
     "status": "pending"
    },
    "tags": []
   },
   "source": [
    "## Train Test Split"
   ]
  },
  {
   "cell_type": "code",
   "execution_count": 69,
   "id": "26293781",
   "metadata": {
    "execution": {
     "iopub.execute_input": "2023-03-06T13:58:20.409053Z",
     "iopub.status.busy": "2023-03-06T13:58:20.408447Z",
     "iopub.status.idle": "2023-03-06T13:58:20.431849Z",
     "shell.execute_reply": "2023-03-06T13:58:20.431000Z",
     "shell.execute_reply.started": "2023-03-06T13:58:20.409016Z"
    },
    "papermill": {
     "duration": null,
     "end_time": null,
     "exception": null,
     "start_time": null,
     "status": "pending"
    },
    "tags": []
   },
   "outputs": [
    {
     "data": {
      "text/html": [
       "<div>\n",
       "<style scoped>\n",
       "    .dataframe tbody tr th:only-of-type {\n",
       "        vertical-align: middle;\n",
       "    }\n",
       "\n",
       "    .dataframe tbody tr th {\n",
       "        vertical-align: top;\n",
       "    }\n",
       "\n",
       "    .dataframe thead th {\n",
       "        text-align: right;\n",
       "    }\n",
       "</style>\n",
       "<table border=\"1\" class=\"dataframe\">\n",
       "  <thead>\n",
       "    <tr style=\"text-align: right;\">\n",
       "      <th></th>\n",
       "      <th>User_Id</th>\n",
       "      <th>Place_Id</th>\n",
       "      <th>Place_Ratings</th>\n",
       "      <th>user</th>\n",
       "      <th>place</th>\n",
       "    </tr>\n",
       "  </thead>\n",
       "  <tbody>\n",
       "    <tr>\n",
       "      <th>6252</th>\n",
       "      <td>188</td>\n",
       "      <td>207</td>\n",
       "      <td>3.0</td>\n",
       "      <td>187</td>\n",
       "      <td>262</td>\n",
       "    </tr>\n",
       "    <tr>\n",
       "      <th>4684</th>\n",
       "      <td>142</td>\n",
       "      <td>268</td>\n",
       "      <td>2.0</td>\n",
       "      <td>141</td>\n",
       "      <td>83</td>\n",
       "    </tr>\n",
       "    <tr>\n",
       "      <th>1731</th>\n",
       "      <td>54</td>\n",
       "      <td>103</td>\n",
       "      <td>3.0</td>\n",
       "      <td>53</td>\n",
       "      <td>10</td>\n",
       "    </tr>\n",
       "    <tr>\n",
       "      <th>4742</th>\n",
       "      <td>144</td>\n",
       "      <td>119</td>\n",
       "      <td>3.0</td>\n",
       "      <td>143</td>\n",
       "      <td>141</td>\n",
       "    </tr>\n",
       "    <tr>\n",
       "      <th>4521</th>\n",
       "      <td>138</td>\n",
       "      <td>288</td>\n",
       "      <td>5.0</td>\n",
       "      <td>137</td>\n",
       "      <td>283</td>\n",
       "    </tr>\n",
       "    <tr>\n",
       "      <th>...</th>\n",
       "      <td>...</td>\n",
       "      <td>...</td>\n",
       "      <td>...</td>\n",
       "      <td>...</td>\n",
       "      <td>...</td>\n",
       "    </tr>\n",
       "    <tr>\n",
       "      <th>5734</th>\n",
       "      <td>173</td>\n",
       "      <td>402</td>\n",
       "      <td>5.0</td>\n",
       "      <td>172</td>\n",
       "      <td>175</td>\n",
       "    </tr>\n",
       "    <tr>\n",
       "      <th>5191</th>\n",
       "      <td>157</td>\n",
       "      <td>85</td>\n",
       "      <td>4.0</td>\n",
       "      <td>156</td>\n",
       "      <td>33</td>\n",
       "    </tr>\n",
       "    <tr>\n",
       "      <th>5390</th>\n",
       "      <td>163</td>\n",
       "      <td>18</td>\n",
       "      <td>3.0</td>\n",
       "      <td>162</td>\n",
       "      <td>52</td>\n",
       "    </tr>\n",
       "    <tr>\n",
       "      <th>860</th>\n",
       "      <td>28</td>\n",
       "      <td>416</td>\n",
       "      <td>4.0</td>\n",
       "      <td>27</td>\n",
       "      <td>187</td>\n",
       "    </tr>\n",
       "    <tr>\n",
       "      <th>7270</th>\n",
       "      <td>219</td>\n",
       "      <td>258</td>\n",
       "      <td>2.0</td>\n",
       "      <td>218</td>\n",
       "      <td>6</td>\n",
       "    </tr>\n",
       "  </tbody>\n",
       "</table>\n",
       "<p>10000 rows × 5 columns</p>\n",
       "</div>"
      ],
      "text/plain": [
       "      User_Id  Place_Id  Place_Ratings  user  place\n",
       "6252      188       207            3.0   187    262\n",
       "4684      142       268            2.0   141     83\n",
       "1731       54       103            3.0    53     10\n",
       "4742      144       119            3.0   143    141\n",
       "4521      138       288            5.0   137    283\n",
       "...       ...       ...            ...   ...    ...\n",
       "5734      173       402            5.0   172    175\n",
       "5191      157        85            4.0   156     33\n",
       "5390      163        18            3.0   162     52\n",
       "860        28       416            4.0    27    187\n",
       "7270      219       258            2.0   218      6\n",
       "\n",
       "[10000 rows x 5 columns]"
      ]
     },
     "execution_count": 69,
     "metadata": {},
     "output_type": "execute_result"
    }
   ],
   "source": [
    "df = df.sample(frac=1,random_state=42)\n",
    "df"
   ]
  },
  {
   "cell_type": "code",
   "execution_count": 70,
   "id": "d13c1904",
   "metadata": {
    "execution": {
     "iopub.execute_input": "2023-03-06T13:58:20.433137Z",
     "iopub.status.busy": "2023-03-06T13:58:20.432894Z",
     "iopub.status.idle": "2023-03-06T13:58:20.447740Z",
     "shell.execute_reply": "2023-03-06T13:58:20.446765Z",
     "shell.execute_reply.started": "2023-03-06T13:58:20.433114Z"
    },
    "papermill": {
     "duration": null,
     "end_time": null,
     "exception": null,
     "start_time": null,
     "status": "pending"
    },
    "tags": []
   },
   "outputs": [
    {
     "name": "stdout",
     "output_type": "stream",
     "text": [
      "[[187 262]\n",
      " [141  83]\n",
      " [ 53  10]\n",
      " ...\n",
      " [162  52]\n",
      " [ 27 187]\n",
      " [218   6]] [0.5  0.25 0.5  ... 0.5  0.75 0.25]\n"
     ]
    }
   ],
   "source": [
    "x = df[['user','place']].values\n",
    "\n",
    "y = df['Place_Ratings'].apply(lambda x:(x-min_rating)/(max_rating-min_rating)).values\n",
    "\n",
    "train_indices = int(0.8 * df.shape[0])\n",
    "\n",
    "x_train,x_val,y_train,y_val = (\n",
    "    x[:train_indices],\n",
    "    x[train_indices:],\n",
    "    y[:train_indices],\n",
    "    y[train_indices:]\n",
    ")\n",
    "\n",
    "print(x,y)"
   ]
  },
  {
   "cell_type": "markdown",
   "id": "75334cb7",
   "metadata": {
    "papermill": {
     "duration": null,
     "end_time": null,
     "exception": null,
     "start_time": null,
     "status": "pending"
    },
    "tags": []
   },
   "source": [
    "## Training"
   ]
  },
  {
   "cell_type": "code",
   "execution_count": 71,
   "id": "4dce158f",
   "metadata": {
    "execution": {
     "iopub.execute_input": "2023-03-06T13:58:20.591768Z",
     "iopub.status.busy": "2023-03-06T13:58:20.589699Z",
     "iopub.status.idle": "2023-03-06T13:58:20.600867Z",
     "shell.execute_reply": "2023-03-06T13:58:20.599944Z",
     "shell.execute_reply.started": "2023-03-06T13:58:20.591733Z"
    },
    "papermill": {
     "duration": null,
     "end_time": null,
     "exception": null,
     "start_time": null,
     "status": "pending"
    },
    "tags": []
   },
   "outputs": [],
   "source": [
    "class RecommenderNet(tf.keras.Model):\n",
    " \n",
    "  # Insialisasi fungsi\n",
    "  def __init__(self, num_users, num_place, embedding_size, **kwargs):\n",
    "    super(RecommenderNet, self).__init__(**kwargs)\n",
    "    self.num_users = num_users\n",
    "    self.num_place = num_place\n",
    "    self.embedding_size = embedding_size\n",
    "    self.user_embedding = layers.Embedding(\n",
    "        num_users,\n",
    "        embedding_size,\n",
    "        embeddings_initializer = 'he_normal',\n",
    "        embeddings_regularizer = keras.regularizers.l2(1e-6)\n",
    "    )\n",
    "    self.user_bias = layers.Embedding(num_users, 1) \n",
    "    self.place_embedding = layers.Embedding( \n",
    "        num_place,\n",
    "        embedding_size,\n",
    "        embeddings_initializer = 'he_normal',\n",
    "        embeddings_regularizer = keras.regularizers.l2(1e-6)\n",
    "    )\n",
    "    self.place_bias = layers.Embedding(num_place, 1) \n",
    " \n",
    "  def call(self, inputs):\n",
    "    user_vector = self.user_embedding(inputs[:,0]) # memanggil layer embedding 1\n",
    "    user_bias = self.user_bias(inputs[:, 0]) # memanggil layer embedding 2\n",
    "    place_vector = self.place_embedding(inputs[:, 1]) # memanggil layer embedding 3\n",
    "    place_bias = self.place_bias(inputs[:, 1]) # memanggil layer embedding 4\n",
    " \n",
    "    dot_user_place = tf.tensordot(user_vector, place_vector, 2) \n",
    " \n",
    "    x = dot_user_place + user_bias + place_bias\n",
    "    \n",
    "    return tf.nn.sigmoid(x) # activation sigmoid"
   ]
  },
  {
   "cell_type": "code",
   "execution_count": 72,
   "id": "1b038455",
   "metadata": {
    "execution": {
     "iopub.execute_input": "2023-03-06T13:58:20.827090Z",
     "iopub.status.busy": "2023-03-06T13:58:20.825425Z",
     "iopub.status.idle": "2023-03-06T13:58:23.603777Z",
     "shell.execute_reply": "2023-03-06T13:58:23.602808Z",
     "shell.execute_reply.started": "2023-03-06T13:58:20.827051Z"
    },
    "papermill": {
     "duration": null,
     "end_time": null,
     "exception": null,
     "start_time": null,
     "status": "pending"
    },
    "tags": []
   },
   "outputs": [
    {
     "name": "stderr",
     "output_type": "stream",
     "text": [
      "2024-05-08 22:10:14.463553: I external/local_xla/xla/stream_executor/cuda/cuda_executor.cc:998] successful NUMA node read from SysFS had negative value (-1), but there must be at least one NUMA node, so returning NUMA node zero. See more at https://github.com/torvalds/linux/blob/v6.0/Documentation/ABI/testing/sysfs-bus-pci#L344-L355\n",
      "2024-05-08 22:10:14.464106: W tensorflow/core/common_runtime/gpu/gpu_device.cc:2251] Cannot dlopen some GPU libraries. Please make sure the missing libraries mentioned above are installed properly if you would like to use GPU. Follow the guide at https://www.tensorflow.org/install/gpu for how to download and setup the required libraries for your platform.\n",
      "Skipping registering GPU devices...\n"
     ]
    }
   ],
   "source": [
    "model = RecommenderNet(num_users, num_place, 100)\n",
    " \n",
    "# model compile\n",
    "model.compile(\n",
    "    loss = tf.keras.losses.BinaryCrossentropy(),\n",
    "    optimizer = keras.optimizers.Adam(learning_rate=0.001),\n",
    "    metrics=[tf.keras.metrics.RootMeanSquaredError()]\n",
    ")"
   ]
  },
  {
   "cell_type": "code",
   "execution_count": 73,
   "id": "2255de2a",
   "metadata": {
    "execution": {
     "iopub.execute_input": "2023-03-06T13:58:23.606679Z",
     "iopub.status.busy": "2023-03-06T13:58:23.606290Z",
     "iopub.status.idle": "2023-03-06T14:03:46.288422Z",
     "shell.execute_reply": "2023-03-06T14:03:46.287298Z",
     "shell.execute_reply.started": "2023-03-06T13:58:23.606643Z"
    },
    "papermill": {
     "duration": null,
     "end_time": null,
     "exception": null,
     "start_time": null,
     "status": "pending"
    },
    "tags": []
   },
   "outputs": [
    {
     "name": "stdout",
     "output_type": "stream",
     "text": [
      "Epoch 1/100\n",
      "\u001b[1m1000/1000\u001b[0m \u001b[32m━━━━━━━━━━━━━━━━━━━━\u001b[0m\u001b[37m\u001b[0m \u001b[1m2s\u001b[0m 1ms/step - loss: 0.6965 - root_mean_squared_error: 0.3485 - val_loss: 0.6930 - val_root_mean_squared_error: 0.3447\n",
      "Epoch 2/100\n",
      "\u001b[1m1000/1000\u001b[0m \u001b[32m━━━━━━━━━━━━━━━━━━━━\u001b[0m\u001b[37m\u001b[0m \u001b[1m1s\u001b[0m 1ms/step - loss: 0.6882 - root_mean_squared_error: 0.3396 - val_loss: 0.6935 - val_root_mean_squared_error: 0.3450\n",
      "Epoch 3/100\n",
      "\u001b[1m1000/1000\u001b[0m \u001b[32m━━━━━━━━━━━━━━━━━━━━\u001b[0m\u001b[37m\u001b[0m \u001b[1m1s\u001b[0m 898us/step - loss: 0.6857 - root_mean_squared_error: 0.3410 - val_loss: 0.6954 - val_root_mean_squared_error: 0.3463\n",
      "Epoch 4/100\n",
      "\u001b[1m1000/1000\u001b[0m \u001b[32m━━━━━━━━━━━━━━━━━━━━\u001b[0m\u001b[37m\u001b[0m \u001b[1m1s\u001b[0m 895us/step - loss: 0.6775 - root_mean_squared_error: 0.3308 - val_loss: 0.6970 - val_root_mean_squared_error: 0.3475\n",
      "Epoch 5/100\n",
      "\u001b[1m1000/1000\u001b[0m \u001b[32m━━━━━━━━━━━━━━━━━━━━\u001b[0m\u001b[37m\u001b[0m \u001b[1m1s\u001b[0m 951us/step - loss: 0.6758 - root_mean_squared_error: 0.3317 - val_loss: 0.6991 - val_root_mean_squared_error: 0.3489\n",
      "Epoch 6/100\n",
      "\u001b[1m1000/1000\u001b[0m \u001b[32m━━━━━━━━━━━━━━━━━━━━\u001b[0m\u001b[37m\u001b[0m \u001b[1m1s\u001b[0m 1ms/step - loss: 0.6713 - root_mean_squared_error: 0.3277 - val_loss: 0.6989 - val_root_mean_squared_error: 0.3488\n",
      "Epoch 7/100\n",
      "\u001b[1m1000/1000\u001b[0m \u001b[32m━━━━━━━━━━━━━━━━━━━━\u001b[0m\u001b[37m\u001b[0m \u001b[1m1s\u001b[0m 1ms/step - loss: 0.6661 - root_mean_squared_error: 0.3285 - val_loss: 0.6998 - val_root_mean_squared_error: 0.3493\n",
      "Epoch 8/100\n",
      "\u001b[1m1000/1000\u001b[0m \u001b[32m━━━━━━━━━━━━━━━━━━━━\u001b[0m\u001b[37m\u001b[0m \u001b[1m1s\u001b[0m 970us/step - loss: 0.6658 - root_mean_squared_error: 0.3250 - val_loss: 0.7011 - val_root_mean_squared_error: 0.3502\n",
      "Epoch 9/100\n",
      "\u001b[1m1000/1000\u001b[0m \u001b[32m━━━━━━━━━━━━━━━━━━━━\u001b[0m\u001b[37m\u001b[0m \u001b[1m1s\u001b[0m 945us/step - loss: 0.6725 - root_mean_squared_error: 0.3284 - val_loss: 0.7006 - val_root_mean_squared_error: 0.3499\n",
      "Epoch 10/100\n",
      "\u001b[1m1000/1000\u001b[0m \u001b[32m━━━━━━━━━━━━━━━━━━━━\u001b[0m\u001b[37m\u001b[0m \u001b[1m1s\u001b[0m 922us/step - loss: 0.6655 - root_mean_squared_error: 0.3241 - val_loss: 0.7016 - val_root_mean_squared_error: 0.3505\n",
      "Epoch 11/100\n",
      "\u001b[1m1000/1000\u001b[0m \u001b[32m━━━━━━━━━━━━━━━━━━━━\u001b[0m\u001b[37m\u001b[0m \u001b[1m1s\u001b[0m 923us/step - loss: 0.6624 - root_mean_squared_error: 0.3239 - val_loss: 0.7036 - val_root_mean_squared_error: 0.3518\n",
      "Epoch 12/100\n",
      "\u001b[1m1000/1000\u001b[0m \u001b[32m━━━━━━━━━━━━━━━━━━━━\u001b[0m\u001b[37m\u001b[0m \u001b[1m1s\u001b[0m 986us/step - loss: 0.6635 - root_mean_squared_error: 0.3254 - val_loss: 0.7039 - val_root_mean_squared_error: 0.3519\n",
      "Epoch 13/100\n",
      "\u001b[1m1000/1000\u001b[0m \u001b[32m━━━━━━━━━━━━━━━━━━━━\u001b[0m\u001b[37m\u001b[0m \u001b[1m1s\u001b[0m 901us/step - loss: 0.6615 - root_mean_squared_error: 0.3231 - val_loss: 0.7044 - val_root_mean_squared_error: 0.3522\n",
      "Epoch 14/100\n",
      "\u001b[1m1000/1000\u001b[0m \u001b[32m━━━━━━━━━━━━━━━━━━━━\u001b[0m\u001b[37m\u001b[0m \u001b[1m1s\u001b[0m 894us/step - loss: 0.6580 - root_mean_squared_error: 0.3181 - val_loss: 0.7054 - val_root_mean_squared_error: 0.3529\n",
      "Epoch 15/100\n",
      "\u001b[1m1000/1000\u001b[0m \u001b[32m━━━━━━━━━━━━━━━━━━━━\u001b[0m\u001b[37m\u001b[0m \u001b[1m1s\u001b[0m 882us/step - loss: 0.6625 - root_mean_squared_error: 0.3233 - val_loss: 0.7074 - val_root_mean_squared_error: 0.3542\n",
      "Epoch 16/100\n",
      "\u001b[1m1000/1000\u001b[0m \u001b[32m━━━━━━━━━━━━━━━━━━━━\u001b[0m\u001b[37m\u001b[0m \u001b[1m1s\u001b[0m 897us/step - loss: 0.6597 - root_mean_squared_error: 0.3191 - val_loss: 0.7074 - val_root_mean_squared_error: 0.3540\n",
      "Epoch 17/100\n",
      "\u001b[1m1000/1000\u001b[0m \u001b[32m━━━━━━━━━━━━━━━━━━━━\u001b[0m\u001b[37m\u001b[0m \u001b[1m1s\u001b[0m 893us/step - loss: 0.6557 - root_mean_squared_error: 0.3170 - val_loss: 0.7090 - val_root_mean_squared_error: 0.3552\n",
      "Epoch 18/100\n",
      "\u001b[1m1000/1000\u001b[0m \u001b[32m━━━━━━━━━━━━━━━━━━━━\u001b[0m\u001b[37m\u001b[0m \u001b[1m1s\u001b[0m 974us/step - loss: 0.6572 - root_mean_squared_error: 0.3200 - val_loss: 0.7093 - val_root_mean_squared_error: 0.3554\n",
      "Epoch 19/100\n",
      "\u001b[1m1000/1000\u001b[0m \u001b[32m━━━━━━━━━━━━━━━━━━━━\u001b[0m\u001b[37m\u001b[0m \u001b[1m1s\u001b[0m 891us/step - loss: 0.6557 - root_mean_squared_error: 0.3191 - val_loss: 0.7115 - val_root_mean_squared_error: 0.3567\n",
      "Epoch 20/100\n",
      "\u001b[1m1000/1000\u001b[0m \u001b[32m━━━━━━━━━━━━━━━━━━━━\u001b[0m\u001b[37m\u001b[0m \u001b[1m1s\u001b[0m 1ms/step - loss: 0.6573 - root_mean_squared_error: 0.3177 - val_loss: 0.7134 - val_root_mean_squared_error: 0.3579\n",
      "Epoch 21/100\n",
      "\u001b[1m1000/1000\u001b[0m \u001b[32m━━━━━━━━━━━━━━━━━━━━\u001b[0m\u001b[37m\u001b[0m \u001b[1m1s\u001b[0m 943us/step - loss: 0.6568 - root_mean_squared_error: 0.3209 - val_loss: 0.7126 - val_root_mean_squared_error: 0.3574\n",
      "Epoch 22/100\n",
      "\u001b[1m1000/1000\u001b[0m \u001b[32m━━━━━━━━━━━━━━━━━━━━\u001b[0m\u001b[37m\u001b[0m \u001b[1m1s\u001b[0m 940us/step - loss: 0.6557 - root_mean_squared_error: 0.3190 - val_loss: 0.7132 - val_root_mean_squared_error: 0.3577\n",
      "Epoch 23/100\n",
      "\u001b[1m1000/1000\u001b[0m \u001b[32m━━━━━━━━━━━━━━━━━━━━\u001b[0m\u001b[37m\u001b[0m \u001b[1m1s\u001b[0m 938us/step - loss: 0.6557 - root_mean_squared_error: 0.3180 - val_loss: 0.7125 - val_root_mean_squared_error: 0.3573\n",
      "Epoch 24/100\n",
      "\u001b[1m1000/1000\u001b[0m \u001b[32m━━━━━━━━━━━━━━━━━━━━\u001b[0m\u001b[37m\u001b[0m \u001b[1m1s\u001b[0m 935us/step - loss: 0.6544 - root_mean_squared_error: 0.3177 - val_loss: 0.7145 - val_root_mean_squared_error: 0.3584\n",
      "Epoch 25/100\n",
      "\u001b[1m1000/1000\u001b[0m \u001b[32m━━━━━━━━━━━━━━━━━━━━\u001b[0m\u001b[37m\u001b[0m \u001b[1m1s\u001b[0m 973us/step - loss: 0.6573 - root_mean_squared_error: 0.3154 - val_loss: 0.7132 - val_root_mean_squared_error: 0.3576\n",
      "Epoch 26/100\n",
      "\u001b[1m1000/1000\u001b[0m \u001b[32m━━━━━━━━━━━━━━━━━━━━\u001b[0m\u001b[37m\u001b[0m \u001b[1m1s\u001b[0m 970us/step - loss: 0.6574 - root_mean_squared_error: 0.3170 - val_loss: 0.7129 - val_root_mean_squared_error: 0.3573\n",
      "Epoch 27/100\n",
      "\u001b[1m1000/1000\u001b[0m \u001b[32m━━━━━━━━━━━━━━━━━━━━\u001b[0m\u001b[37m\u001b[0m \u001b[1m1s\u001b[0m 929us/step - loss: 0.6566 - root_mean_squared_error: 0.3176 - val_loss: 0.7133 - val_root_mean_squared_error: 0.3576\n",
      "Epoch 28/100\n",
      "\u001b[1m1000/1000\u001b[0m \u001b[32m━━━━━━━━━━━━━━━━━━━━\u001b[0m\u001b[37m\u001b[0m \u001b[1m1s\u001b[0m 899us/step - loss: 0.6556 - root_mean_squared_error: 0.3183 - val_loss: 0.7124 - val_root_mean_squared_error: 0.3570\n",
      "Epoch 29/100\n",
      "\u001b[1m1000/1000\u001b[0m \u001b[32m━━━━━━━━━━━━━━━━━━━━\u001b[0m\u001b[37m\u001b[0m \u001b[1m1s\u001b[0m 942us/step - loss: 0.6584 - root_mean_squared_error: 0.3184 - val_loss: 0.7124 - val_root_mean_squared_error: 0.3570\n",
      "Epoch 30/100\n",
      "\u001b[1m1000/1000\u001b[0m \u001b[32m━━━━━━━━━━━━━━━━━━━━\u001b[0m\u001b[37m\u001b[0m \u001b[1m1s\u001b[0m 956us/step - loss: 0.6513 - root_mean_squared_error: 0.3154 - val_loss: 0.7136 - val_root_mean_squared_error: 0.3578\n",
      "Epoch 31/100\n",
      "\u001b[1m1000/1000\u001b[0m \u001b[32m━━━━━━━━━━━━━━━━━━━━\u001b[0m\u001b[37m\u001b[0m \u001b[1m1s\u001b[0m 932us/step - loss: 0.6550 - root_mean_squared_error: 0.3204 - val_loss: 0.7127 - val_root_mean_squared_error: 0.3571\n",
      "Epoch 32/100\n",
      "\u001b[1m1000/1000\u001b[0m \u001b[32m━━━━━━━━━━━━━━━━━━━━\u001b[0m\u001b[37m\u001b[0m \u001b[1m1s\u001b[0m 1000us/step - loss: 0.6540 - root_mean_squared_error: 0.3170 - val_loss: 0.7138 - val_root_mean_squared_error: 0.3577\n",
      "Epoch 33/100\n",
      "\u001b[1m1000/1000\u001b[0m \u001b[32m━━━━━━━━━━━━━━━━━━━━\u001b[0m\u001b[37m\u001b[0m \u001b[1m1s\u001b[0m 974us/step - loss: 0.6568 - root_mean_squared_error: 0.3186 - val_loss: 0.7146 - val_root_mean_squared_error: 0.3583\n",
      "Epoch 34/100\n",
      "\u001b[1m1000/1000\u001b[0m \u001b[32m━━━━━━━━━━━━━━━━━━━━\u001b[0m\u001b[37m\u001b[0m \u001b[1m1s\u001b[0m 906us/step - loss: 0.6571 - root_mean_squared_error: 0.3194 - val_loss: 0.7158 - val_root_mean_squared_error: 0.3591\n",
      "Epoch 35/100\n",
      "\u001b[1m1000/1000\u001b[0m \u001b[32m━━━━━━━━━━━━━━━━━━━━\u001b[0m\u001b[37m\u001b[0m \u001b[1m1s\u001b[0m 946us/step - loss: 0.6600 - root_mean_squared_error: 0.3209 - val_loss: 0.7160 - val_root_mean_squared_error: 0.3592\n",
      "Epoch 36/100\n",
      "\u001b[1m1000/1000\u001b[0m \u001b[32m━━━━━━━━━━━━━━━━━━━━\u001b[0m\u001b[37m\u001b[0m \u001b[1m1s\u001b[0m 1ms/step - loss: 0.6574 - root_mean_squared_error: 0.3190 - val_loss: 0.7157 - val_root_mean_squared_error: 0.3589\n",
      "Epoch 37/100\n",
      "\u001b[1m1000/1000\u001b[0m \u001b[32m━━━━━━━━━━━━━━━━━━━━\u001b[0m\u001b[37m\u001b[0m \u001b[1m1s\u001b[0m 1ms/step - loss: 0.6545 - root_mean_squared_error: 0.3139 - val_loss: 0.7173 - val_root_mean_squared_error: 0.3598\n",
      "Epoch 38/100\n",
      "\u001b[1m1000/1000\u001b[0m \u001b[32m━━━━━━━━━━━━━━━━━━━━\u001b[0m\u001b[37m\u001b[0m \u001b[1m1s\u001b[0m 1ms/step - loss: 0.6508 - root_mean_squared_error: 0.3142 - val_loss: 0.7175 - val_root_mean_squared_error: 0.3600\n",
      "Epoch 39/100\n",
      "\u001b[1m1000/1000\u001b[0m \u001b[32m━━━━━━━━━━━━━━━━━━━━\u001b[0m\u001b[37m\u001b[0m \u001b[1m1s\u001b[0m 902us/step - loss: 0.6576 - root_mean_squared_error: 0.3171 - val_loss: 0.7169 - val_root_mean_squared_error: 0.3595\n",
      "Epoch 40/100\n",
      "\u001b[1m1000/1000\u001b[0m \u001b[32m━━━━━━━━━━━━━━━━━━━━\u001b[0m\u001b[37m\u001b[0m \u001b[1m1s\u001b[0m 895us/step - loss: 0.6574 - root_mean_squared_error: 0.3197 - val_loss: 0.7172 - val_root_mean_squared_error: 0.3598\n",
      "Epoch 41/100\n",
      "\u001b[1m1000/1000\u001b[0m \u001b[32m━━━━━━━━━━━━━━━━━━━━\u001b[0m\u001b[37m\u001b[0m \u001b[1m1s\u001b[0m 932us/step - loss: 0.6525 - root_mean_squared_error: 0.3172 - val_loss: 0.7183 - val_root_mean_squared_error: 0.3605\n",
      "Epoch 42/100\n"
     ]
    },
    {
     "name": "stdout",
     "output_type": "stream",
     "text": [
      "\u001b[1m1000/1000\u001b[0m \u001b[32m━━━━━━━━━━━━━━━━━━━━\u001b[0m\u001b[37m\u001b[0m \u001b[1m1s\u001b[0m 926us/step - loss: 0.6571 - root_mean_squared_error: 0.3186 - val_loss: 0.7170 - val_root_mean_squared_error: 0.3598\n",
      "Epoch 43/100\n",
      "\u001b[1m1000/1000\u001b[0m \u001b[32m━━━━━━━━━━━━━━━━━━━━\u001b[0m\u001b[37m\u001b[0m \u001b[1m1s\u001b[0m 907us/step - loss: 0.6516 - root_mean_squared_error: 0.3125 - val_loss: 0.7179 - val_root_mean_squared_error: 0.3604\n",
      "Epoch 44/100\n",
      "\u001b[1m1000/1000\u001b[0m \u001b[32m━━━━━━━━━━━━━━━━━━━━\u001b[0m\u001b[37m\u001b[0m \u001b[1m1s\u001b[0m 889us/step - loss: 0.6555 - root_mean_squared_error: 0.3134 - val_loss: 0.7196 - val_root_mean_squared_error: 0.3615\n",
      "Epoch 45/100\n",
      "\u001b[1m1000/1000\u001b[0m \u001b[32m━━━━━━━━━━━━━━━━━━━━\u001b[0m\u001b[37m\u001b[0m \u001b[1m1s\u001b[0m 911us/step - loss: 0.6501 - root_mean_squared_error: 0.3153 - val_loss: 0.7213 - val_root_mean_squared_error: 0.3626\n",
      "Epoch 46/100\n",
      "\u001b[1m1000/1000\u001b[0m \u001b[32m━━━━━━━━━━━━━━━━━━━━\u001b[0m\u001b[37m\u001b[0m \u001b[1m1s\u001b[0m 917us/step - loss: 0.6565 - root_mean_squared_error: 0.3184 - val_loss: 0.7208 - val_root_mean_squared_error: 0.3622\n",
      "Epoch 47/100\n",
      "\u001b[1m1000/1000\u001b[0m \u001b[32m━━━━━━━━━━━━━━━━━━━━\u001b[0m\u001b[37m\u001b[0m \u001b[1m1s\u001b[0m 951us/step - loss: 0.6560 - root_mean_squared_error: 0.3180 - val_loss: 0.7202 - val_root_mean_squared_error: 0.3617\n",
      "Epoch 48/100\n",
      "\u001b[1m1000/1000\u001b[0m \u001b[32m━━━━━━━━━━━━━━━━━━━━\u001b[0m\u001b[37m\u001b[0m \u001b[1m1s\u001b[0m 915us/step - loss: 0.6581 - root_mean_squared_error: 0.3209 - val_loss: 0.7186 - val_root_mean_squared_error: 0.3607\n",
      "Epoch 49/100\n",
      "\u001b[1m1000/1000\u001b[0m \u001b[32m━━━━━━━━━━━━━━━━━━━━\u001b[0m\u001b[37m\u001b[0m \u001b[1m1s\u001b[0m 946us/step - loss: 0.6542 - root_mean_squared_error: 0.3170 - val_loss: 0.7186 - val_root_mean_squared_error: 0.3607\n",
      "Epoch 50/100\n",
      "\u001b[1m1000/1000\u001b[0m \u001b[32m━━━━━━━━━━━━━━━━━━━━\u001b[0m\u001b[37m\u001b[0m \u001b[1m1s\u001b[0m 927us/step - loss: 0.6571 - root_mean_squared_error: 0.3202 - val_loss: 0.7191 - val_root_mean_squared_error: 0.3610\n",
      "Epoch 51/100\n",
      "\u001b[1m1000/1000\u001b[0m \u001b[32m━━━━━━━━━━━━━━━━━━━━\u001b[0m\u001b[37m\u001b[0m \u001b[1m1s\u001b[0m 972us/step - loss: 0.6509 - root_mean_squared_error: 0.3137 - val_loss: 0.7203 - val_root_mean_squared_error: 0.3618\n",
      "Epoch 52/100\n",
      "\u001b[1m1000/1000\u001b[0m \u001b[32m━━━━━━━━━━━━━━━━━━━━\u001b[0m\u001b[37m\u001b[0m \u001b[1m1s\u001b[0m 921us/step - loss: 0.6575 - root_mean_squared_error: 0.3196 - val_loss: 0.7199 - val_root_mean_squared_error: 0.3616\n",
      "Epoch 53/100\n",
      "\u001b[1m1000/1000\u001b[0m \u001b[32m━━━━━━━━━━━━━━━━━━━━\u001b[0m\u001b[37m\u001b[0m \u001b[1m1s\u001b[0m 964us/step - loss: 0.6536 - root_mean_squared_error: 0.3160 - val_loss: 0.7200 - val_root_mean_squared_error: 0.3615\n",
      "Epoch 54/100\n",
      "\u001b[1m1000/1000\u001b[0m \u001b[32m━━━━━━━━━━━━━━━━━━━━\u001b[0m\u001b[37m\u001b[0m \u001b[1m1s\u001b[0m 897us/step - loss: 0.6536 - root_mean_squared_error: 0.3180 - val_loss: 0.7190 - val_root_mean_squared_error: 0.3610\n",
      "Epoch 55/100\n",
      "\u001b[1m1000/1000\u001b[0m \u001b[32m━━━━━━━━━━━━━━━━━━━━\u001b[0m\u001b[37m\u001b[0m \u001b[1m1s\u001b[0m 964us/step - loss: 0.6562 - root_mean_squared_error: 0.3165 - val_loss: 0.7182 - val_root_mean_squared_error: 0.3604\n",
      "Epoch 56/100\n",
      "\u001b[1m1000/1000\u001b[0m \u001b[32m━━━━━━━━━━━━━━━━━━━━\u001b[0m\u001b[37m\u001b[0m \u001b[1m1s\u001b[0m 896us/step - loss: 0.6554 - root_mean_squared_error: 0.3181 - val_loss: 0.7164 - val_root_mean_squared_error: 0.3592\n",
      "Epoch 57/100\n",
      "\u001b[1m1000/1000\u001b[0m \u001b[32m━━━━━━━━━━━━━━━━━━━━\u001b[0m\u001b[37m\u001b[0m \u001b[1m1s\u001b[0m 923us/step - loss: 0.6591 - root_mean_squared_error: 0.3184 - val_loss: 0.7183 - val_root_mean_squared_error: 0.3605\n",
      "Epoch 58/100\n",
      "\u001b[1m1000/1000\u001b[0m \u001b[32m━━━━━━━━━━━━━━━━━━━━\u001b[0m\u001b[37m\u001b[0m \u001b[1m1s\u001b[0m 967us/step - loss: 0.6547 - root_mean_squared_error: 0.3195 - val_loss: 0.7199 - val_root_mean_squared_error: 0.3615\n",
      "Epoch 59/100\n",
      "\u001b[1m1000/1000\u001b[0m \u001b[32m━━━━━━━━━━━━━━━━━━━━\u001b[0m\u001b[37m\u001b[0m \u001b[1m1s\u001b[0m 934us/step - loss: 0.6534 - root_mean_squared_error: 0.3148 - val_loss: 0.7208 - val_root_mean_squared_error: 0.3621\n",
      "Epoch 60/100\n",
      "\u001b[1m1000/1000\u001b[0m \u001b[32m━━━━━━━━━━━━━━━━━━━━\u001b[0m\u001b[37m\u001b[0m \u001b[1m1s\u001b[0m 942us/step - loss: 0.6589 - root_mean_squared_error: 0.3197 - val_loss: 0.7218 - val_root_mean_squared_error: 0.3627\n",
      "Epoch 61/100\n",
      "\u001b[1m1000/1000\u001b[0m \u001b[32m━━━━━━━━━━━━━━━━━━━━\u001b[0m\u001b[37m\u001b[0m \u001b[1m1s\u001b[0m 964us/step - loss: 0.6601 - root_mean_squared_error: 0.3181 - val_loss: 0.7216 - val_root_mean_squared_error: 0.3625\n",
      "Epoch 62/100\n",
      "\u001b[1m1000/1000\u001b[0m \u001b[32m━━━━━━━━━━━━━━━━━━━━\u001b[0m\u001b[37m\u001b[0m \u001b[1m1s\u001b[0m 940us/step - loss: 0.6545 - root_mean_squared_error: 0.3166 - val_loss: 0.7213 - val_root_mean_squared_error: 0.3623\n",
      "Epoch 63/100\n",
      "\u001b[1m1000/1000\u001b[0m \u001b[32m━━━━━━━━━━━━━━━━━━━━\u001b[0m\u001b[37m\u001b[0m \u001b[1m1s\u001b[0m 910us/step - loss: 0.6557 - root_mean_squared_error: 0.3196 - val_loss: 0.7217 - val_root_mean_squared_error: 0.3626\n",
      "Epoch 64/100\n",
      "\u001b[1m1000/1000\u001b[0m \u001b[32m━━━━━━━━━━━━━━━━━━━━\u001b[0m\u001b[37m\u001b[0m \u001b[1m1s\u001b[0m 934us/step - loss: 0.6521 - root_mean_squared_error: 0.3163 - val_loss: 0.7211 - val_root_mean_squared_error: 0.3623\n",
      "Epoch 65/100\n",
      "\u001b[1m1000/1000\u001b[0m \u001b[32m━━━━━━━━━━━━━━━━━━━━\u001b[0m\u001b[37m\u001b[0m \u001b[1m1s\u001b[0m 916us/step - loss: 0.6534 - root_mean_squared_error: 0.3139 - val_loss: 0.7212 - val_root_mean_squared_error: 0.3624\n",
      "Epoch 66/100\n",
      "\u001b[1m1000/1000\u001b[0m \u001b[32m━━━━━━━━━━━━━━━━━━━━\u001b[0m\u001b[37m\u001b[0m \u001b[1m1s\u001b[0m 955us/step - loss: 0.6527 - root_mean_squared_error: 0.3179 - val_loss: 0.7219 - val_root_mean_squared_error: 0.3628\n",
      "Epoch 67/100\n",
      "\u001b[1m1000/1000\u001b[0m \u001b[32m━━━━━━━━━━━━━━━━━━━━\u001b[0m\u001b[37m\u001b[0m \u001b[1m1s\u001b[0m 911us/step - loss: 0.6529 - root_mean_squared_error: 0.3165 - val_loss: 0.7213 - val_root_mean_squared_error: 0.3625\n",
      "Epoch 68/100\n",
      "\u001b[1m1000/1000\u001b[0m \u001b[32m━━━━━━━━━━━━━━━━━━━━\u001b[0m\u001b[37m\u001b[0m \u001b[1m1s\u001b[0m 926us/step - loss: 0.6561 - root_mean_squared_error: 0.3182 - val_loss: 0.7215 - val_root_mean_squared_error: 0.3625\n",
      "Epoch 69/100\n",
      "\u001b[1m1000/1000\u001b[0m \u001b[32m━━━━━━━━━━━━━━━━━━━━\u001b[0m\u001b[37m\u001b[0m \u001b[1m1s\u001b[0m 949us/step - loss: 0.6569 - root_mean_squared_error: 0.3164 - val_loss: 0.7199 - val_root_mean_squared_error: 0.3615\n",
      "Epoch 70/100\n",
      "\u001b[1m1000/1000\u001b[0m \u001b[32m━━━━━━━━━━━━━━━━━━━━\u001b[0m\u001b[37m\u001b[0m \u001b[1m1s\u001b[0m 930us/step - loss: 0.6538 - root_mean_squared_error: 0.3177 - val_loss: 0.7186 - val_root_mean_squared_error: 0.3606\n",
      "Epoch 71/100\n",
      "\u001b[1m1000/1000\u001b[0m \u001b[32m━━━━━━━━━━━━━━━━━━━━\u001b[0m\u001b[37m\u001b[0m \u001b[1m1s\u001b[0m 969us/step - loss: 0.6539 - root_mean_squared_error: 0.3169 - val_loss: 0.7187 - val_root_mean_squared_error: 0.3608\n",
      "Epoch 72/100\n",
      "\u001b[1m1000/1000\u001b[0m \u001b[32m━━━━━━━━━━━━━━━━━━━━\u001b[0m\u001b[37m\u001b[0m \u001b[1m1s\u001b[0m 1ms/step - loss: 0.6513 - root_mean_squared_error: 0.3153 - val_loss: 0.7213 - val_root_mean_squared_error: 0.3623\n",
      "Epoch 73/100\n",
      "\u001b[1m1000/1000\u001b[0m \u001b[32m━━━━━━━━━━━━━━━━━━━━\u001b[0m\u001b[37m\u001b[0m \u001b[1m1s\u001b[0m 902us/step - loss: 0.6525 - root_mean_squared_error: 0.3135 - val_loss: 0.7207 - val_root_mean_squared_error: 0.3620\n",
      "Epoch 74/100\n",
      "\u001b[1m1000/1000\u001b[0m \u001b[32m━━━━━━━━━━━━━━━━━━━━\u001b[0m\u001b[37m\u001b[0m \u001b[1m1s\u001b[0m 912us/step - loss: 0.6514 - root_mean_squared_error: 0.3146 - val_loss: 0.7199 - val_root_mean_squared_error: 0.3615\n",
      "Epoch 75/100\n",
      "\u001b[1m1000/1000\u001b[0m \u001b[32m━━━━━━━━━━━━━━━━━━━━\u001b[0m\u001b[37m\u001b[0m \u001b[1m1s\u001b[0m 926us/step - loss: 0.6553 - root_mean_squared_error: 0.3163 - val_loss: 0.7198 - val_root_mean_squared_error: 0.3614\n",
      "Epoch 76/100\n",
      "\u001b[1m1000/1000\u001b[0m \u001b[32m━━━━━━━━━━━━━━━━━━━━\u001b[0m\u001b[37m\u001b[0m \u001b[1m1s\u001b[0m 953us/step - loss: 0.6539 - root_mean_squared_error: 0.3134 - val_loss: 0.7213 - val_root_mean_squared_error: 0.3623\n",
      "Epoch 77/100\n",
      "\u001b[1m1000/1000\u001b[0m \u001b[32m━━━━━━━━━━━━━━━━━━━━\u001b[0m\u001b[37m\u001b[0m \u001b[1m1s\u001b[0m 906us/step - loss: 0.6529 - root_mean_squared_error: 0.3167 - val_loss: 0.7202 - val_root_mean_squared_error: 0.3616\n",
      "Epoch 78/100\n",
      "\u001b[1m1000/1000\u001b[0m \u001b[32m━━━━━━━━━━━━━━━━━━━━\u001b[0m\u001b[37m\u001b[0m \u001b[1m1s\u001b[0m 941us/step - loss: 0.6508 - root_mean_squared_error: 0.3144 - val_loss: 0.7199 - val_root_mean_squared_error: 0.3614\n",
      "Epoch 79/100\n",
      "\u001b[1m1000/1000\u001b[0m \u001b[32m━━━━━━━━━━━━━━━━━━━━\u001b[0m\u001b[37m\u001b[0m \u001b[1m1s\u001b[0m 934us/step - loss: 0.6562 - root_mean_squared_error: 0.3175 - val_loss: 0.7202 - val_root_mean_squared_error: 0.3616\n",
      "Epoch 80/100\n",
      "\u001b[1m1000/1000\u001b[0m \u001b[32m━━━━━━━━━━━━━━━━━━━━\u001b[0m\u001b[37m\u001b[0m \u001b[1m1s\u001b[0m 931us/step - loss: 0.6555 - root_mean_squared_error: 0.3173 - val_loss: 0.7234 - val_root_mean_squared_error: 0.3636\n",
      "Epoch 81/100\n",
      "\u001b[1m1000/1000\u001b[0m \u001b[32m━━━━━━━━━━━━━━━━━━━━\u001b[0m\u001b[37m\u001b[0m \u001b[1m1s\u001b[0m 897us/step - loss: 0.6531 - root_mean_squared_error: 0.3177 - val_loss: 0.7206 - val_root_mean_squared_error: 0.3618\n",
      "Epoch 82/100\n",
      "\u001b[1m1000/1000\u001b[0m \u001b[32m━━━━━━━━━━━━━━━━━━━━\u001b[0m\u001b[37m\u001b[0m \u001b[1m1s\u001b[0m 910us/step - loss: 0.6580 - root_mean_squared_error: 0.3169 - val_loss: 0.7198 - val_root_mean_squared_error: 0.3612\n",
      "Epoch 83/100\n"
     ]
    },
    {
     "name": "stdout",
     "output_type": "stream",
     "text": [
      "\u001b[1m1000/1000\u001b[0m \u001b[32m━━━━━━━━━━━━━━━━━━━━\u001b[0m\u001b[37m\u001b[0m \u001b[1m1s\u001b[0m 974us/step - loss: 0.6541 - root_mean_squared_error: 0.3161 - val_loss: 0.7197 - val_root_mean_squared_error: 0.3613\n",
      "Epoch 84/100\n",
      "\u001b[1m1000/1000\u001b[0m \u001b[32m━━━━━━━━━━━━━━━━━━━━\u001b[0m\u001b[37m\u001b[0m \u001b[1m1s\u001b[0m 904us/step - loss: 0.6528 - root_mean_squared_error: 0.3138 - val_loss: 0.7188 - val_root_mean_squared_error: 0.3607\n",
      "Epoch 85/100\n",
      "\u001b[1m1000/1000\u001b[0m \u001b[32m━━━━━━━━━━━━━━━━━━━━\u001b[0m\u001b[37m\u001b[0m \u001b[1m1s\u001b[0m 927us/step - loss: 0.6541 - root_mean_squared_error: 0.3167 - val_loss: 0.7184 - val_root_mean_squared_error: 0.3604\n",
      "Epoch 86/100\n",
      "\u001b[1m1000/1000\u001b[0m \u001b[32m━━━━━━━━━━━━━━━━━━━━\u001b[0m\u001b[37m\u001b[0m \u001b[1m1s\u001b[0m 906us/step - loss: 0.6575 - root_mean_squared_error: 0.3158 - val_loss: 0.7199 - val_root_mean_squared_error: 0.3613\n",
      "Epoch 87/100\n",
      "\u001b[1m1000/1000\u001b[0m \u001b[32m━━━━━━━━━━━━━━━━━━━━\u001b[0m\u001b[37m\u001b[0m \u001b[1m1s\u001b[0m 918us/step - loss: 0.6558 - root_mean_squared_error: 0.3173 - val_loss: 0.7217 - val_root_mean_squared_error: 0.3624\n",
      "Epoch 88/100\n",
      "\u001b[1m1000/1000\u001b[0m \u001b[32m━━━━━━━━━━━━━━━━━━━━\u001b[0m\u001b[37m\u001b[0m \u001b[1m1s\u001b[0m 902us/step - loss: 0.6554 - root_mean_squared_error: 0.3158 - val_loss: 0.7218 - val_root_mean_squared_error: 0.3625\n",
      "Epoch 89/100\n",
      "\u001b[1m1000/1000\u001b[0m \u001b[32m━━━━━━━━━━━━━━━━━━━━\u001b[0m\u001b[37m\u001b[0m \u001b[1m1s\u001b[0m 979us/step - loss: 0.6525 - root_mean_squared_error: 0.3167 - val_loss: 0.7211 - val_root_mean_squared_error: 0.3620\n",
      "Epoch 90/100\n",
      "\u001b[1m1000/1000\u001b[0m \u001b[32m━━━━━━━━━━━━━━━━━━━━\u001b[0m\u001b[37m\u001b[0m \u001b[1m1s\u001b[0m 992us/step - loss: 0.6515 - root_mean_squared_error: 0.3135 - val_loss: 0.7210 - val_root_mean_squared_error: 0.3620\n",
      "Epoch 91/100\n",
      "\u001b[1m1000/1000\u001b[0m \u001b[32m━━━━━━━━━━━━━━━━━━━━\u001b[0m\u001b[37m\u001b[0m \u001b[1m1s\u001b[0m 996us/step - loss: 0.6565 - root_mean_squared_error: 0.3210 - val_loss: 0.7223 - val_root_mean_squared_error: 0.3628\n",
      "Epoch 92/100\n",
      "\u001b[1m1000/1000\u001b[0m \u001b[32m━━━━━━━━━━━━━━━━━━━━\u001b[0m\u001b[37m\u001b[0m \u001b[1m1s\u001b[0m 966us/step - loss: 0.6517 - root_mean_squared_error: 0.3152 - val_loss: 0.7231 - val_root_mean_squared_error: 0.3633\n",
      "Epoch 93/100\n",
      "\u001b[1m1000/1000\u001b[0m \u001b[32m━━━━━━━━━━━━━━━━━━━━\u001b[0m\u001b[37m\u001b[0m \u001b[1m1s\u001b[0m 929us/step - loss: 0.6526 - root_mean_squared_error: 0.3151 - val_loss: 0.7221 - val_root_mean_squared_error: 0.3628\n",
      "Epoch 94/100\n",
      "\u001b[1m1000/1000\u001b[0m \u001b[32m━━━━━━━━━━━━━━━━━━━━\u001b[0m\u001b[37m\u001b[0m \u001b[1m1s\u001b[0m 902us/step - loss: 0.6547 - root_mean_squared_error: 0.3158 - val_loss: 0.7233 - val_root_mean_squared_error: 0.3635\n",
      "Epoch 95/100\n",
      "\u001b[1m1000/1000\u001b[0m \u001b[32m━━━━━━━━━━━━━━━━━━━━\u001b[0m\u001b[37m\u001b[0m \u001b[1m1s\u001b[0m 876us/step - loss: 0.6556 - root_mean_squared_error: 0.3204 - val_loss: 0.7217 - val_root_mean_squared_error: 0.3625\n",
      "Epoch 96/100\n",
      "\u001b[1m1000/1000\u001b[0m \u001b[32m━━━━━━━━━━━━━━━━━━━━\u001b[0m\u001b[37m\u001b[0m \u001b[1m1s\u001b[0m 879us/step - loss: 0.6554 - root_mean_squared_error: 0.3149 - val_loss: 0.7222 - val_root_mean_squared_error: 0.3628\n",
      "Epoch 97/100\n",
      "\u001b[1m1000/1000\u001b[0m \u001b[32m━━━━━━━━━━━━━━━━━━━━\u001b[0m\u001b[37m\u001b[0m \u001b[1m1s\u001b[0m 955us/step - loss: 0.6539 - root_mean_squared_error: 0.3134 - val_loss: 0.7230 - val_root_mean_squared_error: 0.3634\n",
      "Epoch 98/100\n",
      "\u001b[1m1000/1000\u001b[0m \u001b[32m━━━━━━━━━━━━━━━━━━━━\u001b[0m\u001b[37m\u001b[0m \u001b[1m1s\u001b[0m 896us/step - loss: 0.6525 - root_mean_squared_error: 0.3147 - val_loss: 0.7222 - val_root_mean_squared_error: 0.3629\n",
      "Epoch 99/100\n",
      "\u001b[1m1000/1000\u001b[0m \u001b[32m━━━━━━━━━━━━━━━━━━━━\u001b[0m\u001b[37m\u001b[0m \u001b[1m1s\u001b[0m 953us/step - loss: 0.6547 - root_mean_squared_error: 0.3204 - val_loss: 0.7220 - val_root_mean_squared_error: 0.3628\n",
      "Epoch 100/100\n",
      "\u001b[1m1000/1000\u001b[0m \u001b[32m━━━━━━━━━━━━━━━━━━━━\u001b[0m\u001b[37m\u001b[0m \u001b[1m1s\u001b[0m 1ms/step - loss: 0.6560 - root_mean_squared_error: 0.3180 - val_loss: 0.7224 - val_root_mean_squared_error: 0.3630\n"
     ]
    }
   ],
   "source": [
    "history = model.fit(\n",
    "    x = x_train,\n",
    "    y = y_train,\n",
    "    batch_size = 8,\n",
    "    epochs = 100,\n",
    "    validation_data = (x_val, y_val),\n",
    ")"
   ]
  },
  {
   "cell_type": "code",
   "execution_count": 74,
   "id": "4a16ec41",
   "metadata": {
    "execution": {
     "iopub.execute_input": "2023-03-06T14:03:46.290804Z",
     "iopub.status.busy": "2023-03-06T14:03:46.290394Z",
     "iopub.status.idle": "2023-03-06T14:03:46.548145Z",
     "shell.execute_reply": "2023-03-06T14:03:46.547053Z",
     "shell.execute_reply.started": "2023-03-06T14:03:46.290765Z"
    },
    "papermill": {
     "duration": null,
     "end_time": null,
     "exception": null,
     "start_time": null,
     "status": "pending"
    },
    "tags": []
   },
   "outputs": [
    {
     "data": {
      "image/png": "[encoded data removed]",
      "text/plain": [
       "<Figure size 640x480 with 1 Axes>"
      ]
     },
     "metadata": {},
     "output_type": "display_data"
    }
   ],
   "source": [
    "plt.plot(history.history['root_mean_squared_error'])\n",
    "plt.plot(history.history['val_root_mean_squared_error'])\n",
    "plt.title('model_metrics')\n",
    "plt.ylabel('root_mean_squared_error')\n",
    "plt.xlabel('epoch')\n",
    "plt.legend(['train', 'test'], loc='upper left')\n",
    "plt.show()"
   ]
  },
  {
   "cell_type": "markdown",
   "id": "51489ec8",
   "metadata": {
    "papermill": {
     "duration": null,
     "end_time": null,
     "exception": null,
     "start_time": null,
     "status": "pending"
    },
    "tags": []
   },
   "source": [
    "# Recommendation"
   ]
  },
  {
   "cell_type": "code",
   "execution_count": 75,
   "id": "ac355e38",
   "metadata": {
    "execution": {
     "iopub.execute_input": "2023-03-06T14:03:46.550496Z",
     "iopub.status.busy": "2023-03-06T14:03:46.549682Z",
     "iopub.status.idle": "2023-03-06T14:03:46.572373Z",
     "shell.execute_reply": "2023-03-06T14:03:46.570789Z",
     "shell.execute_reply.started": "2023-03-06T14:03:46.550454Z"
    },
    "papermill": {
     "duration": null,
     "end_time": null,
     "exception": null,
     "start_time": null,
     "status": "pending"
    },
    "tags": []
   },
   "outputs": [],
   "source": [
    "place_df = tourism_new\n",
    "df = pd.read_csv(f'{DATA_PATH}/tourism_rating.csv')\n",
    "\n",
    "user_id = df.User_Id.sample(1).iloc[0]\n",
    "place_visited_by_user = df[df.User_Id == user_id]\n",
    "\n",
    "place_not_visited = place_df[~place_df['id'].isin(place_visited_by_user['Place_Id'].values)]['id'] \n",
    "place_not_visited = list(\n",
    "    set(place_not_visited)\n",
    "    .intersection(set(place_to_place_encoded.keys()))\n",
    ")\n",
    " \n",
    "place_not_visited = [[place_to_place_encoded.get(x)] for x in place_not_visited]\n",
    "user_encoder = user_to_user_encoded.get(user_id)\n",
    "user_place_array = np.hstack(\n",
    "    ([[user_encoder]] * len(place_not_visited), place_not_visited)\n",
    ")"
   ]
  },
  {
   "cell_type": "code",
   "execution_count": 76,
   "id": "44d64c15",
   "metadata": {
    "execution": {
     "iopub.execute_input": "2023-03-06T14:03:46.578071Z",
     "iopub.status.busy": "2023-03-06T14:03:46.575818Z",
     "iopub.status.idle": "2023-03-06T14:03:46.777325Z",
     "shell.execute_reply": "2023-03-06T14:03:46.776213Z",
     "shell.execute_reply.started": "2023-03-06T14:03:46.578030Z"
    },
    "papermill": {
     "duration": null,
     "end_time": null,
     "exception": null,
     "start_time": null,
     "status": "pending"
    },
    "tags": []
   },
   "outputs": [
    {
     "name": "stdout",
     "output_type": "stream",
     "text": [
      "\u001b[1m13/13\u001b[0m \u001b[32m━━━━━━━━━━━━━━━━━━━━\u001b[0m\u001b[37m\u001b[0m \u001b[1m0s\u001b[0m 6ms/step\n",
      "Showing recommendations for users: 197\n",
      "===========================\n",
      "Place with high ratings from user\n",
      "--------------------------------\n"
     ]
    },
    {
     "data": {
      "text/html": [
       "<div>\n",
       "<style scoped>\n",
       "    .dataframe tbody tr th:only-of-type {\n",
       "        vertical-align: middle;\n",
       "    }\n",
       "\n",
       "    .dataframe tbody tr th {\n",
       "        vertical-align: top;\n",
       "    }\n",
       "\n",
       "    .dataframe thead th {\n",
       "        text-align: right;\n",
       "    }\n",
       "</style>\n",
       "<table border=\"1\" class=\"dataframe\">\n",
       "  <thead>\n",
       "    <tr style=\"text-align: right;\">\n",
       "      <th></th>\n",
       "      <th>id</th>\n",
       "      <th>name</th>\n",
       "      <th>category</th>\n",
       "      <th>description</th>\n",
       "      <th>city</th>\n",
       "      <th>city_category</th>\n",
       "    </tr>\n",
       "  </thead>\n",
       "  <tbody>\n",
       "    <tr>\n",
       "      <th>80</th>\n",
       "      <td>198</td>\n",
       "      <td>Pantai Greweng</td>\n",
       "      <td>Bahari</td>\n",
       "      <td>Di Kabupaten Gunungkidul, tidak sulit memilih ...</td>\n",
       "      <td>Yogyakarta</td>\n",
       "      <td>Yogyakarta Bahari</td>\n",
       "    </tr>\n",
       "    <tr>\n",
       "      <th>106</th>\n",
       "      <td>300</td>\n",
       "      <td>Sanghyang Heuleut</td>\n",
       "      <td>Cagar Alam</td>\n",
       "      <td>Danau yang satu ini memiliki air jernih bernua...</td>\n",
       "      <td>Bandung</td>\n",
       "      <td>Bandung Cagar Alam</td>\n",
       "    </tr>\n",
       "    <tr>\n",
       "      <th>222</th>\n",
       "      <td>429</td>\n",
       "      <td>House of Sampoerna</td>\n",
       "      <td>Budaya</td>\n",
       "      <td>House of Sampoerna adalah sebuah museum tembak...</td>\n",
       "      <td>Surabaya</td>\n",
       "      <td>Surabaya Budaya</td>\n",
       "    </tr>\n",
       "    <tr>\n",
       "      <th>351</th>\n",
       "      <td>299</td>\n",
       "      <td>Sendang Geulis Kahuripan</td>\n",
       "      <td>Cagar Alam</td>\n",
       "      <td>Wilayah ini lebih tepatnya berada di RPH Cikal...</td>\n",
       "      <td>Bandung</td>\n",
       "      <td>Bandung Cagar Alam</td>\n",
       "    </tr>\n",
       "    <tr>\n",
       "      <th>355</th>\n",
       "      <td>423</td>\n",
       "      <td>Patung Sura dan Buaya</td>\n",
       "      <td>Budaya</td>\n",
       "      <td>Patung Sura dan Baya (Jawa: Patung Suro lan Bo...</td>\n",
       "      <td>Surabaya</td>\n",
       "      <td>Surabaya Budaya</td>\n",
       "    </tr>\n",
       "  </tbody>\n",
       "</table>\n",
       "</div>"
      ],
      "text/plain": [
       "      id                      name    category  \\\n",
       "80   198            Pantai Greweng      Bahari   \n",
       "106  300         Sanghyang Heuleut  Cagar Alam   \n",
       "222  429        House of Sampoerna      Budaya   \n",
       "351  299  Sendang Geulis Kahuripan  Cagar Alam   \n",
       "355  423     Patung Sura dan Buaya      Budaya   \n",
       "\n",
       "                                           description        city  \\\n",
       "80   Di Kabupaten Gunungkidul, tidak sulit memilih ...  Yogyakarta   \n",
       "106  Danau yang satu ini memiliki air jernih bernua...     Bandung   \n",
       "222  House of Sampoerna adalah sebuah museum tembak...    Surabaya   \n",
       "351  Wilayah ini lebih tepatnya berada di RPH Cikal...     Bandung   \n",
       "355  Patung Sura dan Baya (Jawa: Patung Suro lan Bo...    Surabaya   \n",
       "\n",
       "          city_category  \n",
       "80    Yogyakarta Bahari  \n",
       "106  Bandung Cagar Alam  \n",
       "222     Surabaya Budaya  \n",
       "351  Bandung Cagar Alam  \n",
       "355     Surabaya Budaya  "
      ]
     },
     "execution_count": 76,
     "metadata": {},
     "output_type": "execute_result"
    }
   ],
   "source": [
    "ratings = model.predict(user_place_array).flatten()\n",
    " \n",
    "top_ratings_indices = ratings.argsort()[-10:][::-1]\n",
    "recommended_place_ids = [\n",
    "    place_encoded_to_place.get(place_not_visited[x][0]) for x in top_ratings_indices\n",
    "]\n",
    " \n",
    "print('Showing recommendations for users: {}'.format(user_id))\n",
    "print('===' * 9)\n",
    "print('Place with high ratings from user')\n",
    "print('----' * 8)\n",
    " \n",
    "top_place_user = (\n",
    "    place_visited_by_user.sort_values(\n",
    "        by = 'Place_Ratings',\n",
    "        ascending=False\n",
    "    )\n",
    "    .head(5)\n",
    "    .Place_Id.values\n",
    ")\n",
    " \n",
    "place_df_rows = place_df[place_df['id'].isin(top_place_user)]\n",
    "pd.DataFrame(place_df_rows)"
   ]
  },
  {
   "cell_type": "code",
   "execution_count": 77,
   "id": "3d03caa3",
   "metadata": {
    "execution": {
     "iopub.execute_input": "2023-03-06T14:03:46.779534Z",
     "iopub.status.busy": "2023-03-06T14:03:46.778842Z",
     "iopub.status.idle": "2023-03-06T14:03:46.798966Z",
     "shell.execute_reply": "2023-03-06T14:03:46.797915Z",
     "shell.execute_reply.started": "2023-03-06T14:03:46.779492Z"
    },
    "papermill": {
     "duration": null,
     "end_time": null,
     "exception": null,
     "start_time": null,
     "status": "pending"
    },
    "tags": []
   },
   "outputs": [
    {
     "name": "stdout",
     "output_type": "stream",
     "text": [
      "--------------------------------\n",
      "Top 10 place recommendation\n",
      "--------------------------------\n"
     ]
    },
    {
     "data": {
      "text/html": [
       "<div>\n",
       "<style scoped>\n",
       "    .dataframe tbody tr th:only-of-type {\n",
       "        vertical-align: middle;\n",
       "    }\n",
       "\n",
       "    .dataframe tbody tr th {\n",
       "        vertical-align: top;\n",
       "    }\n",
       "\n",
       "    .dataframe thead th {\n",
       "        text-align: right;\n",
       "    }\n",
       "</style>\n",
       "<table border=\"1\" class=\"dataframe\">\n",
       "  <thead>\n",
       "    <tr style=\"text-align: right;\">\n",
       "      <th></th>\n",
       "      <th>id</th>\n",
       "      <th>name</th>\n",
       "      <th>category</th>\n",
       "      <th>description</th>\n",
       "      <th>city</th>\n",
       "      <th>city_category</th>\n",
       "    </tr>\n",
       "  </thead>\n",
       "  <tbody>\n",
       "    <tr>\n",
       "      <th>16</th>\n",
       "      <td>67</td>\n",
       "      <td>Margasatwa Muara Angke</td>\n",
       "      <td>Cagar Alam</td>\n",
       "      <td>Suaka margasatwa Muara Angke adalah sebuah kaw...</td>\n",
       "      <td>Jakarta</td>\n",
       "      <td>Jakarta Cagar Alam</td>\n",
       "    </tr>\n",
       "    <tr>\n",
       "      <th>93</th>\n",
       "      <td>44</td>\n",
       "      <td>Monumen Selamat Datang</td>\n",
       "      <td>Budaya</td>\n",
       "      <td>Monumen Selamat Datang adalah sebuah monumen y...</td>\n",
       "      <td>Jakarta</td>\n",
       "      <td>Jakarta Budaya</td>\n",
       "    </tr>\n",
       "    <tr>\n",
       "      <th>187</th>\n",
       "      <td>416</td>\n",
       "      <td>Keraton Surabaya</td>\n",
       "      <td>Budaya</td>\n",
       "      <td>Kawasan yang berjuluk Kampung Keraton ini terd...</td>\n",
       "      <td>Surabaya</td>\n",
       "      <td>Surabaya Budaya</td>\n",
       "    </tr>\n",
       "    <tr>\n",
       "      <th>195</th>\n",
       "      <td>36</td>\n",
       "      <td>Skyrink - Mall Taman Anggrek</td>\n",
       "      <td>Taman Hiburan</td>\n",
       "      <td>Salah satu arena ice skating Jakarta adalah Ic...</td>\n",
       "      <td>Jakarta</td>\n",
       "      <td>Jakarta Taman Hiburan</td>\n",
       "    </tr>\n",
       "    <tr>\n",
       "      <th>235</th>\n",
       "      <td>52</td>\n",
       "      <td>Kampung Cina</td>\n",
       "      <td>Budaya</td>\n",
       "      <td>KAMPUNG China adalah hunian dan kawasan perdag...</td>\n",
       "      <td>Jakarta</td>\n",
       "      <td>Jakarta Budaya</td>\n",
       "    </tr>\n",
       "    <tr>\n",
       "      <th>308</th>\n",
       "      <td>34</td>\n",
       "      <td>Pasar Taman Puring</td>\n",
       "      <td>Pusat Perbelanjaan</td>\n",
       "      <td>Taman Puring bukanlah taman secara harfiah. Se...</td>\n",
       "      <td>Jakarta</td>\n",
       "      <td>Jakarta Pusat Perbelanjaan</td>\n",
       "    </tr>\n",
       "    <tr>\n",
       "      <th>341</th>\n",
       "      <td>60</td>\n",
       "      <td>Museum Tekstil</td>\n",
       "      <td>Budaya</td>\n",
       "      <td>Museum cinta Tekstil menempati gedung tua di J...</td>\n",
       "      <td>Jakarta</td>\n",
       "      <td>Jakarta Budaya</td>\n",
       "    </tr>\n",
       "    <tr>\n",
       "      <th>384</th>\n",
       "      <td>157</td>\n",
       "      <td>Pantai Baron</td>\n",
       "      <td>Bahari</td>\n",
       "      <td>Pantai Baron adalah salah satu objek wisata be...</td>\n",
       "      <td>Yogyakarta</td>\n",
       "      <td>Yogyakarta Bahari</td>\n",
       "    </tr>\n",
       "    <tr>\n",
       "      <th>422</th>\n",
       "      <td>232</td>\n",
       "      <td>Bukit Moko</td>\n",
       "      <td>Cagar Alam</td>\n",
       "      <td>Bandung sebagai destinasi wisata tak pernah ad...</td>\n",
       "      <td>Bandung</td>\n",
       "      <td>Bandung Cagar Alam</td>\n",
       "    </tr>\n",
       "    <tr>\n",
       "      <th>428</th>\n",
       "      <td>51</td>\n",
       "      <td>Jakarta Planetarium</td>\n",
       "      <td>Taman Hiburan</td>\n",
       "      <td>Planetarium dan Observatorium Jakarta adalah s...</td>\n",
       "      <td>Jakarta</td>\n",
       "      <td>Jakarta Taman Hiburan</td>\n",
       "    </tr>\n",
       "  </tbody>\n",
       "</table>\n",
       "</div>"
      ],
      "text/plain": [
       "      id                          name            category  \\\n",
       "16    67        Margasatwa Muara Angke          Cagar Alam   \n",
       "93    44        Monumen Selamat Datang              Budaya   \n",
       "187  416              Keraton Surabaya              Budaya   \n",
       "195   36  Skyrink - Mall Taman Anggrek       Taman Hiburan   \n",
       "235   52                  Kampung Cina              Budaya   \n",
       "308   34            Pasar Taman Puring  Pusat Perbelanjaan   \n",
       "341   60                Museum Tekstil              Budaya   \n",
       "384  157                  Pantai Baron              Bahari   \n",
       "422  232                    Bukit Moko          Cagar Alam   \n",
       "428   51           Jakarta Planetarium       Taman Hiburan   \n",
       "\n",
       "                                           description        city  \\\n",
       "16   Suaka margasatwa Muara Angke adalah sebuah kaw...     Jakarta   \n",
       "93   Monumen Selamat Datang adalah sebuah monumen y...     Jakarta   \n",
       "187  Kawasan yang berjuluk Kampung Keraton ini terd...    Surabaya   \n",
       "195  Salah satu arena ice skating Jakarta adalah Ic...     Jakarta   \n",
       "235  KAMPUNG China adalah hunian dan kawasan perdag...     Jakarta   \n",
       "308  Taman Puring bukanlah taman secara harfiah. Se...     Jakarta   \n",
       "341  Museum cinta Tekstil menempati gedung tua di J...     Jakarta   \n",
       "384  Pantai Baron adalah salah satu objek wisata be...  Yogyakarta   \n",
       "422  Bandung sebagai destinasi wisata tak pernah ad...     Bandung   \n",
       "428  Planetarium dan Observatorium Jakarta adalah s...     Jakarta   \n",
       "\n",
       "                  city_category  \n",
       "16           Jakarta Cagar Alam  \n",
       "93               Jakarta Budaya  \n",
       "187             Surabaya Budaya  \n",
       "195       Jakarta Taman Hiburan  \n",
       "235              Jakarta Budaya  \n",
       "308  Jakarta Pusat Perbelanjaan  \n",
       "341              Jakarta Budaya  \n",
       "384           Yogyakarta Bahari  \n",
       "422          Bandung Cagar Alam  \n",
       "428       Jakarta Taman Hiburan  "
      ]
     },
     "execution_count": 77,
     "metadata": {},
     "output_type": "execute_result"
    }
   ],
   "source": [
    "print('----' * 8)\n",
    "print('Top 10 place recommendation')\n",
    "print('----' * 8)\n",
    " \n",
    "recommended_place = place_df[place_df['id'].isin(recommended_place_ids)]\n",
    "recommended_place"
   ]
  },
  {
   "cell_type": "code",
   "execution_count": null,
   "id": "e8740e04",
   "metadata": {},
   "outputs": [],
   "source": []
  }
 ],
 "metadata": {
  "kernelspec": {
   "display_name": "Python 3 (ipykernel)",
   "language": "python",
   "name": "python3"
  },
  "language_info": {
   "codemirror_mode": {
    "name": "ipython",
    "version": 3
   },
   "file_extension": ".py",
   "mimetype": "text/x-python",
   "name": "python",
   "nbconvert_exporter": "python",
   "pygments_lexer": "ipython3",
   "version": "3.11.5"
  },
  "papermill": {
   "default_parameters": {},
   "duration": 10.719654,
   "end_time": "2023-03-06T14:16:41.617982",
   "environment_variables": {},
   "exception": true,
   "input_path": "__notebook__.ipynb",
   "output_path": "__notebook__.ipynb",
   "parameters": {},
   "start_time": "2023-03-06T14:16:30.898328",
   "version": "2.3.4"
  }
 },
 "nbformat": 4,
 "nbformat_minor": 5
}
